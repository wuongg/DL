{
  "nbformat": 4,
  "nbformat_minor": 0,
  "metadata": {
    "colab": {
      "provenance": []
    },
    "kernelspec": {
      "name": "python3",
      "display_name": "Python 3"
    },
    "language_info": {
      "name": "python"
    }
  },
  "cells": [
    {
      "cell_type": "code",
      "execution_count": null,
      "metadata": {
        "id": "E5kJK6Chw_YT"
      },
      "outputs": [],
      "source": [
        "from sklearn.datasets import load_iris\n",
        "from sklearn.model_selection import train_test_split"
      ]
    },
    {
      "cell_type": "code",
      "source": [
        "data = load_iris()\n",
        "X_train, X_test, Y_train, Y_test = train_test_split(data.data, data.target, test_size=0.4, random_state=42)"
      ],
      "metadata": {
        "id": "Yz4gL-xPxPYk"
      },
      "execution_count": null,
      "outputs": []
    },
    {
      "cell_type": "code",
      "source": [
        "X_val,X_test,Y_val,Y_test = train_test_split(X_test,Y_test,test_size=0.5,random_state=42)"
      ],
      "metadata": {
        "id": "OMgta3NOxZpP"
      },
      "execution_count": null,
      "outputs": []
    },
    {
      "cell_type": "code",
      "source": [
        "from sklearn.preprocessing import StandardScaler\n",
        "scaler = StandardScaler()\n",
        "X_train = scaler.fit_transform(X_train)\n",
        "X_val = scaler.transform(X_val)\n",
        "X_test = scaler.transform(X_test)"
      ],
      "metadata": {
        "id": "SASdal-lxrYz"
      },
      "execution_count": null,
      "outputs": []
    },
    {
      "cell_type": "code",
      "source": [
        "import torch"
      ],
      "metadata": {
        "id": "uxgN-lo2xhdV"
      },
      "execution_count": null,
      "outputs": []
    },
    {
      "cell_type": "code",
      "source": [
        "device = torch.device(\"cuda\" if torch.cuda.is_available() else \"cpu\")"
      ],
      "metadata": {
        "id": "JcBFH6X_yXAb"
      },
      "execution_count": null,
      "outputs": []
    },
    {
      "cell_type": "code",
      "source": [
        "from re import X\n",
        "X_train = torch.tensor(X_train,dtype=torch.float32)\n",
        "X_val = torch.tensor(X_val,dtype=torch.float32)\n",
        "X_test = torch.tensor(X_test,dtype=torch.float32)\n",
        "Y_train = torch.tensor(Y_train)\n",
        "Y_val = torch.tensor(Y_val)\n",
        "Y_test = torch.tensor(Y_test)\n",
        "X_train = X_train.to(device)\n",
        "X_val = X_val.to(device)\n",
        "X_test = X_test.to(device)\n",
        "Y_train = Y_train.to(device)\n",
        "Y_val = Y_val.to(device)\n",
        "Y_test = Y_test.to(device)"
      ],
      "metadata": {
        "id": "Fq-mimx6x0Fy"
      },
      "execution_count": null,
      "outputs": []
    },
    {
      "cell_type": "code",
      "source": [
        "model = torch.nn.Sequential(\n",
        "    torch.nn.Linear(4,8),\n",
        "    torch.nn.Linear(8,8),\n",
        "    torch.nn.ReLU(),\n",
        "    torch.nn.Linear(8,3)\n",
        ")\n",
        "model = model.to(device)\n",
        "loss = torch.nn.CrossEntropyLoss()\n",
        "optimizer = torch.optim.NAdam(model.parameters(),lr=0.01)"
      ],
      "metadata": {
        "id": "1_Q3JnWVxlsn"
      },
      "execution_count": null,
      "outputs": []
    },
    {
      "cell_type": "code",
      "source": [
        "def evaluate(model, X_val,Y_val):\n",
        "  model.eval()\n",
        "  with torch.no_grad():\n",
        "    Y_pred = model(X_val)\n",
        "  Y_pred = torch.argmax(Y_pred,dim=1)\n",
        "  return sum(Y_pred == Y_val)/len(Y_val)"
      ],
      "metadata": {
        "id": "_In_5HynyQFn"
      },
      "execution_count": null,
      "outputs": []
    },
    {
      "cell_type": "code",
      "source": [
        "max_epoch = 20\n",
        "losses = []\n",
        "for epoch in range(max_epoch):\n",
        "  epoch_loss = []\n",
        "  for x_train,y_train in zip(X_train,Y_train):\n",
        "    x_train = x_train.to(device)\n",
        "    y_train = y_train.to(device)\n",
        "    optimizer.zero_grad()\n",
        "    y_pred = model(x_train)\n",
        "    loss_value = loss(y_pred,y_train)\n",
        "    epoch_loss.append(loss_value.item())\n",
        "    loss_value.backward()\n",
        "    optimizer.step()\n",
        "  avg_loss = sum(epoch_loss)/len(epoch_loss)\n",
        "  losses.append(avg_loss)\n",
        "  acc = evaluate(model,X_val,Y_val)\n",
        "  print(f\"Epoch[{epoch+1}/{max_epoch}], avg_loss : {avg_loss}, Accuracy_val: {acc}\")\n"
      ],
      "metadata": {
        "colab": {
          "base_uri": "https://localhost:8080/"
        },
        "id": "tGMreLeBySMU",
        "outputId": "9a9bb637-2282-4822-df03-90a0ee8be0c8"
      },
      "execution_count": null,
      "outputs": [
        {
          "output_type": "stream",
          "name": "stdout",
          "text": [
            "Epoch[1/20], avg_loss : 0.6465594552353853, Accuracy_val: 0.8999999761581421\n",
            "Epoch[2/20], avg_loss : 0.2770609828276469, Accuracy_val: 0.9666666388511658\n",
            "Epoch[3/20], avg_loss : 0.15187056716151548, Accuracy_val: 1.0\n",
            "Epoch[4/20], avg_loss : 0.11506682384044527, Accuracy_val: 1.0\n",
            "Epoch[5/20], avg_loss : 0.10090616687210867, Accuracy_val: 1.0\n",
            "Epoch[6/20], avg_loss : 0.09317987881233118, Accuracy_val: 1.0\n",
            "Epoch[7/20], avg_loss : 0.08694786684076866, Accuracy_val: 1.0\n",
            "Epoch[8/20], avg_loss : 0.08201448643711286, Accuracy_val: 1.0\n",
            "Epoch[9/20], avg_loss : 0.07867887225188844, Accuracy_val: 1.0\n",
            "Epoch[10/20], avg_loss : 0.07571352213532323, Accuracy_val: 1.0\n",
            "Epoch[11/20], avg_loss : 0.07294230908300889, Accuracy_val: 1.0\n",
            "Epoch[12/20], avg_loss : 0.07114405926018187, Accuracy_val: 1.0\n",
            "Epoch[13/20], avg_loss : 0.07029419586354327, Accuracy_val: 1.0\n",
            "Epoch[14/20], avg_loss : 0.07023936839591877, Accuracy_val: 1.0\n",
            "Epoch[15/20], avg_loss : 0.07135033673536219, Accuracy_val: 1.0\n",
            "Epoch[16/20], avg_loss : 0.07247443737342307, Accuracy_val: 1.0\n",
            "Epoch[17/20], avg_loss : 0.07364127058997368, Accuracy_val: 1.0\n",
            "Epoch[18/20], avg_loss : 0.07444034084293247, Accuracy_val: 1.0\n",
            "Epoch[19/20], avg_loss : 0.07506584009274167, Accuracy_val: 1.0\n",
            "Epoch[20/20], avg_loss : 0.07511812394395945, Accuracy_val: 1.0\n"
          ]
        }
      ]
    },
    {
      "cell_type": "code",
      "source": [
        "model.eval()\n",
        "with torch.no_grad():\n",
        "  Y_pred = model(X_test)\n",
        "Y_pred = torch.argmax(Y_pred,dim=1)\n",
        "print(sum(Y_pred == Y_test)/len(Y_test))"
      ],
      "metadata": {
        "colab": {
          "base_uri": "https://localhost:8080/"
        },
        "id": "2HPU2vgc3XGP",
        "outputId": "88a4ce29-630d-43bb-8dea-301120009e45"
      },
      "execution_count": null,
      "outputs": [
        {
          "output_type": "stream",
          "name": "stdout",
          "text": [
            "tensor(0.9667)\n"
          ]
        }
      ]
    }
  ]
}