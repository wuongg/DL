{
  "nbformat": 4,
  "nbformat_minor": 0,
  "metadata": {
    "colab": {
      "provenance": [],
      "toc_visible": true,
      "gpuType": "T4"
    },
    "kernelspec": {
      "name": "python3",
      "display_name": "Python 3"
    },
    "language_info": {
      "name": "python"
    },
    "accelerator": "GPU"
  },
  "cells": [
    {
      "cell_type": "markdown",
      "source": [
        "#Advanced CNN"
      ],
      "metadata": {
        "id": "3KXOI_6AQiRo"
      }
    },
    {
      "cell_type": "markdown",
      "source": [
        "##**1. Batch Normalization**"
      ],
      "metadata": {
        "id": "4Hvpv9svQnPH"
      }
    },
    {
      "cell_type": "code",
      "execution_count": null,
      "metadata": {
        "colab": {
          "base_uri": "https://localhost:8080/"
        },
        "id": "3WKFQGtsOjNe",
        "outputId": "c33884fd-d53f-4fbd-8b0a-2fc75ff9f63f"
      },
      "outputs": [
        {
          "output_type": "execute_result",
          "data": {
            "text/plain": [
              "<torch._C.Generator at 0x7b70bafa4250>"
            ]
          },
          "metadata": {},
          "execution_count": 66
        }
      ],
      "source": [
        "import torch\n",
        "import torch.nn as nn\n",
        "\n",
        "torch.manual_seed(42)"
      ]
    },
    {
      "cell_type": "markdown",
      "source": [
        "###**BatchNorm1d**"
      ],
      "metadata": {
        "id": "L26H7Zhv69nT"
      }
    },
    {
      "cell_type": "markdown",
      "source": [
        "**Example 1**"
      ],
      "metadata": {
        "id": "Ra15O072TFSX"
      }
    },
    {
      "cell_type": "code",
      "source": [
        "input = torch.randint(5, (4, 3), dtype=torch.float32)\n",
        "input"
      ],
      "metadata": {
        "colab": {
          "base_uri": "https://localhost:8080/"
        },
        "id": "YsJ51RAROr5K",
        "outputId": "39672172-c552-42e4-c53f-a66022dae611"
      },
      "execution_count": null,
      "outputs": [
        {
          "output_type": "execute_result",
          "data": {
            "text/plain": [
              "tensor([[2., 2., 1.],\n",
              "        [4., 1., 0.],\n",
              "        [0., 4., 0.],\n",
              "        [3., 3., 4.]])"
            ]
          },
          "metadata": {},
          "execution_count": 67
        }
      ]
    },
    {
      "cell_type": "code",
      "source": [
        "batch_norm_layer = nn.BatchNorm1d(num_features=3)"
      ],
      "metadata": {
        "id": "JoyfhoYZOr7P"
      },
      "execution_count": null,
      "outputs": []
    },
    {
      "cell_type": "code",
      "source": [
        "batch_norm_layer.weight"
      ],
      "metadata": {
        "colab": {
          "base_uri": "https://localhost:8080/"
        },
        "id": "hhkPoUaCedKr",
        "outputId": "aad374bc-f4f0-4810-a861-c3cd1565413c"
      },
      "execution_count": null,
      "outputs": [
        {
          "output_type": "execute_result",
          "data": {
            "text/plain": [
              "Parameter containing:\n",
              "tensor([1., 1., 1.], requires_grad=True)"
            ]
          },
          "metadata": {},
          "execution_count": 69
        }
      ]
    },
    {
      "cell_type": "code",
      "source": [
        "batch_norm_layer.bias"
      ],
      "metadata": {
        "colab": {
          "base_uri": "https://localhost:8080/"
        },
        "id": "STuuvyXYeruB",
        "outputId": "aaa0d134-830c-4ccc-c50f-a4d47f1bfd43"
      },
      "execution_count": null,
      "outputs": [
        {
          "output_type": "execute_result",
          "data": {
            "text/plain": [
              "Parameter containing:\n",
              "tensor([0., 0., 0.], requires_grad=True)"
            ]
          },
          "metadata": {},
          "execution_count": 70
        }
      ]
    },
    {
      "cell_type": "code",
      "source": [
        "output = batch_norm_layer(input)\n",
        "output"
      ],
      "metadata": {
        "colab": {
          "base_uri": "https://localhost:8080/"
        },
        "id": "QPL5GGg8Siga",
        "outputId": "a97a4399-3e51-4842-fb27-bef5c8f9f239"
      },
      "execution_count": null,
      "outputs": [
        {
          "output_type": "execute_result",
          "data": {
            "text/plain": [
              "tensor([[-0.1690, -0.4472, -0.1525],\n",
              "        [ 1.1832, -1.3416, -0.7625],\n",
              "        [-1.5213,  1.3416, -0.7625],\n",
              "        [ 0.5071,  0.4472,  1.6775]], grad_fn=<NativeBatchNormBackward0>)"
            ]
          },
          "metadata": {},
          "execution_count": 71
        }
      ]
    },
    {
      "cell_type": "markdown",
      "source": [
        "Step by step"
      ],
      "metadata": {
        "id": "TzhcDHRCTEMw"
      }
    },
    {
      "cell_type": "code",
      "source": [
        "torch.mean(input, dim=0)"
      ],
      "metadata": {
        "colab": {
          "base_uri": "https://localhost:8080/"
        },
        "id": "T641RVUaPsAL",
        "outputId": "d4680c96-d713-414b-ad94-e70783568498"
      },
      "execution_count": null,
      "outputs": [
        {
          "output_type": "execute_result",
          "data": {
            "text/plain": [
              "tensor([2.2500, 2.5000, 1.2500])"
            ]
          },
          "metadata": {},
          "execution_count": 61
        }
      ]
    },
    {
      "cell_type": "code",
      "source": [
        "torch.std(input, dim=0, correction=0)"
      ],
      "metadata": {
        "colab": {
          "base_uri": "https://localhost:8080/"
        },
        "id": "r6dmq3JSQJII",
        "outputId": "c1b53451-5e7d-43b8-c823-f61d46f31875"
      },
      "execution_count": null,
      "outputs": [
        {
          "output_type": "execute_result",
          "data": {
            "text/plain": [
              "tensor([1.4790, 1.1180, 1.6394])"
            ]
          },
          "metadata": {},
          "execution_count": 62
        }
      ]
    },
    {
      "cell_type": "code",
      "source": [
        "x_hat_0 = (2-2.2500)/(1.4790**2+1e-05)**(1/2)\n",
        "x_hat_0"
      ],
      "metadata": {
        "colab": {
          "base_uri": "https://localhost:8080/"
        },
        "id": "7hCtSVx-RG-3",
        "outputId": "8e34c944-aea7-4849-83cc-5aa377faa7cc"
      },
      "execution_count": null,
      "outputs": [
        {
          "output_type": "execute_result",
          "data": {
            "text/plain": [
              "-0.16903274412303934"
            ]
          },
          "metadata": {},
          "execution_count": 63
        }
      ]
    },
    {
      "cell_type": "markdown",
      "source": [
        "**Update parameters**"
      ],
      "metadata": {
        "id": "E7VBvJcfcrmx"
      }
    },
    {
      "cell_type": "code",
      "source": [
        "inputs = torch.randint(5, (3, 32, 32), dtype=torch.float32)"
      ],
      "metadata": {
        "id": "twVhDj6w9T5L"
      },
      "execution_count": null,
      "outputs": []
    },
    {
      "cell_type": "code",
      "source": [
        "labels = torch.tensor([0, 1, 1])"
      ],
      "metadata": {
        "id": "iRs-AR-E_jHD"
      },
      "execution_count": null,
      "outputs": []
    },
    {
      "cell_type": "code",
      "source": [
        "model = nn.Sequential(\n",
        "      nn.Flatten(),\n",
        "      nn.Linear(32 * 32, 16),\n",
        "      nn.BatchNorm1d(16),\n",
        "      nn.ReLU(),\n",
        "      nn.Linear(16, 2)\n",
        "    )"
      ],
      "metadata": {
        "id": "ooNAupFEdyfp"
      },
      "execution_count": null,
      "outputs": []
    },
    {
      "cell_type": "code",
      "source": [
        "for p in model.parameters():\n",
        "    print(p)"
      ],
      "metadata": {
        "colab": {
          "base_uri": "https://localhost:8080/"
        },
        "id": "EbQ1a0FO-HSd",
        "outputId": "87d6f293-7bf2-48c7-b902-7fc6cdb18a04"
      },
      "execution_count": null,
      "outputs": [
        {
          "output_type": "stream",
          "name": "stdout",
          "text": [
            "Parameter containing:\n",
            "tensor([[ 0.0039,  0.0052, -0.0209,  ...,  0.0103, -0.0203,  0.0208],\n",
            "        [-0.0093, -0.0084,  0.0274,  ...,  0.0292,  0.0028, -0.0007],\n",
            "        [-0.0166, -0.0202, -0.0152,  ...,  0.0108, -0.0272, -0.0274],\n",
            "        ...,\n",
            "        [ 0.0160,  0.0098, -0.0236,  ...,  0.0119,  0.0153, -0.0268],\n",
            "        [ 0.0296,  0.0139, -0.0247,  ..., -0.0085, -0.0238, -0.0027],\n",
            "        [ 0.0206, -0.0266,  0.0252,  ..., -0.0183, -0.0104,  0.0008]],\n",
            "       requires_grad=True)\n",
            "Parameter containing:\n",
            "tensor([-0.0074,  0.0228, -0.0200, -0.0058,  0.0272, -0.0055,  0.0181,  0.0026,\n",
            "        -0.0221, -0.0286,  0.0310, -0.0005, -0.0141,  0.0301,  0.0015, -0.0182],\n",
            "       requires_grad=True)\n",
            "Parameter containing:\n",
            "tensor([1., 1., 1., 1., 1., 1., 1., 1., 1., 1., 1., 1., 1., 1., 1., 1.],\n",
            "       requires_grad=True)\n",
            "Parameter containing:\n",
            "tensor([0., 0., 0., 0., 0., 0., 0., 0., 0., 0., 0., 0., 0., 0., 0., 0.],\n",
            "       requires_grad=True)\n",
            "Parameter containing:\n",
            "tensor([[-0.1160, -0.1844,  0.1234, -0.0055,  0.0711,  0.1740,  0.0658,  0.2267,\n",
            "         -0.1287, -0.1257, -0.0814, -0.2156,  0.0920,  0.0278,  0.2311, -0.0026],\n",
            "        [-0.1860, -0.1149,  0.1822,  0.1754,  0.0519,  0.1087,  0.1692, -0.1102,\n",
            "          0.1614,  0.1058, -0.1877,  0.1977, -0.0655, -0.1323,  0.1222, -0.2056]],\n",
            "       requires_grad=True)\n",
            "Parameter containing:\n",
            "tensor([1.8982e-01, 4.8995e-05], requires_grad=True)\n"
          ]
        }
      ]
    },
    {
      "cell_type": "code",
      "source": [
        "predictions = model(inputs)"
      ],
      "metadata": {
        "id": "5eUZkGEA9XNv"
      },
      "execution_count": null,
      "outputs": []
    },
    {
      "cell_type": "code",
      "source": [
        "loss_function = nn.CrossEntropyLoss()\n",
        "optimizer = torch.optim.Adam(model.parameters(), lr=1e-4)"
      ],
      "metadata": {
        "id": "L2fXApDH_aHd"
      },
      "execution_count": null,
      "outputs": []
    },
    {
      "cell_type": "code",
      "source": [
        "loss = loss_function(predictions, labels)"
      ],
      "metadata": {
        "id": "v0GCUAvFd6jV"
      },
      "execution_count": null,
      "outputs": []
    },
    {
      "cell_type": "code",
      "source": [
        "loss.backward()"
      ],
      "metadata": {
        "id": "TDGOtVLRASOe"
      },
      "execution_count": null,
      "outputs": []
    },
    {
      "cell_type": "code",
      "source": [
        "optimizer.step()"
      ],
      "metadata": {
        "id": "MgVlxl7YASlF"
      },
      "execution_count": null,
      "outputs": []
    },
    {
      "cell_type": "code",
      "source": [
        "for p in model.parameters():\n",
        "    print(p)"
      ],
      "metadata": {
        "colab": {
          "base_uri": "https://localhost:8080/"
        },
        "id": "k0VFNd7IAOoq",
        "outputId": "be46e73b-085f-4051-b537-5ca1c3746616"
      },
      "execution_count": null,
      "outputs": [
        {
          "output_type": "stream",
          "name": "stdout",
          "text": [
            "Parameter containing:\n",
            "tensor([[ 0.0038,  0.0053, -0.0208,  ...,  0.0104, -0.0202,  0.0207],\n",
            "        [-0.0094, -0.0085,  0.0275,  ...,  0.0293,  0.0029, -0.0008],\n",
            "        [-0.0165, -0.0201, -0.0153,  ...,  0.0107, -0.0273, -0.0273],\n",
            "        ...,\n",
            "        [ 0.0161,  0.0097, -0.0237,  ...,  0.0118,  0.0152, -0.0267],\n",
            "        [ 0.0295,  0.0140, -0.0248,  ..., -0.0086, -0.0239, -0.0028],\n",
            "        [ 0.0205, -0.0265,  0.0253,  ..., -0.0182, -0.0103,  0.0007]],\n",
            "       requires_grad=True)\n",
            "Parameter containing:\n",
            "tensor([-0.0074,  0.0227, -0.0200, -0.0058,  0.0272, -0.0055,  0.0181,  0.0027,\n",
            "        -0.0221, -0.0286,  0.0310, -0.0004, -0.0141,  0.0302,  0.0015, -0.0182],\n",
            "       requires_grad=True)\n",
            "Parameter containing:\n",
            "tensor([1.0001, 1.0001, 0.9999, 0.9999, 0.9999, 0.9999, 1.0001, 1.0001, 1.0001,\n",
            "        0.9999, 0.9999, 1.0001, 1.0001, 0.9999, 0.9999, 1.0001],\n",
            "       requires_grad=True)\n",
            "Parameter containing:\n",
            "tensor([ 9.9999e-05,  1.0000e-04, -1.0000e-04, -1.0000e-04, -1.0000e-04,\n",
            "        -1.0000e-04,  1.0000e-04, -1.0000e-04,  1.0000e-04, -1.0000e-04,\n",
            "        -1.0000e-04,  1.0000e-04, -1.0000e-04, -1.0000e-04, -1.0000e-04,\n",
            "         1.0000e-04], requires_grad=True)\n",
            "Parameter containing:\n",
            "tensor([[-0.1159, -0.1845,  0.1235, -0.0054,  0.0710,  0.1739,  0.0657,  0.2268,\n",
            "         -0.1288, -0.1256, -0.0815, -0.2157,  0.0921,  0.0277,  0.2310, -0.0025],\n",
            "        [-0.1861, -0.1148,  0.1821,  0.1753,  0.0520,  0.1088,  0.1693, -0.1103,\n",
            "          0.1615,  0.1057, -0.1876,  0.1978, -0.0656, -0.1322,  0.1223, -0.2057]],\n",
            "       requires_grad=True)\n",
            "Parameter containing:\n",
            "tensor([1.8972e-01, 1.4900e-04], requires_grad=True)\n"
          ]
        }
      ]
    },
    {
      "cell_type": "markdown",
      "source": [
        "###**MNIST Classification**"
      ],
      "metadata": {
        "id": "HWh1HK28D51G"
      }
    },
    {
      "cell_type": "code",
      "source": [
        "import os\n",
        "import time\n",
        "\n",
        "import torch\n",
        "from torch import nn\n",
        "import torch.optim as optim\n",
        "from torchvision import datasets\n",
        "from torchvision import transforms\n",
        "import torch.utils.data as data\n",
        "from torch.utils.data import DataLoader\n",
        "\n",
        "from torchsummary import summary"
      ],
      "metadata": {
        "id": "KApYQTSoEBtE"
      },
      "execution_count": null,
      "outputs": []
    },
    {
      "cell_type": "code",
      "source": [
        "SEED = 1\n",
        "torch.manual_seed(SEED)\n",
        "torch.cuda.manual_seed(SEED)\n",
        "torch.backends.cudnn.deterministic = True"
      ],
      "metadata": {
        "id": "vzH00KmNWEYz"
      },
      "execution_count": null,
      "outputs": []
    },
    {
      "cell_type": "markdown",
      "source": [
        "####Load Dataset"
      ],
      "metadata": {
        "id": "QtFcZjIp1e_A"
      }
    },
    {
      "cell_type": "code",
      "source": [
        "ROOT = './data'\n",
        "\n",
        "train_data = datasets.MNIST(\n",
        "    root=ROOT,\n",
        "    train=True,\n",
        "    download=True\n",
        ")\n",
        "\n",
        "test_data = datasets.MNIST(\n",
        "    root=ROOT,\n",
        "    train=False,\n",
        "    download=True\n",
        "    )"
      ],
      "metadata": {
        "colab": {
          "base_uri": "https://localhost:8080/"
        },
        "id": "UMcSyS0yWulP",
        "outputId": "801f94a5-c87a-4df8-cf9f-6c151bfcc234"
      },
      "execution_count": null,
      "outputs": [
        {
          "output_type": "stream",
          "name": "stdout",
          "text": [
            "Downloading http://yann.lecun.com/exdb/mnist/train-images-idx3-ubyte.gz\n",
            "Downloading http://yann.lecun.com/exdb/mnist/train-images-idx3-ubyte.gz to ./data/MNIST/raw/train-images-idx3-ubyte.gz\n"
          ]
        },
        {
          "output_type": "stream",
          "name": "stderr",
          "text": [
            "100%|██████████| 9912422/9912422 [00:00<00:00, 72571765.39it/s]\n"
          ]
        },
        {
          "output_type": "stream",
          "name": "stdout",
          "text": [
            "Extracting ./data/MNIST/raw/train-images-idx3-ubyte.gz to ./data/MNIST/raw\n",
            "\n",
            "Downloading http://yann.lecun.com/exdb/mnist/train-labels-idx1-ubyte.gz\n",
            "Downloading http://yann.lecun.com/exdb/mnist/train-labels-idx1-ubyte.gz to ./data/MNIST/raw/train-labels-idx1-ubyte.gz\n"
          ]
        },
        {
          "output_type": "stream",
          "name": "stderr",
          "text": [
            "100%|██████████| 28881/28881 [00:00<00:00, 112789286.61it/s]\n"
          ]
        },
        {
          "output_type": "stream",
          "name": "stdout",
          "text": [
            "Extracting ./data/MNIST/raw/train-labels-idx1-ubyte.gz to ./data/MNIST/raw\n",
            "\n",
            "Downloading http://yann.lecun.com/exdb/mnist/t10k-images-idx3-ubyte.gz\n",
            "Downloading http://yann.lecun.com/exdb/mnist/t10k-images-idx3-ubyte.gz to ./data/MNIST/raw/t10k-images-idx3-ubyte.gz\n"
          ]
        },
        {
          "output_type": "stream",
          "name": "stderr",
          "text": [
            "100%|██████████| 1648877/1648877 [00:00<00:00, 53141526.47it/s]"
          ]
        },
        {
          "output_type": "stream",
          "name": "stdout",
          "text": [
            "Extracting ./data/MNIST/raw/t10k-images-idx3-ubyte.gz to ./data/MNIST/raw\n"
          ]
        },
        {
          "output_type": "stream",
          "name": "stderr",
          "text": [
            "\n"
          ]
        },
        {
          "output_type": "stream",
          "name": "stdout",
          "text": [
            "\n",
            "Downloading http://yann.lecun.com/exdb/mnist/t10k-labels-idx1-ubyte.gz\n",
            "Downloading http://yann.lecun.com/exdb/mnist/t10k-labels-idx1-ubyte.gz to ./data/MNIST/raw/t10k-labels-idx1-ubyte.gz\n"
          ]
        },
        {
          "output_type": "stream",
          "name": "stderr",
          "text": [
            "100%|██████████| 4542/4542 [00:00<00:00, 4329665.63it/s]\n"
          ]
        },
        {
          "output_type": "stream",
          "name": "stdout",
          "text": [
            "Extracting ./data/MNIST/raw/t10k-labels-idx1-ubyte.gz to ./data/MNIST/raw\n",
            "\n"
          ]
        }
      ]
    },
    {
      "cell_type": "markdown",
      "source": [
        "####Preprocessing"
      ],
      "metadata": {
        "id": "qu12LYob1iTl"
      }
    },
    {
      "cell_type": "code",
      "source": [
        "VALID_RATIO = 0.9\n",
        "\n",
        "n_train_examples = int(len(train_data) * VALID_RATIO)\n",
        "n_valid_examples = len(train_data) - n_train_examples"
      ],
      "metadata": {
        "id": "BDpvdSYNW3_I"
      },
      "execution_count": null,
      "outputs": []
    },
    {
      "cell_type": "code",
      "source": [
        "train_data, valid_data = data.random_split(\n",
        "    train_data,\n",
        "    [n_train_examples, n_valid_examples]\n",
        ")"
      ],
      "metadata": {
        "id": "fRYgLTjmW59W"
      },
      "execution_count": null,
      "outputs": []
    },
    {
      "cell_type": "code",
      "source": [
        "# compute mean and std\n",
        "mean = train_data.dataset.data.float().mean() / 255\n",
        "std = train_data.dataset.data.float().std() / 255\n",
        "mean, std"
      ],
      "metadata": {
        "colab": {
          "base_uri": "https://localhost:8080/"
        },
        "id": "7_Ueda2CXISf",
        "outputId": "e1a8193f-3d31-4742-9252-49b9e48b2adc"
      },
      "execution_count": null,
      "outputs": [
        {
          "output_type": "execute_result",
          "data": {
            "text/plain": [
              "(tensor(0.1307), tensor(0.3081))"
            ]
          },
          "metadata": {},
          "execution_count": 6
        }
      ]
    },
    {
      "cell_type": "code",
      "source": [
        "train_transforms = transforms.Compose([\n",
        "    transforms.ToTensor(),\n",
        "    transforms.Normalize(mean=[mean], std=[std])\n",
        "])\n",
        "\n",
        "test_transforms = transforms.Compose([\n",
        "    transforms.ToTensor(),\n",
        "    transforms.Normalize(mean=[mean], std=[std])\n",
        "])"
      ],
      "metadata": {
        "id": "CdmJH71_XKQ6"
      },
      "execution_count": null,
      "outputs": []
    },
    {
      "cell_type": "code",
      "source": [
        "train_data.dataset.transform = train_transforms\n",
        "valid_data.dataset.transform = test_transforms\n",
        "test_data.transform = test_transforms"
      ],
      "metadata": {
        "id": "TA9ZCNdGXMUg"
      },
      "execution_count": null,
      "outputs": []
    },
    {
      "cell_type": "code",
      "source": [
        "BATCH_SIZE = 256\n",
        "\n",
        "train_dataloader = data.DataLoader(\n",
        "    train_data,\n",
        "    shuffle=True,\n",
        "    batch_size=BATCH_SIZE\n",
        ")\n",
        "\n",
        "valid_dataloader = data.DataLoader(\n",
        "    valid_data,\n",
        "    batch_size=BATCH_SIZE\n",
        ")\n",
        "\n",
        "test_dataloader = data.DataLoader(\n",
        "    test_data,\n",
        "    batch_size=BATCH_SIZE\n",
        ")"
      ],
      "metadata": {
        "id": "ADS7VGyMXOSW"
      },
      "execution_count": null,
      "outputs": []
    },
    {
      "cell_type": "markdown",
      "source": [
        "####Trainer"
      ],
      "metadata": {
        "id": "DfrV_IBh1otC"
      }
    },
    {
      "cell_type": "code",
      "source": [
        "def train_epoch(model, optimizer, criterion, train_dataloader, device, epoch=0, log_interval=50):\n",
        "    model.train()\n",
        "    total_acc, total_count = 0, 0\n",
        "    losses = []\n",
        "    start_time = time.time()\n",
        "\n",
        "    for idx, (inputs, labels) in enumerate(train_dataloader):\n",
        "        inputs = inputs.to(device)\n",
        "        labels = labels.to(device)\n",
        "\n",
        "        optimizer.zero_grad()\n",
        "\n",
        "        predictions = model(inputs)\n",
        "\n",
        "        # compute loss\n",
        "        loss = criterion(predictions, labels)\n",
        "        losses.append(loss.item())\n",
        "\n",
        "        # backward\n",
        "        loss.backward()\n",
        "        optimizer.step()\n",
        "        total_acc += (predictions.argmax(1) == labels).sum().item()\n",
        "        total_count += labels.size(0)\n",
        "        if idx % log_interval == 0 and idx > 0:\n",
        "            elapsed = time.time() - start_time\n",
        "            print(\n",
        "                \"| epoch {:3d} | {:5d}/{:5d} batches \"\n",
        "                \"| accuracy {:8.3f}\".format(\n",
        "                    epoch, idx, len(train_dataloader), total_acc / total_count\n",
        "                )\n",
        "            )\n",
        "            total_acc, total_count = 0, 0\n",
        "            start_time = time.time()\n",
        "\n",
        "    epoch_acc = total_acc / total_count\n",
        "    epoch_loss = sum(losses) / len(losses)\n",
        "    return epoch_acc, epoch_loss"
      ],
      "metadata": {
        "id": "6htSGne8YCq4"
      },
      "execution_count": null,
      "outputs": []
    },
    {
      "cell_type": "code",
      "source": [
        "def evaluate_epoch(model, criterion, valid_dataloader):\n",
        "    model.eval()\n",
        "    total_acc, total_count = 0, 0\n",
        "    losses = []\n",
        "\n",
        "    with torch.no_grad():\n",
        "        for idx, (inputs, labels) in enumerate(valid_dataloader):\n",
        "            inputs = inputs.to(device)\n",
        "            labels = labels.to(device)\n",
        "\n",
        "            predictions = model(inputs)\n",
        "\n",
        "            loss = criterion(predictions, labels)\n",
        "            losses.append(loss.item())\n",
        "\n",
        "            total_acc += (predictions.argmax(1) == labels).sum().item()\n",
        "            total_count += labels.size(0)\n",
        "\n",
        "    epoch_acc = total_acc / total_count\n",
        "    epoch_loss = sum(losses) / len(losses)\n",
        "    return epoch_acc, epoch_loss"
      ],
      "metadata": {
        "id": "l26sYiFgYS9R"
      },
      "execution_count": null,
      "outputs": []
    },
    {
      "cell_type": "code",
      "source": [
        "def train(model, model_name, optimizer, criterion, train_dataloader, valid_dataloader, num_epochs, device):\n",
        "    train_accs, train_losses = [], []\n",
        "    eval_accs, eval_losses = [], []\n",
        "    best_loss_eval = 100\n",
        "    times = []\n",
        "    for epoch in range(1, num_epochs+1):\n",
        "        epoch_start_time = time.time()\n",
        "        # Training\n",
        "        train_acc, train_loss = train_epoch(model, optimizer, criterion, train_dataloader, device, epoch)\n",
        "        train_accs.append(train_acc)\n",
        "        train_losses.append(train_loss)\n",
        "\n",
        "        # Evaluation\n",
        "        eval_acc, eval_loss = evaluate_epoch(model, criterion, valid_dataloader)\n",
        "        eval_accs.append(eval_acc)\n",
        "        eval_losses.append(eval_loss)\n",
        "\n",
        "        # Save best model\n",
        "        if eval_loss < best_loss_eval:\n",
        "            torch.save(model.state_dict(), save_model + f'/{model_name}.pt')\n",
        "\n",
        "        times.append(time.time() - epoch_start_time)\n",
        "        # Print loss, acc end epoch\n",
        "        print(\"-\" * 59)\n",
        "        print(\n",
        "            \"| End of epoch {:3d} | Time: {:5.2f}s | Train Accuracy {:8.3f} | Train Loss {:8.3f} \"\n",
        "            \"| Valid Accuracy {:8.3f} | Valid Loss {:8.3f} \".format(\n",
        "                epoch, time.time() - epoch_start_time, train_acc, train_loss, eval_acc, eval_loss\n",
        "            )\n",
        "        )\n",
        "        print(\"-\" * 59)\n",
        "\n",
        "        # Load best model\n",
        "        model.load_state_dict(torch.load(save_model + f'/{model_name}.pt'))\n",
        "        model.eval()\n",
        "    metrics = {\n",
        "        'train_accuracy': train_accs,\n",
        "        'train_loss': train_losses,\n",
        "        'valid_accuracy': eval_accs,\n",
        "        'valid_loss': eval_losses,\n",
        "        'time': times\n",
        "    }\n",
        "    return model, metrics"
      ],
      "metadata": {
        "id": "M0xV1bpgZ5On"
      },
      "execution_count": null,
      "outputs": []
    },
    {
      "cell_type": "code",
      "source": [
        "import matplotlib.pyplot as plt\n",
        "\n",
        "def plot_result(num_epochs, train_accs, eval_accs, train_losses, eval_losses):\n",
        "    epochs = list(range(num_epochs))\n",
        "    fig, axs = plt.subplots(nrows = 1, ncols =2 , figsize = (12,6))\n",
        "    axs[0].plot(epochs, train_accs, label = \"Training\")\n",
        "    axs[0].plot(epochs, eval_accs, label = \"Evaluation\")\n",
        "    axs[1].plot(epochs, train_losses, label = \"Training\")\n",
        "    axs[1].plot(epochs, eval_losses, label = \"Evaluation\")\n",
        "    axs[0].set_xlabel(\"Epochs\")\n",
        "    axs[1].set_xlabel(\"Epochs\")\n",
        "    axs[0].set_ylabel(\"Accuracy\")\n",
        "    axs[1].set_ylabel(\"Loss\")\n",
        "    plt.legend()"
      ],
      "metadata": {
        "id": "ps8lbX315vkR"
      },
      "execution_count": null,
      "outputs": []
    },
    {
      "cell_type": "markdown",
      "source": [
        "####Base Model"
      ],
      "metadata": {
        "id": "cbBue5WV2RlJ"
      }
    },
    {
      "cell_type": "code",
      "source": [
        "base_model = nn.Sequential(\n",
        "    nn.Conv2d(1, 6, 5, stride=2),\n",
        "    nn.Flatten(),\n",
        "    nn.Linear(6 * 12 * 12, 64),\n",
        "    nn.ReLU(),\n",
        "    nn.Linear(64, 32),\n",
        "    nn.ReLU(),\n",
        "    nn.Linear(32, 10)\n",
        ")"
      ],
      "metadata": {
        "id": "-HgXpLBT2WFp"
      },
      "execution_count": null,
      "outputs": []
    },
    {
      "cell_type": "code",
      "source": [
        "summary(base_model, (1, 28, 28))"
      ],
      "metadata": {
        "colab": {
          "base_uri": "https://localhost:8080/"
        },
        "id": "Y6OYNbQj9ota",
        "outputId": "dc7f2fda-f261-47b5-d300-8f251c690844"
      },
      "execution_count": null,
      "outputs": [
        {
          "output_type": "stream",
          "name": "stdout",
          "text": [
            "----------------------------------------------------------------\n",
            "        Layer (type)               Output Shape         Param #\n",
            "================================================================\n",
            "            Conv2d-1            [-1, 6, 12, 12]             156\n",
            "           Flatten-2                  [-1, 864]               0\n",
            "            Linear-3                   [-1, 64]          55,360\n",
            "              ReLU-4                   [-1, 64]               0\n",
            "            Linear-5                   [-1, 32]           2,080\n",
            "              ReLU-6                   [-1, 32]               0\n",
            "            Linear-7                   [-1, 10]             330\n",
            "================================================================\n",
            "Total params: 57,926\n",
            "Trainable params: 57,926\n",
            "Non-trainable params: 0\n",
            "----------------------------------------------------------------\n",
            "Input size (MB): 0.00\n",
            "Forward/backward pass size (MB): 0.01\n",
            "Params size (MB): 0.22\n",
            "Estimated Total Size (MB): 0.24\n",
            "----------------------------------------------------------------\n"
          ]
        }
      ]
    },
    {
      "cell_type": "code",
      "source": [
        "num_classes = len(train_data.dataset.classes)\n",
        "\n",
        "device = torch.device('cuda' if torch.cuda.is_available() else 'cpu')\n",
        "\n",
        "base_model.to(device)\n",
        "\n",
        "criterion = torch.nn.CrossEntropyLoss()\n",
        "optimizer = optim.Adam(base_model.parameters())\n",
        "\n",
        "num_epochs = 20\n",
        "save_model = './model'\n",
        "os.makedirs(save_model, exist_ok = True)\n",
        "model_name = 'base_model'\n",
        "\n",
        "base_model, base_metrics = train(\n",
        "    base_model, model_name, optimizer, criterion, train_dataloader, valid_dataloader, num_epochs, device\n",
        ")"
      ],
      "metadata": {
        "colab": {
          "base_uri": "https://localhost:8080/"
        },
        "id": "qA6KUC5I15hG",
        "outputId": "05db6236-7a1e-46a7-e032-8e563fcc7bae"
      },
      "execution_count": null,
      "outputs": [
        {
          "output_type": "stream",
          "name": "stdout",
          "text": [
            "| epoch   1 |    50/  211 batches | accuracy    0.632\n",
            "| epoch   1 |   100/  211 batches | accuracy    0.895\n",
            "| epoch   1 |   150/  211 batches | accuracy    0.918\n",
            "| epoch   1 |   200/  211 batches | accuracy    0.932\n",
            "-----------------------------------------------------------\n",
            "| End of epoch   1 | Time: 17.78s | Train Accuracy    0.939 | Train Loss    0.502 | Valid Accuracy    0.936 | Valid Loss    0.213 \n",
            "-----------------------------------------------------------\n",
            "| epoch   2 |    50/  211 batches | accuracy    0.941\n",
            "| epoch   2 |   100/  211 batches | accuracy    0.948\n",
            "| epoch   2 |   150/  211 batches | accuracy    0.948\n",
            "| epoch   2 |   200/  211 batches | accuracy    0.955\n",
            "-----------------------------------------------------------\n",
            "| End of epoch   2 | Time: 18.89s | Train Accuracy    0.954 | Train Loss    0.176 | Valid Accuracy    0.957 | Valid Loss    0.149 \n",
            "-----------------------------------------------------------\n",
            "| epoch   3 |    50/  211 batches | accuracy    0.962\n",
            "| epoch   3 |   100/  211 batches | accuracy    0.961\n",
            "| epoch   3 |   150/  211 batches | accuracy    0.963\n",
            "| epoch   3 |   200/  211 batches | accuracy    0.960\n",
            "-----------------------------------------------------------\n",
            "| End of epoch   3 | Time: 17.71s | Train Accuracy    0.966 | Train Loss    0.129 | Valid Accuracy    0.963 | Valid Loss    0.128 \n",
            "-----------------------------------------------------------\n",
            "| epoch   4 |    50/  211 batches | accuracy    0.969\n",
            "| epoch   4 |   100/  211 batches | accuracy    0.968\n",
            "| epoch   4 |   150/  211 batches | accuracy    0.969\n",
            "| epoch   4 |   200/  211 batches | accuracy    0.971\n",
            "-----------------------------------------------------------\n",
            "| End of epoch   4 | Time: 18.55s | Train Accuracy    0.969 | Train Loss    0.103 | Valid Accuracy    0.965 | Valid Loss    0.118 \n",
            "-----------------------------------------------------------\n",
            "| epoch   5 |    50/  211 batches | accuracy    0.973\n",
            "| epoch   5 |   100/  211 batches | accuracy    0.976\n",
            "| epoch   5 |   150/  211 batches | accuracy    0.973\n",
            "| epoch   5 |   200/  211 batches | accuracy    0.974\n",
            "-----------------------------------------------------------\n",
            "| End of epoch   5 | Time: 18.44s | Train Accuracy    0.965 | Train Loss    0.087 | Valid Accuracy    0.966 | Valid Loss    0.112 \n",
            "-----------------------------------------------------------\n",
            "| epoch   6 |    50/  211 batches | accuracy    0.980\n",
            "| epoch   6 |   100/  211 batches | accuracy    0.977\n",
            "| epoch   6 |   150/  211 batches | accuracy    0.977\n",
            "| epoch   6 |   200/  211 batches | accuracy    0.975\n",
            "-----------------------------------------------------------\n",
            "| End of epoch   6 | Time: 17.76s | Train Accuracy    0.976 | Train Loss    0.075 | Valid Accuracy    0.970 | Valid Loss    0.096 \n",
            "-----------------------------------------------------------\n",
            "| epoch   7 |    50/  211 batches | accuracy    0.982\n",
            "| epoch   7 |   100/  211 batches | accuracy    0.981\n",
            "| epoch   7 |   150/  211 batches | accuracy    0.981\n",
            "| epoch   7 |   200/  211 batches | accuracy    0.977\n",
            "-----------------------------------------------------------\n",
            "| End of epoch   7 | Time: 22.20s | Train Accuracy    0.980 | Train Loss    0.065 | Valid Accuracy    0.973 | Valid Loss    0.093 \n",
            "-----------------------------------------------------------\n",
            "| epoch   8 |    50/  211 batches | accuracy    0.986\n",
            "| epoch   8 |   100/  211 batches | accuracy    0.983\n",
            "| epoch   8 |   150/  211 batches | accuracy    0.979\n",
            "| epoch   8 |   200/  211 batches | accuracy    0.981\n",
            "-----------------------------------------------------------\n",
            "| End of epoch   8 | Time: 18.25s | Train Accuracy    0.978 | Train Loss    0.058 | Valid Accuracy    0.974 | Valid Loss    0.089 \n",
            "-----------------------------------------------------------\n",
            "| epoch   9 |    50/  211 batches | accuracy    0.985\n",
            "| epoch   9 |   100/  211 batches | accuracy    0.984\n",
            "| epoch   9 |   150/  211 batches | accuracy    0.984\n",
            "| epoch   9 |   200/  211 batches | accuracy    0.984\n",
            "-----------------------------------------------------------\n",
            "| End of epoch   9 | Time: 18.23s | Train Accuracy    0.988 | Train Loss    0.051 | Valid Accuracy    0.974 | Valid Loss    0.092 \n",
            "-----------------------------------------------------------\n",
            "| epoch  10 |    50/  211 batches | accuracy    0.987\n",
            "| epoch  10 |   100/  211 batches | accuracy    0.988\n",
            "| epoch  10 |   150/  211 batches | accuracy    0.984\n",
            "| epoch  10 |   200/  211 batches | accuracy    0.984\n",
            "-----------------------------------------------------------\n",
            "| End of epoch  10 | Time: 18.88s | Train Accuracy    0.983 | Train Loss    0.046 | Valid Accuracy    0.974 | Valid Loss    0.095 \n",
            "-----------------------------------------------------------\n",
            "| epoch  11 |    50/  211 batches | accuracy    0.989\n",
            "| epoch  11 |   100/  211 batches | accuracy    0.987\n",
            "| epoch  11 |   150/  211 batches | accuracy    0.986\n",
            "| epoch  11 |   200/  211 batches | accuracy    0.987\n",
            "-----------------------------------------------------------\n",
            "| End of epoch  11 | Time: 19.96s | Train Accuracy    0.990 | Train Loss    0.040 | Valid Accuracy    0.972 | Valid Loss    0.099 \n",
            "-----------------------------------------------------------\n",
            "| epoch  12 |    50/  211 batches | accuracy    0.991\n",
            "| epoch  12 |   100/  211 batches | accuracy    0.990\n",
            "| epoch  12 |   150/  211 batches | accuracy    0.989\n",
            "| epoch  12 |   200/  211 batches | accuracy    0.987\n",
            "-----------------------------------------------------------\n",
            "| End of epoch  12 | Time: 17.78s | Train Accuracy    0.985 | Train Loss    0.036 | Valid Accuracy    0.972 | Valid Loss    0.098 \n",
            "-----------------------------------------------------------\n",
            "| epoch  13 |    50/  211 batches | accuracy    0.990\n",
            "| epoch  13 |   100/  211 batches | accuracy    0.991\n",
            "| epoch  13 |   150/  211 batches | accuracy    0.990\n",
            "| epoch  13 |   200/  211 batches | accuracy    0.988\n",
            "-----------------------------------------------------------\n",
            "| End of epoch  13 | Time: 18.48s | Train Accuracy    0.988 | Train Loss    0.033 | Valid Accuracy    0.973 | Valid Loss    0.107 \n",
            "-----------------------------------------------------------\n",
            "| epoch  14 |    50/  211 batches | accuracy    0.993\n",
            "| epoch  14 |   100/  211 batches | accuracy    0.992\n",
            "| epoch  14 |   150/  211 batches | accuracy    0.990\n",
            "| epoch  14 |   200/  211 batches | accuracy    0.990\n",
            "-----------------------------------------------------------\n",
            "| End of epoch  14 | Time: 17.54s | Train Accuracy    0.988 | Train Loss    0.029 | Valid Accuracy    0.975 | Valid Loss    0.099 \n",
            "-----------------------------------------------------------\n",
            "| epoch  15 |    50/  211 batches | accuracy    0.993\n",
            "| epoch  15 |   100/  211 batches | accuracy    0.993\n",
            "| epoch  15 |   150/  211 batches | accuracy    0.991\n",
            "| epoch  15 |   200/  211 batches | accuracy    0.989\n",
            "-----------------------------------------------------------\n",
            "| End of epoch  15 | Time: 18.83s | Train Accuracy    0.991 | Train Loss    0.026 | Valid Accuracy    0.975 | Valid Loss    0.100 \n",
            "-----------------------------------------------------------\n",
            "| epoch  16 |    50/  211 batches | accuracy    0.994\n",
            "| epoch  16 |   100/  211 batches | accuracy    0.993\n",
            "| epoch  16 |   150/  211 batches | accuracy    0.991\n",
            "| epoch  16 |   200/  211 batches | accuracy    0.992\n",
            "-----------------------------------------------------------\n",
            "| End of epoch  16 | Time: 17.99s | Train Accuracy    0.991 | Train Loss    0.024 | Valid Accuracy    0.973 | Valid Loss    0.111 \n",
            "-----------------------------------------------------------\n",
            "| epoch  17 |    50/  211 batches | accuracy    0.994\n",
            "| epoch  17 |   100/  211 batches | accuracy    0.993\n",
            "| epoch  17 |   150/  211 batches | accuracy    0.993\n",
            "| epoch  17 |   200/  211 batches | accuracy    0.992\n",
            "-----------------------------------------------------------\n",
            "| End of epoch  17 | Time: 19.26s | Train Accuracy    0.994 | Train Loss    0.022 | Valid Accuracy    0.973 | Valid Loss    0.111 \n",
            "-----------------------------------------------------------\n",
            "| epoch  18 |    50/  211 batches | accuracy    0.995\n",
            "| epoch  18 |   100/  211 batches | accuracy    0.993\n",
            "| epoch  18 |   150/  211 batches | accuracy    0.994\n",
            "| epoch  18 |   200/  211 batches | accuracy    0.991\n",
            "-----------------------------------------------------------\n",
            "| End of epoch  18 | Time: 18.12s | Train Accuracy    0.989 | Train Loss    0.021 | Valid Accuracy    0.976 | Valid Loss    0.105 \n",
            "-----------------------------------------------------------\n",
            "| epoch  19 |    50/  211 batches | accuracy    0.994\n",
            "| epoch  19 |   100/  211 batches | accuracy    0.995\n",
            "| epoch  19 |   150/  211 batches | accuracy    0.993\n",
            "| epoch  19 |   200/  211 batches | accuracy    0.993\n",
            "-----------------------------------------------------------\n",
            "| End of epoch  19 | Time: 17.72s | Train Accuracy    0.994 | Train Loss    0.018 | Valid Accuracy    0.974 | Valid Loss    0.120 \n",
            "-----------------------------------------------------------\n",
            "| epoch  20 |    50/  211 batches | accuracy    0.995\n",
            "| epoch  20 |   100/  211 batches | accuracy    0.995\n",
            "| epoch  20 |   150/  211 batches | accuracy    0.994\n",
            "| epoch  20 |   200/  211 batches | accuracy    0.992\n",
            "-----------------------------------------------------------\n",
            "| End of epoch  20 | Time: 18.67s | Train Accuracy    0.990 | Train Loss    0.019 | Valid Accuracy    0.973 | Valid Loss    0.113 \n",
            "-----------------------------------------------------------\n"
          ]
        }
      ]
    },
    {
      "cell_type": "code",
      "source": [
        "test_acc, test_loss = evaluate_epoch(base_model, criterion, test_dataloader)\n",
        "test_acc, test_loss"
      ],
      "metadata": {
        "colab": {
          "base_uri": "https://localhost:8080/"
        },
        "id": "-SzNLAL--ubt",
        "outputId": "b1f98125-c90a-4f93-bc1b-6d69b8ae24e7"
      },
      "execution_count": null,
      "outputs": [
        {
          "output_type": "execute_result",
          "data": {
            "text/plain": [
              "(0.9753, 0.11445959924885755)"
            ]
          },
          "metadata": {},
          "execution_count": 21
        }
      ]
    },
    {
      "cell_type": "code",
      "source": [
        "plot_result(\n",
        "    num_epochs,\n",
        "    base_metrics[\"train_accuracy\"],\n",
        "    base_metrics[\"valid_accuracy\"],\n",
        "    base_metrics[\"train_loss\"],\n",
        "    base_metrics[\"valid_loss\"]\n",
        ")"
      ],
      "metadata": {
        "colab": {
          "base_uri": "https://localhost:8080/",
          "height": 426
        },
        "id": "Mg1--BJz5t7k",
        "outputId": "39488ac8-d0bf-4594-e095-6177c877c1b0"
      },
      "execution_count": null,
      "outputs": [
        {
          "output_type": "display_data",
          "data": {
            "text/plain": [
              "<Figure size 1200x600 with 2 Axes>"
            ],
            "image/png": "[encoded data removed]"
          },
          "metadata": {}
        }
      ]
    },
    {
      "cell_type": "markdown",
      "source": [
        "####Using Batch Normalization"
      ],
      "metadata": {
        "id": "990wxZDr3xHD"
      }
    },
    {
      "cell_type": "code",
      "source": [
        "batchnorm_model = nn.Sequential(\n",
        "    nn.Conv2d(1, 6, 5, stride=2),\n",
        "    nn.Flatten(),\n",
        "    nn.Linear(6 * 12 * 12, 64),\n",
        "    nn.BatchNorm1d(64),\n",
        "    nn.ReLU(),\n",
        "    nn.Linear(64, 32),\n",
        "    nn.BatchNorm1d(32),\n",
        "    nn.ReLU(),\n",
        "    nn.Linear(32, 10)\n",
        ")"
      ],
      "metadata": {
        "id": "5RH2qywP4eoG"
      },
      "execution_count": null,
      "outputs": []
    },
    {
      "cell_type": "code",
      "source": [
        "summary(batchnorm_model, (1, 28, 28))"
      ],
      "metadata": {
        "colab": {
          "base_uri": "https://localhost:8080/"
        },
        "id": "_2jrQq4r9xq1",
        "outputId": "5d62c28f-3f87-42c2-e4d9-2f8aeab97ee5"
      },
      "execution_count": null,
      "outputs": [
        {
          "output_type": "stream",
          "name": "stdout",
          "text": [
            "----------------------------------------------------------------\n",
            "        Layer (type)               Output Shape         Param #\n",
            "================================================================\n",
            "            Conv2d-1            [-1, 6, 12, 12]             156\n",
            "           Flatten-2                  [-1, 864]               0\n",
            "            Linear-3                   [-1, 64]          55,360\n",
            "       BatchNorm1d-4                   [-1, 64]             128\n",
            "              ReLU-5                   [-1, 64]               0\n",
            "            Linear-6                   [-1, 32]           2,080\n",
            "       BatchNorm1d-7                   [-1, 32]              64\n",
            "              ReLU-8                   [-1, 32]               0\n",
            "            Linear-9                   [-1, 10]             330\n",
            "================================================================\n",
            "Total params: 58,118\n",
            "Trainable params: 58,118\n",
            "Non-trainable params: 0\n",
            "----------------------------------------------------------------\n",
            "Input size (MB): 0.00\n",
            "Forward/backward pass size (MB): 0.02\n",
            "Params size (MB): 0.22\n",
            "Estimated Total Size (MB): 0.24\n",
            "----------------------------------------------------------------\n"
          ]
        }
      ]
    },
    {
      "cell_type": "code",
      "source": [
        "num_classes = len(train_data.dataset.classes)\n",
        "\n",
        "device = torch.device('cuda' if torch.cuda.is_available() else 'cpu')\n",
        "\n",
        "batchnorm_model.to(device)\n",
        "\n",
        "criterion = torch.nn.CrossEntropyLoss()\n",
        "optimizer = optim.Adam(batchnorm_model.parameters())\n",
        "\n",
        "num_epochs = 20\n",
        "save_model = './model'\n",
        "os.makedirs(save_model, exist_ok = True)\n",
        "model_name = 'batchnorm_model'\n",
        "\n",
        "batchnorm_model, batchnorm_metrics = train(\n",
        "    batchnorm_model, model_name, optimizer, criterion, train_dataloader, valid_dataloader, num_epochs, device\n",
        ")"
      ],
      "metadata": {
        "colab": {
          "base_uri": "https://localhost:8080/"
        },
        "id": "LTxkkIin4oMA",
        "outputId": "19a0383d-8135-48d0-d900-d6066b3cc191"
      },
      "execution_count": null,
      "outputs": [
        {
          "output_type": "stream",
          "name": "stdout",
          "text": [
            "| epoch   1 |    50/  211 batches | accuracy    0.769\n",
            "| epoch   1 |   100/  211 batches | accuracy    0.910\n",
            "| epoch   1 |   150/  211 batches | accuracy    0.938\n",
            "| epoch   1 |   200/  211 batches | accuracy    0.951\n",
            "-----------------------------------------------------------\n",
            "| End of epoch   1 | Time: 20.14s | Train Accuracy    0.948 | Train Loss    0.605 | Valid Accuracy    0.950 | Valid Loss    0.215 \n",
            "-----------------------------------------------------------\n",
            "| epoch   2 |    50/  211 batches | accuracy    0.960\n",
            "| epoch   2 |   100/  211 batches | accuracy    0.961\n",
            "| epoch   2 |   150/  211 batches | accuracy    0.966\n",
            "| epoch   2 |   200/  211 batches | accuracy    0.966\n",
            "-----------------------------------------------------------\n",
            "| End of epoch   2 | Time: 19.45s | Train Accuracy    0.962 | Train Loss    0.157 | Valid Accuracy    0.966 | Valid Loss    0.122 \n",
            "-----------------------------------------------------------\n",
            "| epoch   3 |    50/  211 batches | accuracy    0.972\n",
            "| epoch   3 |   100/  211 batches | accuracy    0.971\n",
            "| epoch   3 |   150/  211 batches | accuracy    0.974\n",
            "| epoch   3 |   200/  211 batches | accuracy    0.972\n",
            "-----------------------------------------------------------\n",
            "| End of epoch   3 | Time: 21.23s | Train Accuracy    0.968 | Train Loss    0.102 | Valid Accuracy    0.969 | Valid Loss    0.107 \n",
            "-----------------------------------------------------------\n",
            "| epoch   4 |    50/  211 batches | accuracy    0.980\n",
            "| epoch   4 |   100/  211 batches | accuracy    0.976\n",
            "| epoch   4 |   150/  211 batches | accuracy    0.980\n",
            "| epoch   4 |   200/  211 batches | accuracy    0.979\n",
            "-----------------------------------------------------------\n",
            "| End of epoch   4 | Time: 18.26s | Train Accuracy    0.982 | Train Loss    0.077 | Valid Accuracy    0.974 | Valid Loss    0.087 \n",
            "-----------------------------------------------------------\n",
            "| epoch   5 |    50/  211 batches | accuracy    0.983\n",
            "| epoch   5 |   100/  211 batches | accuracy    0.980\n",
            "| epoch   5 |   150/  211 batches | accuracy    0.984\n",
            "| epoch   5 |   200/  211 batches | accuracy    0.982\n",
            "-----------------------------------------------------------\n",
            "| End of epoch   5 | Time: 18.69s | Train Accuracy    0.980 | Train Loss    0.062 | Valid Accuracy    0.972 | Valid Loss    0.086 \n",
            "-----------------------------------------------------------\n",
            "| epoch   6 |    50/  211 batches | accuracy    0.987\n",
            "| epoch   6 |   100/  211 batches | accuracy    0.985\n",
            "| epoch   6 |   150/  211 batches | accuracy    0.987\n",
            "| epoch   6 |   200/  211 batches | accuracy    0.984\n",
            "-----------------------------------------------------------\n",
            "| End of epoch   6 | Time: 18.28s | Train Accuracy    0.979 | Train Loss    0.050 | Valid Accuracy    0.974 | Valid Loss    0.082 \n",
            "-----------------------------------------------------------\n",
            "| epoch   7 |    50/  211 batches | accuracy    0.991\n",
            "| epoch   7 |   100/  211 batches | accuracy    0.989\n",
            "| epoch   7 |   150/  211 batches | accuracy    0.987\n",
            "| epoch   7 |   200/  211 batches | accuracy    0.984\n",
            "-----------------------------------------------------------\n",
            "| End of epoch   7 | Time: 19.25s | Train Accuracy    0.987 | Train Loss    0.042 | Valid Accuracy    0.975 | Valid Loss    0.074 \n",
            "-----------------------------------------------------------\n",
            "| epoch   8 |    50/  211 batches | accuracy    0.991\n",
            "| epoch   8 |   100/  211 batches | accuracy    0.991\n",
            "| epoch   8 |   150/  211 batches | accuracy    0.989\n",
            "| epoch   8 |   200/  211 batches | accuracy    0.989\n",
            "-----------------------------------------------------------\n",
            "| End of epoch   8 | Time: 17.88s | Train Accuracy    0.991 | Train Loss    0.035 | Valid Accuracy    0.976 | Valid Loss    0.077 \n",
            "-----------------------------------------------------------\n",
            "| epoch   9 |    50/  211 batches | accuracy    0.993\n",
            "| epoch   9 |   100/  211 batches | accuracy    0.992\n",
            "| epoch   9 |   150/  211 batches | accuracy    0.992\n",
            "| epoch   9 |   200/  211 batches | accuracy    0.992\n",
            "-----------------------------------------------------------\n",
            "| End of epoch   9 | Time: 18.33s | Train Accuracy    0.994 | Train Loss    0.030 | Valid Accuracy    0.975 | Valid Loss    0.077 \n",
            "-----------------------------------------------------------\n",
            "| epoch  10 |    50/  211 batches | accuracy    0.994\n",
            "| epoch  10 |   100/  211 batches | accuracy    0.993\n",
            "| epoch  10 |   150/  211 batches | accuracy    0.992\n",
            "| epoch  10 |   200/  211 batches | accuracy    0.992\n",
            "-----------------------------------------------------------\n",
            "| End of epoch  10 | Time: 18.04s | Train Accuracy    0.994 | Train Loss    0.025 | Valid Accuracy    0.976 | Valid Loss    0.079 \n",
            "-----------------------------------------------------------\n",
            "| epoch  11 |    50/  211 batches | accuracy    0.994\n",
            "| epoch  11 |   100/  211 batches | accuracy    0.994\n",
            "| epoch  11 |   150/  211 batches | accuracy    0.994\n",
            "| epoch  11 |   200/  211 batches | accuracy    0.992\n",
            "-----------------------------------------------------------\n",
            "| End of epoch  11 | Time: 17.81s | Train Accuracy    0.989 | Train Loss    0.023 | Valid Accuracy    0.974 | Valid Loss    0.084 \n",
            "-----------------------------------------------------------\n",
            "| epoch  12 |    50/  211 batches | accuracy    0.996\n",
            "| epoch  12 |   100/  211 batches | accuracy    0.995\n",
            "| epoch  12 |   150/  211 batches | accuracy    0.994\n",
            "| epoch  12 |   200/  211 batches | accuracy    0.994\n",
            "-----------------------------------------------------------\n",
            "| End of epoch  12 | Time: 18.71s | Train Accuracy    0.995 | Train Loss    0.018 | Valid Accuracy    0.976 | Valid Loss    0.083 \n",
            "-----------------------------------------------------------\n",
            "| epoch  13 |    50/  211 batches | accuracy    0.996\n",
            "| epoch  13 |   100/  211 batches | accuracy    0.996\n",
            "| epoch  13 |   150/  211 batches | accuracy    0.995\n",
            "| epoch  13 |   200/  211 batches | accuracy    0.995\n",
            "-----------------------------------------------------------\n",
            "| End of epoch  13 | Time: 17.69s | Train Accuracy    0.994 | Train Loss    0.016 | Valid Accuracy    0.977 | Valid Loss    0.082 \n",
            "-----------------------------------------------------------\n",
            "| epoch  14 |    50/  211 batches | accuracy    0.997\n",
            "| epoch  14 |   100/  211 batches | accuracy    0.998\n",
            "| epoch  14 |   150/  211 batches | accuracy    0.995\n",
            "| epoch  14 |   200/  211 batches | accuracy    0.995\n",
            "-----------------------------------------------------------\n",
            "| End of epoch  14 | Time: 18.66s | Train Accuracy    0.995 | Train Loss    0.014 | Valid Accuracy    0.975 | Valid Loss    0.087 \n",
            "-----------------------------------------------------------\n",
            "| epoch  15 |    50/  211 batches | accuracy    0.998\n",
            "| epoch  15 |   100/  211 batches | accuracy    0.997\n",
            "| epoch  15 |   150/  211 batches | accuracy    0.997\n",
            "| epoch  15 |   200/  211 batches | accuracy    0.994\n",
            "-----------------------------------------------------------\n",
            "| End of epoch  15 | Time: 17.89s | Train Accuracy    0.998 | Train Loss    0.013 | Valid Accuracy    0.973 | Valid Loss    0.091 \n",
            "-----------------------------------------------------------\n",
            "| epoch  16 |    50/  211 batches | accuracy    0.997\n",
            "| epoch  16 |   100/  211 batches | accuracy    0.997\n",
            "| epoch  16 |   150/  211 batches | accuracy    0.995\n",
            "| epoch  16 |   200/  211 batches | accuracy    0.996\n",
            "-----------------------------------------------------------\n",
            "| End of epoch  16 | Time: 19.91s | Train Accuracy    0.996 | Train Loss    0.012 | Valid Accuracy    0.972 | Valid Loss    0.096 \n",
            "-----------------------------------------------------------\n",
            "| epoch  17 |    50/  211 batches | accuracy    0.997\n",
            "| epoch  17 |   100/  211 batches | accuracy    0.998\n",
            "| epoch  17 |   150/  211 batches | accuracy    0.997\n",
            "| epoch  17 |   200/  211 batches | accuracy    0.996\n",
            "-----------------------------------------------------------\n",
            "| End of epoch  17 | Time: 17.63s | Train Accuracy    0.997 | Train Loss    0.010 | Valid Accuracy    0.974 | Valid Loss    0.093 \n",
            "-----------------------------------------------------------\n",
            "| epoch  18 |    50/  211 batches | accuracy    0.998\n",
            "| epoch  18 |   100/  211 batches | accuracy    0.998\n",
            "| epoch  18 |   150/  211 batches | accuracy    0.997\n",
            "| epoch  18 |   200/  211 batches | accuracy    0.997\n",
            "-----------------------------------------------------------\n",
            "| End of epoch  18 | Time: 18.16s | Train Accuracy    0.996 | Train Loss    0.009 | Valid Accuracy    0.976 | Valid Loss    0.100 \n",
            "-----------------------------------------------------------\n",
            "| epoch  19 |    50/  211 batches | accuracy    0.998\n",
            "| epoch  19 |   100/  211 batches | accuracy    0.998\n",
            "| epoch  19 |   150/  211 batches | accuracy    0.998\n",
            "| epoch  19 |   200/  211 batches | accuracy    0.997\n",
            "-----------------------------------------------------------\n",
            "| End of epoch  19 | Time: 18.96s | Train Accuracy    0.998 | Train Loss    0.008 | Valid Accuracy    0.975 | Valid Loss    0.098 \n",
            "-----------------------------------------------------------\n",
            "| epoch  20 |    50/  211 batches | accuracy    0.998\n",
            "| epoch  20 |   100/  211 batches | accuracy    0.998\n",
            "| epoch  20 |   150/  211 batches | accuracy    0.998\n",
            "| epoch  20 |   200/  211 batches | accuracy    0.997\n",
            "-----------------------------------------------------------\n",
            "| End of epoch  20 | Time: 18.35s | Train Accuracy    0.998 | Train Loss    0.007 | Valid Accuracy    0.974 | Valid Loss    0.099 \n",
            "-----------------------------------------------------------\n"
          ]
        }
      ]
    },
    {
      "cell_type": "code",
      "source": [
        "test_acc, test_loss = evaluate_epoch(batchnorm_model, criterion, test_dataloader)\n",
        "test_acc, test_loss"
      ],
      "metadata": {
        "colab": {
          "base_uri": "https://localhost:8080/"
        },
        "id": "NC5YAuA8-0yg",
        "outputId": "c8e58afb-c676-4325-a680-12876656d3a1"
      },
      "execution_count": null,
      "outputs": [
        {
          "output_type": "execute_result",
          "data": {
            "text/plain": [
              "(0.9785, 0.08786186797115078)"
            ]
          },
          "metadata": {},
          "execution_count": 26
        }
      ]
    },
    {
      "cell_type": "code",
      "source": [
        "plot_result(\n",
        "    num_epochs,\n",
        "    batchnorm_metrics[\"train_accuracy\"],\n",
        "    batchnorm_metrics[\"valid_accuracy\"],\n",
        "    batchnorm_metrics[\"train_loss\"],\n",
        "    batchnorm_metrics[\"valid_loss\"]\n",
        ")"
      ],
      "metadata": {
        "colab": {
          "base_uri": "https://localhost:8080/",
          "height": 427
        },
        "id": "Wnpg6Dr06Mxb",
        "outputId": "2df8b6ca-8eab-4213-dcfe-1d1d2a7203fb"
      },
      "execution_count": null,
      "outputs": [
        {
          "output_type": "display_data",
          "data": {
            "text/plain": [
              "<Figure size 1200x600 with 2 Axes>"
            ],
            "image/png": "[encoded data removed]"
          },
          "metadata": {}
        }
      ]
    },
    {
      "cell_type": "code",
      "source": [
        "epochs = list(range(num_epochs))\n",
        "fig, axs = plt.subplots(nrows = 1, ncols =2 , figsize = (12,6))\n",
        "axs[0].plot(epochs, base_metrics['train_loss'], label = \"w/o BN\")\n",
        "axs[0].plot(epochs, batchnorm_metrics['train_loss'], label = \"w BN\")\n",
        "axs[1].plot(epochs, base_metrics['valid_loss'], label = \"w/o BN\")\n",
        "axs[1].plot(epochs, batchnorm_metrics['valid_loss'], label = \"w BN\")\n",
        "axs[0].set_xlabel(\"Epochs\")\n",
        "axs[1].set_xlabel(\"Epochs\")\n",
        "axs[0].set_ylabel(\"Training Loss\")\n",
        "axs[1].set_ylabel(\"Evaluation Loss\")\n",
        "plt.legend()"
      ],
      "metadata": {
        "colab": {
          "base_uri": "https://localhost:8080/",
          "height": 448
        },
        "id": "EDKoCVCZ7qzC",
        "outputId": "a8eed405-df38-4f5d-db06-b2116f605afc"
      },
      "execution_count": null,
      "outputs": [
        {
          "output_type": "execute_result",
          "data": {
            "text/plain": [
              "<matplotlib.legend.Legend at 0x7b7189ac7400>"
            ]
          },
          "metadata": {},
          "execution_count": 35
        },
        {
          "output_type": "display_data",
          "data": {
            "text/plain": [
              "<Figure size 1200x600 with 2 Axes>"
            ],
            "image/png": "[encoded data removed]"
          },
          "metadata": {}
        }
      ]
    },
    {
      "cell_type": "markdown",
      "source": [
        "##**2. Dropout**"
      ],
      "metadata": {
        "id": "-tflrh31AVNF"
      }
    },
    {
      "cell_type": "code",
      "source": [
        "input = torch.randint(5, (3, 3, 2), dtype=torch.float32)"
      ],
      "metadata": {
        "id": "b_cmTDqcAX5e"
      },
      "execution_count": null,
      "outputs": []
    },
    {
      "cell_type": "code",
      "source": [
        "labels = torch.tensor([0, 1, 1])"
      ],
      "metadata": {
        "id": "n3qnYxwoBgYl"
      },
      "execution_count": null,
      "outputs": []
    },
    {
      "cell_type": "code",
      "source": [
        "model = nn.Sequential(\n",
        "    nn.Flatten(),\n",
        "    nn.Linear(3 * 2, 5),\n",
        "    nn.ReLU(),\n",
        "    nn.Dropout(0.2),\n",
        "    nn.Linear(5, 2)\n",
        ")"
      ],
      "metadata": {
        "id": "jfspP3-yAgFN"
      },
      "execution_count": null,
      "outputs": []
    },
    {
      "cell_type": "code",
      "source": [
        "for p in model.parameters():\n",
        "    print(p)"
      ],
      "metadata": {
        "colab": {
          "base_uri": "https://localhost:8080/"
        },
        "id": "0To-7nknAkAo",
        "outputId": "023fd3a2-78d6-4318-9900-4e6e20da36c0"
      },
      "execution_count": null,
      "outputs": [
        {
          "output_type": "stream",
          "name": "stdout",
          "text": [
            "Parameter containing:\n",
            "tensor([[ 0.0339,  0.2694, -0.0702, -0.1022, -0.0501, -0.1658],\n",
            "        [-0.3587, -0.1001,  0.3177,  0.2198, -0.1080,  0.2440],\n",
            "        [ 0.3695,  0.2155, -0.3241,  0.0071, -0.0640,  0.0294],\n",
            "        [ 0.3629, -0.1831,  0.0558,  0.3912,  0.1991,  0.0242],\n",
            "        [ 0.3363,  0.0444, -0.1930, -0.0339, -0.3071, -0.3149]],\n",
            "       requires_grad=True)\n",
            "Parameter containing:\n",
            "tensor([-0.1539, -0.1728, -0.4074,  0.3598,  0.2259], requires_grad=True)\n",
            "Parameter containing:\n",
            "tensor([[-0.1894, -0.3688, -0.1061,  0.3186, -0.0470],\n",
            "        [ 0.0826,  0.3058,  0.1241,  0.4439, -0.3034]], requires_grad=True)\n",
            "Parameter containing:\n",
            "tensor([ 0.4080, -0.1327], requires_grad=True)\n"
          ]
        }
      ]
    },
    {
      "cell_type": "code",
      "source": [
        "predictions = model(input)"
      ],
      "metadata": {
        "id": "Sl_VB00zBIVL"
      },
      "execution_count": null,
      "outputs": []
    },
    {
      "cell_type": "code",
      "source": [
        "loss_function = nn.CrossEntropyLoss()\n",
        "optimizer = torch.optim.Adam(model.parameters())"
      ],
      "metadata": {
        "id": "6fEHYVk4BkCY"
      },
      "execution_count": null,
      "outputs": []
    },
    {
      "cell_type": "code",
      "source": [
        "loss = loss_function(predictions, labels)"
      ],
      "metadata": {
        "id": "UkWB32-6Bn6P"
      },
      "execution_count": null,
      "outputs": []
    },
    {
      "cell_type": "code",
      "source": [
        "loss.backward()"
      ],
      "metadata": {
        "id": "BdON7SZ8BqTd"
      },
      "execution_count": null,
      "outputs": []
    },
    {
      "cell_type": "code",
      "source": [
        "optimizer.step()"
      ],
      "metadata": {
        "id": "v3deb4LqBunf"
      },
      "execution_count": null,
      "outputs": []
    },
    {
      "cell_type": "code",
      "source": [
        "for p in model.parameters():\n",
        "    print(p)"
      ],
      "metadata": {
        "colab": {
          "base_uri": "https://localhost:8080/"
        },
        "id": "XlcU_1rDBwNN",
        "outputId": "c53ca7e8-af5d-4248-d4d9-546785325eba"
      },
      "execution_count": null,
      "outputs": [
        {
          "output_type": "stream",
          "name": "stdout",
          "text": [
            "Parameter containing:\n",
            "tensor([[ 0.0339,  0.2694, -0.0702, -0.1022, -0.0501, -0.1658],\n",
            "        [-0.3597, -0.1011,  0.3167,  0.2188, -0.1090,  0.2430],\n",
            "        [ 0.3705,  0.2145, -0.3251,  0.0081, -0.0650,  0.0284],\n",
            "        [ 0.3639, -0.1841,  0.0548,  0.3922,  0.1981,  0.0232],\n",
            "        [ 0.3353,  0.0434, -0.1930, -0.0349, -0.3071, -0.3159]],\n",
            "       requires_grad=True)\n",
            "Parameter containing:\n",
            "tensor([-0.1539, -0.1738, -0.4064,  0.3608,  0.2249], requires_grad=True)\n",
            "Parameter containing:\n",
            "tensor([[-0.1894, -0.3698, -0.1071,  0.3176, -0.0480],\n",
            "        [ 0.0826,  0.3068,  0.1251,  0.4449, -0.3024]], requires_grad=True)\n",
            "Parameter containing:\n",
            "tensor([ 0.4070, -0.1317], requires_grad=True)\n"
          ]
        }
      ]
    },
    {
      "cell_type": "markdown",
      "source": [
        "###MNIST Classification"
      ],
      "metadata": {
        "id": "5Qo76dRyDIIL"
      }
    },
    {
      "cell_type": "code",
      "source": [
        "dropout_model = nn.Sequential(\n",
        "    nn.Conv2d(1, 6, 5, stride=2),\n",
        "    nn.Flatten(),\n",
        "    nn.Linear(6 * 12 * 12, 64),\n",
        "    nn.ReLU(),\n",
        "    nn.Dropout(0.2),\n",
        "    nn.Linear(64, 32),\n",
        "    nn.ReLU(),\n",
        "    nn.Dropout(0.2),\n",
        "    nn.Linear(32, 10)\n",
        ")"
      ],
      "metadata": {
        "id": "aynNMCP6DLUp"
      },
      "execution_count": null,
      "outputs": []
    },
    {
      "cell_type": "code",
      "source": [
        "summary(dropout_model, (1, 28, 28))"
      ],
      "metadata": {
        "colab": {
          "base_uri": "https://localhost:8080/"
        },
        "id": "X8CU1khID3x6",
        "outputId": "3969dea2-3e80-45b3-c58b-ed4c4c21ac5b"
      },
      "execution_count": null,
      "outputs": [
        {
          "output_type": "stream",
          "name": "stdout",
          "text": [
            "----------------------------------------------------------------\n",
            "        Layer (type)               Output Shape         Param #\n",
            "================================================================\n",
            "            Conv2d-1            [-1, 6, 12, 12]             156\n",
            "           Flatten-2                  [-1, 864]               0\n",
            "            Linear-3                   [-1, 64]          55,360\n",
            "              ReLU-4                   [-1, 64]               0\n",
            "           Dropout-5                   [-1, 64]               0\n",
            "            Linear-6                   [-1, 32]           2,080\n",
            "              ReLU-7                   [-1, 32]               0\n",
            "           Dropout-8                   [-1, 32]               0\n",
            "            Linear-9                   [-1, 10]             330\n",
            "================================================================\n",
            "Total params: 57,926\n",
            "Trainable params: 57,926\n",
            "Non-trainable params: 0\n",
            "----------------------------------------------------------------\n",
            "Input size (MB): 0.00\n",
            "Forward/backward pass size (MB): 0.02\n",
            "Params size (MB): 0.22\n",
            "Estimated Total Size (MB): 0.24\n",
            "----------------------------------------------------------------\n"
          ]
        }
      ]
    },
    {
      "cell_type": "code",
      "source": [
        "num_classes = len(train_data.dataset.classes)\n",
        "\n",
        "device = torch.device('cuda' if torch.cuda.is_available() else 'cpu')\n",
        "\n",
        "dropout_model.to(device)\n",
        "\n",
        "criterion = torch.nn.CrossEntropyLoss()\n",
        "optimizer = optim.Adam(dropout_model.parameters())\n",
        "\n",
        "num_epochs = 20\n",
        "save_model = './model'\n",
        "os.makedirs(save_model, exist_ok = True)\n",
        "model_name = 'dropout_model'\n",
        "\n",
        "dropout_model, dropout_metrics = train(\n",
        "    dropout_model, model_name, optimizer, criterion, train_dataloader, valid_dataloader, num_epochs, device\n",
        ")"
      ],
      "metadata": {
        "colab": {
          "base_uri": "https://localhost:8080/"
        },
        "id": "8JeuFonpEAVU",
        "outputId": "bb2dcd11-c182-4326-d8ac-52351b0aed32"
      },
      "execution_count": null,
      "outputs": [
        {
          "output_type": "stream",
          "name": "stdout",
          "text": [
            "| epoch   1 |    50/  211 batches | accuracy    0.528\n",
            "| epoch   1 |   100/  211 batches | accuracy    0.811\n",
            "| epoch   1 |   150/  211 batches | accuracy    0.867\n",
            "| epoch   1 |   200/  211 batches | accuracy    0.886\n",
            "-----------------------------------------------------------\n",
            "| End of epoch   1 | Time: 20.05s | Train Accuracy    0.894 | Train Loss    0.698 | Valid Accuracy    0.931 | Valid Loss    0.227 \n",
            "-----------------------------------------------------------\n",
            "| epoch   2 |    50/  211 batches | accuracy    0.902\n",
            "| epoch   2 |   100/  211 batches | accuracy    0.907\n",
            "| epoch   2 |   150/  211 batches | accuracy    0.913\n",
            "| epoch   2 |   200/  211 batches | accuracy    0.921\n",
            "-----------------------------------------------------------\n",
            "| End of epoch   2 | Time: 18.08s | Train Accuracy    0.918 | Train Loss    0.298 | Valid Accuracy    0.946 | Valid Loss    0.166 \n",
            "-----------------------------------------------------------\n",
            "| epoch   3 |    50/  211 batches | accuracy    0.924\n",
            "| epoch   3 |   100/  211 batches | accuracy    0.932\n",
            "| epoch   3 |   150/  211 batches | accuracy    0.931\n",
            "| epoch   3 |   200/  211 batches | accuracy    0.931\n",
            "-----------------------------------------------------------\n",
            "| End of epoch   3 | Time: 18.97s | Train Accuracy    0.928 | Train Loss    0.238 | Valid Accuracy    0.958 | Valid Loss    0.137 \n",
            "-----------------------------------------------------------\n",
            "| epoch   4 |    50/  211 batches | accuracy    0.938\n",
            "| epoch   4 |   100/  211 batches | accuracy    0.936\n",
            "| epoch   4 |   150/  211 batches | accuracy    0.944\n",
            "| epoch   4 |   200/  211 batches | accuracy    0.939\n",
            "-----------------------------------------------------------\n",
            "| End of epoch   4 | Time: 18.03s | Train Accuracy    0.940 | Train Loss    0.207 | Valid Accuracy    0.960 | Valid Loss    0.130 \n",
            "-----------------------------------------------------------\n",
            "| epoch   5 |    50/  211 batches | accuracy    0.944\n",
            "| epoch   5 |   100/  211 batches | accuracy    0.945\n",
            "| epoch   5 |   150/  211 batches | accuracy    0.947\n",
            "| epoch   5 |   200/  211 batches | accuracy    0.946\n",
            "-----------------------------------------------------------\n",
            "| End of epoch   5 | Time: 22.10s | Train Accuracy    0.949 | Train Loss    0.185 | Valid Accuracy    0.964 | Valid Loss    0.117 \n",
            "-----------------------------------------------------------\n",
            "| epoch   6 |    50/  211 batches | accuracy    0.949\n",
            "| epoch   6 |   100/  211 batches | accuracy    0.949\n",
            "| epoch   6 |   150/  211 batches | accuracy    0.950\n",
            "| epoch   6 |   200/  211 batches | accuracy    0.947\n",
            "-----------------------------------------------------------\n",
            "| End of epoch   6 | Time: 27.73s | Train Accuracy    0.954 | Train Loss    0.173 | Valid Accuracy    0.964 | Valid Loss    0.110 \n",
            "-----------------------------------------------------------\n",
            "| epoch   7 |    50/  211 batches | accuracy    0.953\n",
            "| epoch   7 |   100/  211 batches | accuracy    0.954\n",
            "| epoch   7 |   150/  211 batches | accuracy    0.956\n",
            "| epoch   7 |   200/  211 batches | accuracy    0.951\n",
            "-----------------------------------------------------------\n",
            "| End of epoch   7 | Time: 18.71s | Train Accuracy    0.948 | Train Loss    0.162 | Valid Accuracy    0.967 | Valid Loss    0.108 \n",
            "-----------------------------------------------------------\n",
            "| epoch   8 |    50/  211 batches | accuracy    0.953\n",
            "| epoch   8 |   100/  211 batches | accuracy    0.957\n",
            "| epoch   8 |   150/  211 batches | accuracy    0.955\n",
            "| epoch   8 |   200/  211 batches | accuracy    0.954\n",
            "-----------------------------------------------------------\n",
            "| End of epoch   8 | Time: 18.43s | Train Accuracy    0.952 | Train Loss    0.153 | Valid Accuracy    0.965 | Valid Loss    0.108 \n",
            "-----------------------------------------------------------\n",
            "| epoch   9 |    50/  211 batches | accuracy    0.955\n",
            "| epoch   9 |   100/  211 batches | accuracy    0.958\n",
            "| epoch   9 |   150/  211 batches | accuracy    0.956\n",
            "| epoch   9 |   200/  211 batches | accuracy    0.954\n",
            "-----------------------------------------------------------\n",
            "| End of epoch   9 | Time: 17.89s | Train Accuracy    0.960 | Train Loss    0.147 | Valid Accuracy    0.970 | Valid Loss    0.096 \n",
            "-----------------------------------------------------------\n",
            "| epoch  10 |    50/  211 batches | accuracy    0.962\n",
            "| epoch  10 |   100/  211 batches | accuracy    0.955\n",
            "| epoch  10 |   150/  211 batches | accuracy    0.959\n",
            "| epoch  10 |   200/  211 batches | accuracy    0.958\n",
            "-----------------------------------------------------------\n",
            "| End of epoch  10 | Time: 18.95s | Train Accuracy    0.959 | Train Loss    0.138 | Valid Accuracy    0.970 | Valid Loss    0.097 \n",
            "-----------------------------------------------------------\n",
            "| epoch  11 |    50/  211 batches | accuracy    0.961\n",
            "| epoch  11 |   100/  211 batches | accuracy    0.961\n",
            "| epoch  11 |   150/  211 batches | accuracy    0.960\n",
            "| epoch  11 |   200/  211 batches | accuracy    0.961\n",
            "-----------------------------------------------------------\n",
            "| End of epoch  11 | Time: 19.55s | Train Accuracy    0.950 | Train Loss    0.132 | Valid Accuracy    0.971 | Valid Loss    0.094 \n",
            "-----------------------------------------------------------\n",
            "| epoch  12 |    50/  211 batches | accuracy    0.960\n",
            "| epoch  12 |   100/  211 batches | accuracy    0.962\n",
            "| epoch  12 |   150/  211 batches | accuracy    0.961\n",
            "| epoch  12 |   200/  211 batches | accuracy    0.960\n",
            "-----------------------------------------------------------\n",
            "| End of epoch  12 | Time: 19.27s | Train Accuracy    0.967 | Train Loss    0.131 | Valid Accuracy    0.972 | Valid Loss    0.094 \n",
            "-----------------------------------------------------------\n",
            "| epoch  13 |    50/  211 batches | accuracy    0.963\n",
            "| epoch  13 |   100/  211 batches | accuracy    0.962\n",
            "| epoch  13 |   150/  211 batches | accuracy    0.966\n",
            "| epoch  13 |   200/  211 batches | accuracy    0.961\n",
            "-----------------------------------------------------------\n",
            "| End of epoch  13 | Time: 18.01s | Train Accuracy    0.961 | Train Loss    0.126 | Valid Accuracy    0.972 | Valid Loss    0.093 \n",
            "-----------------------------------------------------------\n",
            "| epoch  14 |    50/  211 batches | accuracy    0.966\n",
            "| epoch  14 |   100/  211 batches | accuracy    0.964\n",
            "| epoch  14 |   150/  211 batches | accuracy    0.964\n",
            "| epoch  14 |   200/  211 batches | accuracy    0.961\n",
            "-----------------------------------------------------------\n",
            "| End of epoch  14 | Time: 18.77s | Train Accuracy    0.961 | Train Loss    0.120 | Valid Accuracy    0.973 | Valid Loss    0.091 \n",
            "-----------------------------------------------------------\n",
            "| epoch  15 |    50/  211 batches | accuracy    0.964\n",
            "| epoch  15 |   100/  211 batches | accuracy    0.965\n",
            "| epoch  15 |   150/  211 batches | accuracy    0.964\n",
            "| epoch  15 |   200/  211 batches | accuracy    0.963\n",
            "-----------------------------------------------------------\n",
            "| End of epoch  15 | Time: 18.52s | Train Accuracy    0.970 | Train Loss    0.119 | Valid Accuracy    0.973 | Valid Loss    0.088 \n",
            "-----------------------------------------------------------\n",
            "| epoch  16 |    50/  211 batches | accuracy    0.967\n",
            "| epoch  16 |   100/  211 batches | accuracy    0.966\n",
            "| epoch  16 |   150/  211 batches | accuracy    0.965\n",
            "| epoch  16 |   200/  211 batches | accuracy    0.965\n",
            "-----------------------------------------------------------\n",
            "| End of epoch  16 | Time: 19.15s | Train Accuracy    0.965 | Train Loss    0.113 | Valid Accuracy    0.972 | Valid Loss    0.089 \n",
            "-----------------------------------------------------------\n",
            "| epoch  17 |    50/  211 batches | accuracy    0.966\n",
            "| epoch  17 |   100/  211 batches | accuracy    0.968\n",
            "| epoch  17 |   150/  211 batches | accuracy    0.968\n",
            "| epoch  17 |   200/  211 batches | accuracy    0.966\n",
            "-----------------------------------------------------------\n",
            "| End of epoch  17 | Time: 18.12s | Train Accuracy    0.971 | Train Loss    0.112 | Valid Accuracy    0.971 | Valid Loss    0.088 \n",
            "-----------------------------------------------------------\n",
            "| epoch  18 |    50/  211 batches | accuracy    0.968\n",
            "| epoch  18 |   100/  211 batches | accuracy    0.968\n",
            "| epoch  18 |   150/  211 batches | accuracy    0.965\n",
            "| epoch  18 |   200/  211 batches | accuracy    0.968\n",
            "-----------------------------------------------------------\n",
            "| End of epoch  18 | Time: 19.50s | Train Accuracy    0.966 | Train Loss    0.108 | Valid Accuracy    0.973 | Valid Loss    0.086 \n",
            "-----------------------------------------------------------\n",
            "| epoch  19 |    50/  211 batches | accuracy    0.969\n",
            "| epoch  19 |   100/  211 batches | accuracy    0.967\n",
            "| epoch  19 |   150/  211 batches | accuracy    0.967\n",
            "| epoch  19 |   200/  211 batches | accuracy    0.972\n",
            "-----------------------------------------------------------\n",
            "| End of epoch  19 | Time: 20.04s | Train Accuracy    0.964 | Train Loss    0.103 | Valid Accuracy    0.970 | Valid Loss    0.094 \n",
            "-----------------------------------------------------------\n",
            "| epoch  20 |    50/  211 batches | accuracy    0.970\n",
            "| epoch  20 |   100/  211 batches | accuracy    0.971\n",
            "| epoch  20 |   150/  211 batches | accuracy    0.972\n",
            "| epoch  20 |   200/  211 batches | accuracy    0.967\n",
            "-----------------------------------------------------------\n",
            "| End of epoch  20 | Time: 19.90s | Train Accuracy    0.964 | Train Loss    0.104 | Valid Accuracy    0.975 | Valid Loss    0.085 \n",
            "-----------------------------------------------------------\n"
          ]
        }
      ]
    },
    {
      "cell_type": "code",
      "source": [
        "test_acc, test_loss = evaluate_epoch(dropout_model, criterion, test_dataloader)\n",
        "test_acc, test_loss"
      ],
      "metadata": {
        "colab": {
          "base_uri": "https://localhost:8080/"
        },
        "id": "vd7LeRiTF2yO",
        "outputId": "5612f2b0-7381-405b-a147-7dc6ac55e2dc"
      },
      "execution_count": null,
      "outputs": [
        {
          "output_type": "execute_result",
          "data": {
            "text/plain": [
              "(0.9758, 0.08664954226187546)"
            ]
          },
          "metadata": {},
          "execution_count": 39
        }
      ]
    },
    {
      "cell_type": "code",
      "source": [
        "epochs = list(range(num_epochs))\n",
        "fig, axs = plt.subplots(nrows = 1, ncols =2 , figsize = (12,6))\n",
        "axs[0].plot(epochs, base_metrics['train_loss'], label = \"w/o Dropout\")\n",
        "axs[0].plot(epochs, dropout_metrics['train_loss'], label = \"w Dropout\")\n",
        "axs[1].plot(epochs, base_metrics['valid_loss'], label = \"w/o Dropout\")\n",
        "axs[1].plot(epochs, dropout_metrics['valid_loss'], label = \"w Dropout\")\n",
        "axs[0].set_xlabel(\"Epochs\")\n",
        "axs[1].set_xlabel(\"Epochs\")\n",
        "axs[0].set_ylabel(\"Training Loss\")\n",
        "axs[1].set_ylabel(\"Evaluation Loss\")\n",
        "plt.legend()"
      ],
      "metadata": {
        "colab": {
          "base_uri": "https://localhost:8080/",
          "height": 447
        },
        "id": "MfB-vPHashJe",
        "outputId": "b7ddaa4a-e01e-4c21-a835-8c0142c621f2"
      },
      "execution_count": null,
      "outputs": [
        {
          "output_type": "execute_result",
          "data": {
            "text/plain": [
              "<matplotlib.legend.Legend at 0x7b7189dfd0c0>"
            ]
          },
          "metadata": {},
          "execution_count": 38
        },
        {
          "output_type": "display_data",
          "data": {
            "text/plain": [
              "<Figure size 1200x600 with 2 Axes>"
            ],
            "image/png": "[encoded data removed]"
          },
          "metadata": {}
        }
      ]
    },
    {
      "cell_type": "code",
      "source": [
        "device = torch.device('cuda' if torch.cuda.is_available() else 'cpu')"
      ],
      "metadata": {
        "id": "gfj-Nht8wn1e"
      },
      "execution_count": null,
      "outputs": []
    },
    {
      "cell_type": "code",
      "source": [
        "metrics = []\n",
        "p_dropouts = [0.0, 0.1, 0.2, 0.3, 0.4, 0.5, 0.6, 0.7, 0.8, 0.9, 1.0]\n",
        "for p in p_dropouts:\n",
        "    print(p)\n",
        "    dropout_model = nn.Sequential(\n",
        "        nn.Conv2d(1, 6, 5, stride=2),\n",
        "        nn.Flatten(),\n",
        "        nn.Linear(6 * 12 * 12, 64),\n",
        "        nn.ReLU(),\n",
        "        nn.Dropout(p),\n",
        "        nn.Linear(64, 32),\n",
        "        nn.ReLU(),\n",
        "        nn.Dropout(p),\n",
        "        nn.Linear(32, 10)\n",
        "    )\n",
        "\n",
        "    dropout_model.to(device)\n",
        "\n",
        "    criterion = torch.nn.CrossEntropyLoss()\n",
        "    optimizer = optim.Adam(dropout_model.parameters())\n",
        "\n",
        "    num_epochs = 20\n",
        "    save_model = './model'\n",
        "    os.makedirs(save_model, exist_ok = True)\n",
        "    model_name = 'dropout_model'\n",
        "\n",
        "    dropout_model, dropout_metrics = train(\n",
        "        dropout_model, model_name, optimizer, criterion, train_dataloader, valid_dataloader, num_epochs, device\n",
        "    )\n",
        "    test_acc, test_loss = evaluate_epoch(dropout_model, criterion, test_dataloader)\n",
        "    dropout_metrics['test_accuracy'] = test_acc\n",
        "    dropout_metrics['test_loss'] = test_loss\n",
        "    metrics.append(dropout_metrics)"
      ],
      "metadata": {
        "id": "Uo_QWXSpwLV3",
        "colab": {
          "base_uri": "https://localhost:8080/"
        },
        "outputId": "a8bac427-0546-4a24-af2d-9f560fe0c307"
      },
      "execution_count": null,
      "outputs": [
        {
          "output_type": "stream",
          "name": "stdout",
          "text": [
            "0.0\n",
            "| epoch   1 |    50/  211 batches | accuracy    0.636\n",
            "| epoch   1 |   100/  211 batches | accuracy    0.892\n",
            "| epoch   1 |   150/  211 batches | accuracy    0.904\n",
            "| epoch   1 |   200/  211 batches | accuracy    0.920\n",
            "-----------------------------------------------------------\n",
            "| End of epoch   1 | Time: 16.18s | Train Accuracy    0.931 | Train Loss    0.547 | Valid Accuracy    0.930 | Valid Loss    0.241 \n",
            "-----------------------------------------------------------\n",
            "| epoch   2 |    50/  211 batches | accuracy    0.932\n",
            "| epoch   2 |   100/  211 batches | accuracy    0.943\n",
            "| epoch   2 |   150/  211 batches | accuracy    0.944\n",
            "| epoch   2 |   200/  211 batches | accuracy    0.946\n",
            "-----------------------------------------------------------\n",
            "| End of epoch   2 | Time: 17.57s | Train Accuracy    0.943 | Train Loss    0.198 | Valid Accuracy    0.945 | Valid Loss    0.186 \n",
            "-----------------------------------------------------------\n",
            "| epoch   3 |    50/  211 batches | accuracy    0.955\n",
            "| epoch   3 |   100/  211 batches | accuracy    0.954\n",
            "| epoch   3 |   150/  211 batches | accuracy    0.959\n",
            "| epoch   3 |   200/  211 batches | accuracy    0.957\n",
            "-----------------------------------------------------------\n",
            "| End of epoch   3 | Time: 17.04s | Train Accuracy    0.956 | Train Loss    0.147 | Valid Accuracy    0.956 | Valid Loss    0.148 \n",
            "-----------------------------------------------------------\n",
            "| epoch   4 |    50/  211 batches | accuracy    0.966\n",
            "| epoch   4 |   100/  211 batches | accuracy    0.964\n",
            "| epoch   4 |   150/  211 batches | accuracy    0.967\n",
            "| epoch   4 |   200/  211 batches | accuracy    0.963\n",
            "-----------------------------------------------------------\n",
            "| End of epoch   4 | Time: 16.77s | Train Accuracy    0.968 | Train Loss    0.116 | Valid Accuracy    0.962 | Valid Loss    0.122 \n",
            "-----------------------------------------------------------\n",
            "| epoch   5 |    50/  211 batches | accuracy    0.970\n",
            "| epoch   5 |   100/  211 batches | accuracy    0.972\n",
            "| epoch   5 |   150/  211 batches | accuracy    0.972\n",
            "| epoch   5 |   200/  211 batches | accuracy    0.973\n",
            "-----------------------------------------------------------\n",
            "| End of epoch   5 | Time: 16.14s | Train Accuracy    0.972 | Train Loss    0.094 | Valid Accuracy    0.970 | Valid Loss    0.103 \n",
            "-----------------------------------------------------------\n",
            "| epoch   6 |    50/  211 batches | accuracy    0.975\n",
            "| epoch   6 |   100/  211 batches | accuracy    0.973\n",
            "| epoch   6 |   150/  211 batches | accuracy    0.976\n",
            "| epoch   6 |   200/  211 batches | accuracy    0.976\n",
            "-----------------------------------------------------------\n",
            "| End of epoch   6 | Time: 16.04s | Train Accuracy    0.969 | Train Loss    0.081 | Valid Accuracy    0.967 | Valid Loss    0.103 \n",
            "-----------------------------------------------------------\n",
            "| epoch   7 |    50/  211 batches | accuracy    0.979\n",
            "| epoch   7 |   100/  211 batches | accuracy    0.979\n",
            "| epoch   7 |   150/  211 batches | accuracy    0.980\n",
            "| epoch   7 |   200/  211 batches | accuracy    0.977\n",
            "-----------------------------------------------------------\n",
            "| End of epoch   7 | Time: 16.01s | Train Accuracy    0.976 | Train Loss    0.070 | Valid Accuracy    0.968 | Valid Loss    0.104 \n",
            "-----------------------------------------------------------\n",
            "| epoch   8 |    50/  211 batches | accuracy    0.982\n",
            "| epoch   8 |   100/  211 batches | accuracy    0.983\n",
            "| epoch   8 |   150/  211 batches | accuracy    0.980\n",
            "| epoch   8 |   200/  211 batches | accuracy    0.980\n",
            "-----------------------------------------------------------\n",
            "| End of epoch   8 | Time: 16.60s | Train Accuracy    0.983 | Train Loss    0.061 | Valid Accuracy    0.973 | Valid Loss    0.091 \n",
            "-----------------------------------------------------------\n",
            "| epoch   9 |    50/  211 batches | accuracy    0.985\n",
            "| epoch   9 |   100/  211 batches | accuracy    0.983\n",
            "| epoch   9 |   150/  211 batches | accuracy    0.984\n",
            "| epoch   9 |   200/  211 batches | accuracy    0.982\n",
            "-----------------------------------------------------------\n",
            "| End of epoch   9 | Time: 16.91s | Train Accuracy    0.982 | Train Loss    0.054 | Valid Accuracy    0.973 | Valid Loss    0.090 \n",
            "-----------------------------------------------------------\n",
            "| epoch  10 |    50/  211 batches | accuracy    0.988\n",
            "| epoch  10 |   100/  211 batches | accuracy    0.984\n",
            "| epoch  10 |   150/  211 batches | accuracy    0.984\n",
            "| epoch  10 |   200/  211 batches | accuracy    0.984\n",
            "-----------------------------------------------------------\n",
            "| End of epoch  10 | Time: 16.15s | Train Accuracy    0.982 | Train Loss    0.048 | Valid Accuracy    0.974 | Valid Loss    0.099 \n",
            "-----------------------------------------------------------\n",
            "| epoch  11 |    50/  211 batches | accuracy    0.987\n",
            "| epoch  11 |   100/  211 batches | accuracy    0.988\n",
            "| epoch  11 |   150/  211 batches | accuracy    0.986\n",
            "| epoch  11 |   200/  211 batches | accuracy    0.986\n",
            "-----------------------------------------------------------\n",
            "| End of epoch  11 | Time: 16.10s | Train Accuracy    0.986 | Train Loss    0.042 | Valid Accuracy    0.975 | Valid Loss    0.087 \n",
            "-----------------------------------------------------------\n",
            "| epoch  12 |    50/  211 batches | accuracy    0.989\n",
            "| epoch  12 |   100/  211 batches | accuracy    0.988\n",
            "| epoch  12 |   150/  211 batches | accuracy    0.987\n",
            "| epoch  12 |   200/  211 batches | accuracy    0.987\n",
            "-----------------------------------------------------------\n",
            "| End of epoch  12 | Time: 18.87s | Train Accuracy    0.987 | Train Loss    0.039 | Valid Accuracy    0.971 | Valid Loss    0.098 \n",
            "-----------------------------------------------------------\n",
            "| epoch  13 |    50/  211 batches | accuracy    0.989\n",
            "| epoch  13 |   100/  211 batches | accuracy    0.990\n",
            "| epoch  13 |   150/  211 batches | accuracy    0.990\n",
            "| epoch  13 |   200/  211 batches | accuracy    0.988\n",
            "-----------------------------------------------------------\n",
            "| End of epoch  13 | Time: 16.14s | Train Accuracy    0.992 | Train Loss    0.034 | Valid Accuracy    0.975 | Valid Loss    0.102 \n",
            "-----------------------------------------------------------\n",
            "| epoch  14 |    50/  211 batches | accuracy    0.991\n",
            "| epoch  14 |   100/  211 batches | accuracy    0.991\n",
            "| epoch  14 |   150/  211 batches | accuracy    0.989\n",
            "| epoch  14 |   200/  211 batches | accuracy    0.990\n",
            "-----------------------------------------------------------\n",
            "| End of epoch  14 | Time: 16.97s | Train Accuracy    0.989 | Train Loss    0.031 | Valid Accuracy    0.974 | Valid Loss    0.101 \n",
            "-----------------------------------------------------------\n",
            "| epoch  15 |    50/  211 batches | accuracy    0.992\n",
            "| epoch  15 |   100/  211 batches | accuracy    0.993\n",
            "| epoch  15 |   150/  211 batches | accuracy    0.989\n",
            "| epoch  15 |   200/  211 batches | accuracy    0.990\n",
            "-----------------------------------------------------------\n",
            "| End of epoch  15 | Time: 16.52s | Train Accuracy    0.990 | Train Loss    0.028 | Valid Accuracy    0.974 | Valid Loss    0.104 \n",
            "-----------------------------------------------------------\n",
            "| epoch  16 |    50/  211 batches | accuracy    0.993\n",
            "| epoch  16 |   100/  211 batches | accuracy    0.992\n",
            "| epoch  16 |   150/  211 batches | accuracy    0.990\n",
            "| epoch  16 |   200/  211 batches | accuracy    0.991\n",
            "-----------------------------------------------------------\n",
            "| End of epoch  16 | Time: 16.25s | Train Accuracy    0.995 | Train Loss    0.026 | Valid Accuracy    0.977 | Valid Loss    0.094 \n",
            "-----------------------------------------------------------\n",
            "| epoch  17 |    50/  211 batches | accuracy    0.992\n",
            "| epoch  17 |   100/  211 batches | accuracy    0.993\n",
            "| epoch  17 |   150/  211 batches | accuracy    0.993\n",
            "| epoch  17 |   200/  211 batches | accuracy    0.992\n",
            "-----------------------------------------------------------\n",
            "| End of epoch  17 | Time: 16.23s | Train Accuracy    0.994 | Train Loss    0.023 | Valid Accuracy    0.976 | Valid Loss    0.102 \n",
            "-----------------------------------------------------------\n",
            "| epoch  18 |    50/  211 batches | accuracy    0.995\n",
            "| epoch  18 |   100/  211 batches | accuracy    0.994\n",
            "| epoch  18 |   150/  211 batches | accuracy    0.994\n",
            "| epoch  18 |   200/  211 batches | accuracy    0.992\n",
            "-----------------------------------------------------------\n",
            "| End of epoch  18 | Time: 16.18s | Train Accuracy    0.990 | Train Loss    0.021 | Valid Accuracy    0.972 | Valid Loss    0.117 \n",
            "-----------------------------------------------------------\n",
            "| epoch  19 |    50/  211 batches | accuracy    0.995\n",
            "| epoch  19 |   100/  211 batches | accuracy    0.994\n",
            "| epoch  19 |   150/  211 batches | accuracy    0.994\n",
            "| epoch  19 |   200/  211 batches | accuracy    0.993\n",
            "-----------------------------------------------------------\n",
            "| End of epoch  19 | Time: 16.24s | Train Accuracy    0.993 | Train Loss    0.018 | Valid Accuracy    0.974 | Valid Loss    0.119 \n",
            "-----------------------------------------------------------\n",
            "| epoch  20 |    50/  211 batches | accuracy    0.996\n",
            "| epoch  20 |   100/  211 batches | accuracy    0.994\n",
            "| epoch  20 |   150/  211 batches | accuracy    0.995\n",
            "| epoch  20 |   200/  211 batches | accuracy    0.994\n",
            "-----------------------------------------------------------\n",
            "| End of epoch  20 | Time: 17.15s | Train Accuracy    0.995 | Train Loss    0.016 | Valid Accuracy    0.974 | Valid Loss    0.113 \n",
            "-----------------------------------------------------------\n",
            "0.1\n",
            "| epoch   1 |    50/  211 batches | accuracy    0.634\n",
            "| epoch   1 |   100/  211 batches | accuracy    0.864\n",
            "| epoch   1 |   150/  211 batches | accuracy    0.892\n",
            "| epoch   1 |   200/  211 batches | accuracy    0.905\n",
            "-----------------------------------------------------------\n",
            "| End of epoch   1 | Time: 16.19s | Train Accuracy    0.912 | Train Loss    0.564 | Valid Accuracy    0.935 | Valid Loss    0.212 \n",
            "-----------------------------------------------------------\n",
            "| epoch   2 |    50/  211 batches | accuracy    0.923\n",
            "| epoch   2 |   100/  211 batches | accuracy    0.930\n",
            "| epoch   2 |   150/  211 batches | accuracy    0.935\n",
            "| epoch   2 |   200/  211 batches | accuracy    0.939\n",
            "-----------------------------------------------------------\n",
            "| End of epoch   2 | Time: 16.23s | Train Accuracy    0.941 | Train Loss    0.227 | Valid Accuracy    0.954 | Valid Loss    0.149 \n",
            "-----------------------------------------------------------\n",
            "| epoch   3 |    50/  211 batches | accuracy    0.948\n",
            "| epoch   3 |   100/  211 batches | accuracy    0.945\n",
            "| epoch   3 |   150/  211 batches | accuracy    0.948\n",
            "| epoch   3 |   200/  211 batches | accuracy    0.950\n",
            "-----------------------------------------------------------\n",
            "| End of epoch   3 | Time: 16.29s | Train Accuracy    0.958 | Train Loss    0.173 | Valid Accuracy    0.961 | Valid Loss    0.122 \n",
            "-----------------------------------------------------------\n",
            "| epoch   4 |    50/  211 batches | accuracy    0.954\n",
            "| epoch   4 |   100/  211 batches | accuracy    0.958\n",
            "| epoch   4 |   150/  211 batches | accuracy    0.954\n",
            "| epoch   4 |   200/  211 batches | accuracy    0.956\n",
            "-----------------------------------------------------------\n",
            "| End of epoch   4 | Time: 16.56s | Train Accuracy    0.956 | Train Loss    0.145 | Valid Accuracy    0.964 | Valid Loss    0.114 \n",
            "-----------------------------------------------------------\n",
            "| epoch   5 |    50/  211 batches | accuracy    0.959\n",
            "| epoch   5 |   100/  211 batches | accuracy    0.958\n",
            "| epoch   5 |   150/  211 batches | accuracy    0.960\n",
            "| epoch   5 |   200/  211 batches | accuracy    0.961\n",
            "-----------------------------------------------------------\n",
            "| End of epoch   5 | Time: 19.68s | Train Accuracy    0.961 | Train Loss    0.132 | Valid Accuracy    0.966 | Valid Loss    0.104 \n",
            "-----------------------------------------------------------\n",
            "| epoch   6 |    50/  211 batches | accuracy    0.963\n",
            "| epoch   6 |   100/  211 batches | accuracy    0.964\n",
            "| epoch   6 |   150/  211 batches | accuracy    0.963\n",
            "| epoch   6 |   200/  211 batches | accuracy    0.964\n",
            "-----------------------------------------------------------\n",
            "| End of epoch   6 | Time: 16.19s | Train Accuracy    0.960 | Train Loss    0.119 | Valid Accuracy    0.971 | Valid Loss    0.096 \n",
            "-----------------------------------------------------------\n",
            "| epoch   7 |    50/  211 batches | accuracy    0.969\n",
            "| epoch   7 |   100/  211 batches | accuracy    0.967\n",
            "| epoch   7 |   150/  211 batches | accuracy    0.965\n",
            "| epoch   7 |   200/  211 batches | accuracy    0.968\n",
            "-----------------------------------------------------------\n",
            "| End of epoch   7 | Time: 16.25s | Train Accuracy    0.969 | Train Loss    0.106 | Valid Accuracy    0.969 | Valid Loss    0.094 \n",
            "-----------------------------------------------------------\n",
            "| epoch   8 |    50/  211 batches | accuracy    0.969\n",
            "| epoch   8 |   100/  211 batches | accuracy    0.969\n",
            "| epoch   8 |   150/  211 batches | accuracy    0.969\n",
            "| epoch   8 |   200/  211 batches | accuracy    0.967\n",
            "-----------------------------------------------------------\n",
            "| End of epoch   8 | Time: 16.01s | Train Accuracy    0.971 | Train Loss    0.101 | Valid Accuracy    0.973 | Valid Loss    0.087 \n",
            "-----------------------------------------------------------\n",
            "| epoch   9 |    50/  211 batches | accuracy    0.973\n",
            "| epoch   9 |   100/  211 batches | accuracy    0.972\n",
            "| epoch   9 |   150/  211 batches | accuracy    0.969\n",
            "| epoch   9 |   200/  211 batches | accuracy    0.972\n",
            "-----------------------------------------------------------\n",
            "| End of epoch   9 | Time: 16.00s | Train Accuracy    0.966 | Train Loss    0.095 | Valid Accuracy    0.973 | Valid Loss    0.085 \n",
            "-----------------------------------------------------------\n",
            "| epoch  10 |    50/  211 batches | accuracy    0.971\n",
            "| epoch  10 |   100/  211 batches | accuracy    0.971\n",
            "| epoch  10 |   150/  211 batches | accuracy    0.974\n",
            "| epoch  10 |   200/  211 batches | accuracy    0.972\n",
            "-----------------------------------------------------------\n",
            "| End of epoch  10 | Time: 16.83s | Train Accuracy    0.975 | Train Loss    0.092 | Valid Accuracy    0.972 | Valid Loss    0.087 \n",
            "-----------------------------------------------------------\n",
            "| epoch  11 |    50/  211 batches | accuracy    0.972\n",
            "| epoch  11 |   100/  211 batches | accuracy    0.975\n",
            "| epoch  11 |   150/  211 batches | accuracy    0.972\n",
            "| epoch  11 |   200/  211 batches | accuracy    0.974\n",
            "-----------------------------------------------------------\n",
            "| End of epoch  11 | Time: 16.93s | Train Accuracy    0.970 | Train Loss    0.087 | Valid Accuracy    0.972 | Valid Loss    0.087 \n",
            "-----------------------------------------------------------\n",
            "| epoch  12 |    50/  211 batches | accuracy    0.976\n",
            "| epoch  12 |   100/  211 batches | accuracy    0.976\n",
            "| epoch  12 |   150/  211 batches | accuracy    0.973\n",
            "| epoch  12 |   200/  211 batches | accuracy    0.973\n",
            "-----------------------------------------------------------\n",
            "| End of epoch  12 | Time: 16.33s | Train Accuracy    0.971 | Train Loss    0.083 | Valid Accuracy    0.973 | Valid Loss    0.082 \n",
            "-----------------------------------------------------------\n",
            "| epoch  13 |    50/  211 batches | accuracy    0.977\n",
            "| epoch  13 |   100/  211 batches | accuracy    0.975\n",
            "| epoch  13 |   150/  211 batches | accuracy    0.975\n",
            "| epoch  13 |   200/  211 batches | accuracy    0.973\n",
            "-----------------------------------------------------------\n",
            "| End of epoch  13 | Time: 16.16s | Train Accuracy    0.972 | Train Loss    0.080 | Valid Accuracy    0.974 | Valid Loss    0.082 \n",
            "-----------------------------------------------------------\n",
            "| epoch  14 |    50/  211 batches | accuracy    0.978\n",
            "| epoch  14 |   100/  211 batches | accuracy    0.976\n",
            "| epoch  14 |   150/  211 batches | accuracy    0.976\n",
            "| epoch  14 |   200/  211 batches | accuracy    0.975\n",
            "-----------------------------------------------------------\n",
            "| End of epoch  14 | Time: 16.12s | Train Accuracy    0.975 | Train Loss    0.077 | Valid Accuracy    0.975 | Valid Loss    0.082 \n",
            "-----------------------------------------------------------\n",
            "| epoch  15 |    50/  211 batches | accuracy    0.978\n",
            "| epoch  15 |   100/  211 batches | accuracy    0.976\n",
            "| epoch  15 |   150/  211 batches | accuracy    0.979\n",
            "| epoch  15 |   200/  211 batches | accuracy    0.974\n",
            "-----------------------------------------------------------\n",
            "| End of epoch  15 | Time: 16.15s | Train Accuracy    0.976 | Train Loss    0.074 | Valid Accuracy    0.974 | Valid Loss    0.088 \n",
            "-----------------------------------------------------------\n",
            "| epoch  16 |    50/  211 batches | accuracy    0.977\n",
            "| epoch  16 |   100/  211 batches | accuracy    0.979\n",
            "| epoch  16 |   150/  211 batches | accuracy    0.976\n",
            "| epoch  16 |   200/  211 batches | accuracy    0.978\n",
            "-----------------------------------------------------------\n",
            "| End of epoch  16 | Time: 16.98s | Train Accuracy    0.978 | Train Loss    0.072 | Valid Accuracy    0.974 | Valid Loss    0.083 \n",
            "-----------------------------------------------------------\n",
            "| epoch  17 |    50/  211 batches | accuracy    0.981\n",
            "| epoch  17 |   100/  211 batches | accuracy    0.979\n",
            "| epoch  17 |   150/  211 batches | accuracy    0.979\n",
            "| epoch  17 |   200/  211 batches | accuracy    0.976\n",
            "-----------------------------------------------------------\n",
            "| End of epoch  17 | Time: 16.50s | Train Accuracy    0.981 | Train Loss    0.068 | Valid Accuracy    0.975 | Valid Loss    0.082 \n",
            "-----------------------------------------------------------\n",
            "| epoch  18 |    50/  211 batches | accuracy    0.981\n",
            "| epoch  18 |   100/  211 batches | accuracy    0.978\n",
            "| epoch  18 |   150/  211 batches | accuracy    0.980\n",
            "| epoch  18 |   200/  211 batches | accuracy    0.978\n",
            "-----------------------------------------------------------\n",
            "| End of epoch  18 | Time: 18.61s | Train Accuracy    0.980 | Train Loss    0.066 | Valid Accuracy    0.975 | Valid Loss    0.083 \n",
            "-----------------------------------------------------------\n",
            "| epoch  19 |    50/  211 batches | accuracy    0.981\n",
            "| epoch  19 |   100/  211 batches | accuracy    0.980\n",
            "| epoch  19 |   150/  211 batches | accuracy    0.978\n",
            "| epoch  19 |   200/  211 batches | accuracy    0.980\n",
            "-----------------------------------------------------------\n",
            "| End of epoch  19 | Time: 16.10s | Train Accuracy    0.978 | Train Loss    0.064 | Valid Accuracy    0.976 | Valid Loss    0.082 \n",
            "-----------------------------------------------------------\n",
            "| epoch  20 |    50/  211 batches | accuracy    0.982\n",
            "| epoch  20 |   100/  211 batches | accuracy    0.981\n",
            "| epoch  20 |   150/  211 batches | accuracy    0.978\n",
            "| epoch  20 |   200/  211 batches | accuracy    0.978\n",
            "-----------------------------------------------------------\n",
            "| End of epoch  20 | Time: 16.11s | Train Accuracy    0.975 | Train Loss    0.065 | Valid Accuracy    0.972 | Valid Loss    0.087 \n",
            "-----------------------------------------------------------\n",
            "0.2\n",
            "| epoch   1 |    50/  211 batches | accuracy    0.571\n",
            "| epoch   1 |   100/  211 batches | accuracy    0.823\n",
            "| epoch   1 |   150/  211 batches | accuracy    0.865\n",
            "| epoch   1 |   200/  211 batches | accuracy    0.886\n",
            "-----------------------------------------------------------\n",
            "| End of epoch   1 | Time: 16.54s | Train Accuracy    0.903 | Train Loss    0.661 | Valid Accuracy    0.937 | Valid Loss    0.215 \n",
            "-----------------------------------------------------------\n",
            "| epoch   2 |    50/  211 batches | accuracy    0.901\n",
            "| epoch   2 |   100/  211 batches | accuracy    0.909\n",
            "| epoch   2 |   150/  211 batches | accuracy    0.916\n",
            "| epoch   2 |   200/  211 batches | accuracy    0.920\n",
            "-----------------------------------------------------------\n",
            "| End of epoch   2 | Time: 16.13s | Train Accuracy    0.936 | Train Loss    0.297 | Valid Accuracy    0.948 | Valid Loss    0.164 \n",
            "-----------------------------------------------------------\n",
            "| epoch   3 |    50/  211 batches | accuracy    0.929\n",
            "| epoch   3 |   100/  211 batches | accuracy    0.925\n",
            "| epoch   3 |   150/  211 batches | accuracy    0.931\n",
            "| epoch   3 |   200/  211 batches | accuracy    0.932\n",
            "-----------------------------------------------------------\n",
            "| End of epoch   3 | Time: 16.03s | Train Accuracy    0.936 | Train Loss    0.242 | Valid Accuracy    0.955 | Valid Loss    0.143 \n",
            "-----------------------------------------------------------\n",
            "| epoch   4 |    50/  211 batches | accuracy    0.940\n",
            "| epoch   4 |   100/  211 batches | accuracy    0.939\n",
            "| epoch   4 |   150/  211 batches | accuracy    0.942\n",
            "| epoch   4 |   200/  211 batches | accuracy    0.937\n",
            "-----------------------------------------------------------\n",
            "| End of epoch   4 | Time: 16.02s | Train Accuracy    0.952 | Train Loss    0.204 | Valid Accuracy    0.962 | Valid Loss    0.124 \n",
            "-----------------------------------------------------------\n",
            "| epoch   5 |    50/  211 batches | accuracy    0.943\n",
            "| epoch   5 |   100/  211 batches | accuracy    0.944\n",
            "| epoch   5 |   150/  211 batches | accuracy    0.948\n",
            "| epoch   5 |   200/  211 batches | accuracy    0.947\n",
            "-----------------------------------------------------------\n",
            "| End of epoch   5 | Time: 15.97s | Train Accuracy    0.949 | Train Loss    0.183 | Valid Accuracy    0.967 | Valid Loss    0.114 \n",
            "-----------------------------------------------------------\n",
            "| epoch   6 |    50/  211 batches | accuracy    0.949\n",
            "| epoch   6 |   100/  211 batches | accuracy    0.947\n",
            "| epoch   6 |   150/  211 batches | accuracy    0.950\n",
            "| epoch   6 |   200/  211 batches | accuracy    0.949\n",
            "-----------------------------------------------------------\n",
            "| End of epoch   6 | Time: 16.88s | Train Accuracy    0.948 | Train Loss    0.172 | Valid Accuracy    0.965 | Valid Loss    0.111 \n",
            "-----------------------------------------------------------\n",
            "| epoch   7 |    50/  211 batches | accuracy    0.954\n",
            "| epoch   7 |   100/  211 batches | accuracy    0.952\n",
            "| epoch   7 |   150/  211 batches | accuracy    0.952\n",
            "| epoch   7 |   200/  211 batches | accuracy    0.955\n",
            "-----------------------------------------------------------\n",
            "| End of epoch   7 | Time: 16.37s | Train Accuracy    0.951 | Train Loss    0.162 | Valid Accuracy    0.965 | Valid Loss    0.105 \n",
            "-----------------------------------------------------------\n",
            "| epoch   8 |    50/  211 batches | accuracy    0.955\n",
            "| epoch   8 |   100/  211 batches | accuracy    0.954\n",
            "| epoch   8 |   150/  211 batches | accuracy    0.955\n",
            "| epoch   8 |   200/  211 batches | accuracy    0.954\n",
            "-----------------------------------------------------------\n",
            "| End of epoch   8 | Time: 16.05s | Train Accuracy    0.959 | Train Loss    0.151 | Valid Accuracy    0.967 | Valid Loss    0.106 \n",
            "-----------------------------------------------------------\n",
            "| epoch   9 |    50/  211 batches | accuracy    0.959\n",
            "| epoch   9 |   100/  211 batches | accuracy    0.958\n",
            "| epoch   9 |   150/  211 batches | accuracy    0.956\n",
            "| epoch   9 |   200/  211 batches | accuracy    0.960\n",
            "-----------------------------------------------------------\n",
            "| End of epoch   9 | Time: 16.22s | Train Accuracy    0.961 | Train Loss    0.140 | Valid Accuracy    0.970 | Valid Loss    0.100 \n",
            "-----------------------------------------------------------\n",
            "| epoch  10 |    50/  211 batches | accuracy    0.961\n",
            "| epoch  10 |   100/  211 batches | accuracy    0.959\n",
            "| epoch  10 |   150/  211 batches | accuracy    0.957\n",
            "| epoch  10 |   200/  211 batches | accuracy    0.960\n",
            "-----------------------------------------------------------\n",
            "| End of epoch  10 | Time: 16.24s | Train Accuracy    0.960 | Train Loss    0.139 | Valid Accuracy    0.969 | Valid Loss    0.095 \n",
            "-----------------------------------------------------------\n",
            "| epoch  11 |    50/  211 batches | accuracy    0.959\n",
            "| epoch  11 |   100/  211 batches | accuracy    0.959\n",
            "| epoch  11 |   150/  211 batches | accuracy    0.962\n",
            "| epoch  11 |   200/  211 batches | accuracy    0.960\n",
            "-----------------------------------------------------------\n",
            "| End of epoch  11 | Time: 17.70s | Train Accuracy    0.959 | Train Loss    0.136 | Valid Accuracy    0.971 | Valid Loss    0.096 \n",
            "-----------------------------------------------------------\n",
            "| epoch  12 |    50/  211 batches | accuracy    0.963\n",
            "| epoch  12 |   100/  211 batches | accuracy    0.962\n",
            "| epoch  12 |   150/  211 batches | accuracy    0.963\n",
            "| epoch  12 |   200/  211 batches | accuracy    0.960\n",
            "-----------------------------------------------------------\n",
            "| End of epoch  12 | Time: 17.01s | Train Accuracy    0.960 | Train Loss    0.124 | Valid Accuracy    0.970 | Valid Loss    0.093 \n",
            "-----------------------------------------------------------\n",
            "| epoch  13 |    50/  211 batches | accuracy    0.965\n",
            "| epoch  13 |   100/  211 batches | accuracy    0.960\n",
            "| epoch  13 |   150/  211 batches | accuracy    0.961\n",
            "| epoch  13 |   200/  211 batches | accuracy    0.961\n",
            "-----------------------------------------------------------\n",
            "| End of epoch  13 | Time: 16.17s | Train Accuracy    0.968 | Train Loss    0.125 | Valid Accuracy    0.972 | Valid Loss    0.092 \n",
            "-----------------------------------------------------------\n",
            "| epoch  14 |    50/  211 batches | accuracy    0.963\n",
            "| epoch  14 |   100/  211 batches | accuracy    0.963\n",
            "| epoch  14 |   150/  211 batches | accuracy    0.961\n",
            "| epoch  14 |   200/  211 batches | accuracy    0.963\n",
            "-----------------------------------------------------------\n",
            "| End of epoch  14 | Time: 16.17s | Train Accuracy    0.964 | Train Loss    0.122 | Valid Accuracy    0.970 | Valid Loss    0.091 \n",
            "-----------------------------------------------------------\n",
            "| epoch  15 |    50/  211 batches | accuracy    0.966\n",
            "| epoch  15 |   100/  211 batches | accuracy    0.965\n",
            "| epoch  15 |   150/  211 batches | accuracy    0.963\n",
            "| epoch  15 |   200/  211 batches | accuracy    0.966\n",
            "-----------------------------------------------------------\n",
            "| End of epoch  15 | Time: 16.23s | Train Accuracy    0.965 | Train Loss    0.114 | Valid Accuracy    0.971 | Valid Loss    0.089 \n",
            "-----------------------------------------------------------\n",
            "| epoch  16 |    50/  211 batches | accuracy    0.965\n",
            "| epoch  16 |   100/  211 batches | accuracy    0.964\n",
            "| epoch  16 |   150/  211 batches | accuracy    0.965\n",
            "| epoch  16 |   200/  211 batches | accuracy    0.968\n",
            "-----------------------------------------------------------\n",
            "| End of epoch  16 | Time: 17.63s | Train Accuracy    0.961 | Train Loss    0.112 | Valid Accuracy    0.972 | Valid Loss    0.089 \n",
            "-----------------------------------------------------------\n",
            "| epoch  17 |    50/  211 batches | accuracy    0.968\n",
            "| epoch  17 |   100/  211 batches | accuracy    0.966\n",
            "| epoch  17 |   150/  211 batches | accuracy    0.966\n",
            "| epoch  17 |   200/  211 batches | accuracy    0.969\n",
            "-----------------------------------------------------------\n",
            "| End of epoch  17 | Time: 16.91s | Train Accuracy    0.965 | Train Loss    0.109 | Valid Accuracy    0.972 | Valid Loss    0.088 \n",
            "-----------------------------------------------------------\n",
            "| epoch  18 |    50/  211 batches | accuracy    0.969\n",
            "| epoch  18 |   100/  211 batches | accuracy    0.966\n",
            "| epoch  18 |   150/  211 batches | accuracy    0.966\n",
            "| epoch  18 |   200/  211 batches | accuracy    0.964\n",
            "-----------------------------------------------------------\n",
            "| End of epoch  18 | Time: 16.35s | Train Accuracy    0.968 | Train Loss    0.110 | Valid Accuracy    0.972 | Valid Loss    0.089 \n",
            "-----------------------------------------------------------\n",
            "| epoch  19 |    50/  211 batches | accuracy    0.969\n",
            "| epoch  19 |   100/  211 batches | accuracy    0.968\n",
            "| epoch  19 |   150/  211 batches | accuracy    0.968\n",
            "| epoch  19 |   200/  211 batches | accuracy    0.964\n",
            "-----------------------------------------------------------\n",
            "| End of epoch  19 | Time: 16.20s | Train Accuracy    0.971 | Train Loss    0.108 | Valid Accuracy    0.972 | Valid Loss    0.090 \n",
            "-----------------------------------------------------------\n",
            "| epoch  20 |    50/  211 batches | accuracy    0.970\n",
            "| epoch  20 |   100/  211 batches | accuracy    0.965\n",
            "| epoch  20 |   150/  211 batches | accuracy    0.967\n",
            "| epoch  20 |   200/  211 batches | accuracy    0.969\n",
            "-----------------------------------------------------------\n",
            "| End of epoch  20 | Time: 16.16s | Train Accuracy    0.972 | Train Loss    0.104 | Valid Accuracy    0.973 | Valid Loss    0.088 \n",
            "-----------------------------------------------------------\n",
            "0.3\n",
            "| epoch   1 |    50/  211 batches | accuracy    0.520\n",
            "| epoch   1 |   100/  211 batches | accuracy    0.790\n",
            "| epoch   1 |   150/  211 batches | accuracy    0.849\n",
            "| epoch   1 |   200/  211 batches | accuracy    0.872\n",
            "-----------------------------------------------------------\n",
            "| End of epoch   1 | Time: 16.40s | Train Accuracy    0.885 | Train Loss    0.753 | Valid Accuracy    0.930 | Valid Loss    0.236 \n",
            "-----------------------------------------------------------\n",
            "| epoch   2 |    50/  211 batches | accuracy    0.888\n",
            "| epoch   2 |   100/  211 batches | accuracy    0.896\n",
            "| epoch   2 |   150/  211 batches | accuracy    0.904\n",
            "| epoch   2 |   200/  211 batches | accuracy    0.906\n",
            "-----------------------------------------------------------\n",
            "| End of epoch   2 | Time: 16.90s | Train Accuracy    0.902 | Train Loss    0.353 | Valid Accuracy    0.944 | Valid Loss    0.186 \n",
            "-----------------------------------------------------------\n",
            "| epoch   3 |    50/  211 batches | accuracy    0.912\n",
            "| epoch   3 |   100/  211 batches | accuracy    0.919\n",
            "| epoch   3 |   150/  211 batches | accuracy    0.914\n",
            "| epoch   3 |   200/  211 batches | accuracy    0.923\n",
            "-----------------------------------------------------------\n",
            "| End of epoch   3 | Time: 17.01s | Train Accuracy    0.917 | Train Loss    0.294 | Valid Accuracy    0.953 | Valid Loss    0.158 \n",
            "-----------------------------------------------------------\n",
            "| epoch   4 |    50/  211 batches | accuracy    0.924\n",
            "| epoch   4 |   100/  211 batches | accuracy    0.925\n",
            "| epoch   4 |   150/  211 batches | accuracy    0.922\n",
            "| epoch   4 |   200/  211 batches | accuracy    0.924\n",
            "-----------------------------------------------------------\n",
            "| End of epoch   4 | Time: 16.50s | Train Accuracy    0.926 | Train Loss    0.262 | Valid Accuracy    0.953 | Valid Loss    0.151 \n",
            "-----------------------------------------------------------\n",
            "| epoch   5 |    50/  211 batches | accuracy    0.931\n",
            "| epoch   5 |   100/  211 batches | accuracy    0.930\n",
            "| epoch   5 |   150/  211 batches | accuracy    0.933\n",
            "| epoch   5 |   200/  211 batches | accuracy    0.935\n",
            "-----------------------------------------------------------\n",
            "| End of epoch   5 | Time: 16.08s | Train Accuracy    0.933 | Train Loss    0.242 | Valid Accuracy    0.958 | Valid Loss    0.135 \n",
            "-----------------------------------------------------------\n",
            "| epoch   6 |    50/  211 batches | accuracy    0.934\n",
            "| epoch   6 |   100/  211 batches | accuracy    0.935\n",
            "| epoch   6 |   150/  211 batches | accuracy    0.939\n",
            "| epoch   6 |   200/  211 batches | accuracy    0.933\n",
            "-----------------------------------------------------------\n",
            "| End of epoch   6 | Time: 16.17s | Train Accuracy    0.929 | Train Loss    0.227 | Valid Accuracy    0.962 | Valid Loss    0.128 \n",
            "-----------------------------------------------------------\n",
            "| epoch   7 |    50/  211 batches | accuracy    0.940\n",
            "| epoch   7 |   100/  211 batches | accuracy    0.937\n",
            "| epoch   7 |   150/  211 batches | accuracy    0.939\n",
            "| epoch   7 |   200/  211 batches | accuracy    0.938\n",
            "-----------------------------------------------------------\n",
            "| End of epoch   7 | Time: 16.61s | Train Accuracy    0.937 | Train Loss    0.216 | Valid Accuracy    0.965 | Valid Loss    0.131 \n",
            "-----------------------------------------------------------\n",
            "| epoch   8 |    50/  211 batches | accuracy    0.943\n",
            "| epoch   8 |   100/  211 batches | accuracy    0.935\n",
            "| epoch   8 |   150/  211 batches | accuracy    0.941\n",
            "| epoch   8 |   200/  211 batches | accuracy    0.943\n",
            "-----------------------------------------------------------\n",
            "| End of epoch   8 | Time: 17.66s | Train Accuracy    0.937 | Train Loss    0.207 | Valid Accuracy    0.962 | Valid Loss    0.125 \n",
            "-----------------------------------------------------------\n",
            "| epoch   9 |    50/  211 batches | accuracy    0.945\n",
            "| epoch   9 |   100/  211 batches | accuracy    0.943\n",
            "| epoch   9 |   150/  211 batches | accuracy    0.942\n",
            "| epoch   9 |   200/  211 batches | accuracy    0.945\n",
            "-----------------------------------------------------------\n",
            "| End of epoch   9 | Time: 16.42s | Train Accuracy    0.947 | Train Loss    0.200 | Valid Accuracy    0.962 | Valid Loss    0.124 \n",
            "-----------------------------------------------------------\n",
            "| epoch  10 |    50/  211 batches | accuracy    0.947\n",
            "| epoch  10 |   100/  211 batches | accuracy    0.942\n",
            "| epoch  10 |   150/  211 batches | accuracy    0.947\n",
            "| epoch  10 |   200/  211 batches | accuracy    0.946\n",
            "-----------------------------------------------------------\n",
            "| End of epoch  10 | Time: 16.03s | Train Accuracy    0.949 | Train Loss    0.188 | Valid Accuracy    0.963 | Valid Loss    0.121 \n",
            "-----------------------------------------------------------\n",
            "| epoch  11 |    50/  211 batches | accuracy    0.948\n",
            "| epoch  11 |   100/  211 batches | accuracy    0.948\n",
            "| epoch  11 |   150/  211 batches | accuracy    0.944\n",
            "| epoch  11 |   200/  211 batches | accuracy    0.951\n",
            "-----------------------------------------------------------\n",
            "| End of epoch  11 | Time: 16.00s | Train Accuracy    0.944 | Train Loss    0.184 | Valid Accuracy    0.965 | Valid Loss    0.112 \n",
            "-----------------------------------------------------------\n",
            "| epoch  12 |    50/  211 batches | accuracy    0.948\n",
            "| epoch  12 |   100/  211 batches | accuracy    0.947\n",
            "| epoch  12 |   150/  211 batches | accuracy    0.950\n",
            "| epoch  12 |   200/  211 batches | accuracy    0.951\n",
            "-----------------------------------------------------------\n",
            "| End of epoch  12 | Time: 16.11s | Train Accuracy    0.949 | Train Loss    0.182 | Valid Accuracy    0.964 | Valid Loss    0.115 \n",
            "-----------------------------------------------------------\n",
            "| epoch  13 |    50/  211 batches | accuracy    0.951\n",
            "| epoch  13 |   100/  211 batches | accuracy    0.951\n",
            "| epoch  13 |   150/  211 batches | accuracy    0.949\n",
            "| epoch  13 |   200/  211 batches | accuracy    0.950\n",
            "-----------------------------------------------------------\n",
            "| End of epoch  13 | Time: 16.22s | Train Accuracy    0.940 | Train Loss    0.177 | Valid Accuracy    0.968 | Valid Loss    0.110 \n",
            "-----------------------------------------------------------\n",
            "| epoch  14 |    50/  211 batches | accuracy    0.949\n",
            "| epoch  14 |   100/  211 batches | accuracy    0.955\n",
            "| epoch  14 |   150/  211 batches | accuracy    0.950\n",
            "| epoch  14 |   200/  211 batches | accuracy    0.949\n",
            "-----------------------------------------------------------\n",
            "| End of epoch  14 | Time: 16.64s | Train Accuracy    0.954 | Train Loss    0.173 | Valid Accuracy    0.967 | Valid Loss    0.113 \n",
            "-----------------------------------------------------------\n",
            "| epoch  15 |    50/  211 batches | accuracy    0.952\n",
            "| epoch  15 |   100/  211 batches | accuracy    0.952\n",
            "| epoch  15 |   150/  211 batches | accuracy    0.953\n",
            "| epoch  15 |   200/  211 batches | accuracy    0.951\n",
            "-----------------------------------------------------------\n",
            "| End of epoch  15 | Time: 16.65s | Train Accuracy    0.944 | Train Loss    0.172 | Valid Accuracy    0.966 | Valid Loss    0.113 \n",
            "-----------------------------------------------------------\n",
            "| epoch  16 |    50/  211 batches | accuracy    0.954\n",
            "| epoch  16 |   100/  211 batches | accuracy    0.955\n",
            "| epoch  16 |   150/  211 batches | accuracy    0.949\n",
            "| epoch  16 |   200/  211 batches | accuracy    0.950\n",
            "-----------------------------------------------------------\n",
            "| End of epoch  16 | Time: 17.95s | Train Accuracy    0.956 | Train Loss    0.167 | Valid Accuracy    0.970 | Valid Loss    0.104 \n",
            "-----------------------------------------------------------\n",
            "| epoch  17 |    50/  211 batches | accuracy    0.953\n",
            "| epoch  17 |   100/  211 batches | accuracy    0.954\n",
            "| epoch  17 |   150/  211 batches | accuracy    0.953\n",
            "| epoch  17 |   200/  211 batches | accuracy    0.956\n",
            "-----------------------------------------------------------\n",
            "| End of epoch  17 | Time: 16.09s | Train Accuracy    0.949 | Train Loss    0.161 | Valid Accuracy    0.968 | Valid Loss    0.110 \n",
            "-----------------------------------------------------------\n",
            "| epoch  18 |    50/  211 batches | accuracy    0.957\n",
            "| epoch  18 |   100/  211 batches | accuracy    0.954\n",
            "| epoch  18 |   150/  211 batches | accuracy    0.953\n",
            "| epoch  18 |   200/  211 batches | accuracy    0.954\n",
            "-----------------------------------------------------------\n",
            "| End of epoch  18 | Time: 16.20s | Train Accuracy    0.953 | Train Loss    0.159 | Valid Accuracy    0.969 | Valid Loss    0.100 \n",
            "-----------------------------------------------------------\n",
            "| epoch  19 |    50/  211 batches | accuracy    0.958\n",
            "| epoch  19 |   100/  211 batches | accuracy    0.953\n",
            "| epoch  19 |   150/  211 batches | accuracy    0.953\n",
            "| epoch  19 |   200/  211 batches | accuracy    0.954\n",
            "-----------------------------------------------------------\n",
            "| End of epoch  19 | Time: 16.07s | Train Accuracy    0.956 | Train Loss    0.155 | Valid Accuracy    0.971 | Valid Loss    0.100 \n",
            "-----------------------------------------------------------\n",
            "| epoch  20 |    50/  211 batches | accuracy    0.955\n",
            "| epoch  20 |   100/  211 batches | accuracy    0.955\n",
            "| epoch  20 |   150/  211 batches | accuracy    0.955\n",
            "| epoch  20 |   200/  211 batches | accuracy    0.953\n",
            "-----------------------------------------------------------\n",
            "| End of epoch  20 | Time: 16.32s | Train Accuracy    0.955 | Train Loss    0.153 | Valid Accuracy    0.971 | Valid Loss    0.100 \n",
            "-----------------------------------------------------------\n",
            "0.4\n",
            "| epoch   1 |    50/  211 batches | accuracy    0.502\n",
            "| epoch   1 |   100/  211 batches | accuracy    0.754\n",
            "| epoch   1 |   150/  211 batches | accuracy    0.804\n",
            "| epoch   1 |   200/  211 batches | accuracy    0.835\n",
            "-----------------------------------------------------------\n",
            "| End of epoch   1 | Time: 17.47s | Train Accuracy    0.845 | Train Loss    0.864 | Valid Accuracy    0.920 | Valid Loss    0.278 \n",
            "-----------------------------------------------------------\n",
            "| epoch   2 |    50/  211 batches | accuracy    0.860\n",
            "| epoch   2 |   100/  211 batches | accuracy    0.868\n",
            "| epoch   2 |   150/  211 batches | accuracy    0.878\n",
            "| epoch   2 |   200/  211 batches | accuracy    0.880\n",
            "-----------------------------------------------------------\n",
            "| End of epoch   2 | Time: 16.04s | Train Accuracy    0.897 | Train Loss    0.450 | Valid Accuracy    0.935 | Valid Loss    0.221 \n",
            "-----------------------------------------------------------\n",
            "| epoch   3 |    50/  211 batches | accuracy    0.884\n",
            "| epoch   3 |   100/  211 batches | accuracy    0.891\n",
            "| epoch   3 |   150/  211 batches | accuracy    0.892\n",
            "| epoch   3 |   200/  211 batches | accuracy    0.898\n",
            "-----------------------------------------------------------\n",
            "| End of epoch   3 | Time: 16.06s | Train Accuracy    0.899 | Train Loss    0.383 | Valid Accuracy    0.940 | Valid Loss    0.201 \n",
            "-----------------------------------------------------------\n",
            "| epoch   4 |    50/  211 batches | accuracy    0.902\n",
            "| epoch   4 |   100/  211 batches | accuracy    0.902\n",
            "| epoch   4 |   150/  211 batches | accuracy    0.904\n",
            "| epoch   4 |   200/  211 batches | accuracy    0.904\n",
            "-----------------------------------------------------------\n",
            "| End of epoch   4 | Time: 16.08s | Train Accuracy    0.907 | Train Loss    0.347 | Valid Accuracy    0.948 | Valid Loss    0.180 \n",
            "-----------------------------------------------------------\n",
            "| epoch   5 |    50/  211 batches | accuracy    0.909\n",
            "| epoch   5 |   100/  211 batches | accuracy    0.910\n",
            "| epoch   5 |   150/  211 batches | accuracy    0.909\n",
            "| epoch   5 |   200/  211 batches | accuracy    0.908\n",
            "-----------------------------------------------------------\n",
            "| End of epoch   5 | Time: 16.81s | Train Accuracy    0.921 | Train Loss    0.322 | Valid Accuracy    0.952 | Valid Loss    0.168 \n",
            "-----------------------------------------------------------\n",
            "| epoch   6 |    50/  211 batches | accuracy    0.916\n",
            "| epoch   6 |   100/  211 batches | accuracy    0.912\n",
            "| epoch   6 |   150/  211 batches | accuracy    0.917\n",
            "| epoch   6 |   200/  211 batches | accuracy    0.916\n",
            "-----------------------------------------------------------\n",
            "| End of epoch   6 | Time: 16.73s | Train Accuracy    0.915 | Train Loss    0.302 | Valid Accuracy    0.954 | Valid Loss    0.159 \n",
            "-----------------------------------------------------------\n",
            "| epoch   7 |    50/  211 batches | accuracy    0.918\n",
            "| epoch   7 |   100/  211 batches | accuracy    0.918\n",
            "| epoch   7 |   150/  211 batches | accuracy    0.921\n",
            "| epoch   7 |   200/  211 batches | accuracy    0.922\n",
            "-----------------------------------------------------------\n",
            "| End of epoch   7 | Time: 16.00s | Train Accuracy    0.919 | Train Loss    0.290 | Valid Accuracy    0.956 | Valid Loss    0.154 \n",
            "-----------------------------------------------------------\n",
            "| epoch   8 |    50/  211 batches | accuracy    0.923\n",
            "| epoch   8 |   100/  211 batches | accuracy    0.916\n",
            "| epoch   8 |   150/  211 batches | accuracy    0.921\n",
            "| epoch   8 |   200/  211 batches | accuracy    0.923\n",
            "-----------------------------------------------------------\n",
            "| End of epoch   8 | Time: 16.09s | Train Accuracy    0.923 | Train Loss    0.283 | Valid Accuracy    0.957 | Valid Loss    0.144 \n",
            "-----------------------------------------------------------\n",
            "| epoch   9 |    50/  211 batches | accuracy    0.928\n",
            "| epoch   9 |   100/  211 batches | accuracy    0.925\n",
            "| epoch   9 |   150/  211 batches | accuracy    0.922\n",
            "| epoch   9 |   200/  211 batches | accuracy    0.924\n",
            "-----------------------------------------------------------\n",
            "| End of epoch   9 | Time: 17.46s | Train Accuracy    0.925 | Train Loss    0.269 | Valid Accuracy    0.958 | Valid Loss    0.141 \n",
            "-----------------------------------------------------------\n",
            "| epoch  10 |    50/  211 batches | accuracy    0.931\n",
            "| epoch  10 |   100/  211 batches | accuracy    0.929\n",
            "| epoch  10 |   150/  211 batches | accuracy    0.927\n",
            "| epoch  10 |   200/  211 batches | accuracy    0.927\n",
            "-----------------------------------------------------------\n",
            "| End of epoch  10 | Time: 16.21s | Train Accuracy    0.913 | Train Loss    0.264 | Valid Accuracy    0.959 | Valid Loss    0.139 \n",
            "-----------------------------------------------------------\n",
            "| epoch  11 |    50/  211 batches | accuracy    0.925\n",
            "| epoch  11 |   100/  211 batches | accuracy    0.928\n",
            "| epoch  11 |   150/  211 batches | accuracy    0.934\n",
            "| epoch  11 |   200/  211 batches | accuracy    0.929\n",
            "-----------------------------------------------------------\n",
            "| End of epoch  11 | Time: 16.77s | Train Accuracy    0.928 | Train Loss    0.256 | Valid Accuracy    0.958 | Valid Loss    0.141 \n",
            "-----------------------------------------------------------\n",
            "| epoch  12 |    50/  211 batches | accuracy    0.929\n",
            "| epoch  12 |   100/  211 batches | accuracy    0.929\n",
            "| epoch  12 |   150/  211 batches | accuracy    0.928\n",
            "| epoch  12 |   200/  211 batches | accuracy    0.929\n",
            "-----------------------------------------------------------\n",
            "| End of epoch  12 | Time: 16.65s | Train Accuracy    0.931 | Train Loss    0.253 | Valid Accuracy    0.959 | Valid Loss    0.138 \n",
            "-----------------------------------------------------------\n",
            "| epoch  13 |    50/  211 batches | accuracy    0.927\n",
            "| epoch  13 |   100/  211 batches | accuracy    0.933\n",
            "| epoch  13 |   150/  211 batches | accuracy    0.927\n",
            "| epoch  13 |   200/  211 batches | accuracy    0.931\n",
            "-----------------------------------------------------------\n",
            "| End of epoch  13 | Time: 17.17s | Train Accuracy    0.930 | Train Loss    0.248 | Valid Accuracy    0.962 | Valid Loss    0.135 \n",
            "-----------------------------------------------------------\n",
            "| epoch  14 |    50/  211 batches | accuracy    0.935\n",
            "| epoch  14 |   100/  211 batches | accuracy    0.932\n",
            "| epoch  14 |   150/  211 batches | accuracy    0.934\n",
            "| epoch  14 |   200/  211 batches | accuracy    0.929\n",
            "-----------------------------------------------------------\n",
            "| End of epoch  14 | Time: 16.09s | Train Accuracy    0.928 | Train Loss    0.242 | Valid Accuracy    0.959 | Valid Loss    0.138 \n",
            "-----------------------------------------------------------\n",
            "| epoch  15 |    50/  211 batches | accuracy    0.933\n",
            "| epoch  15 |   100/  211 batches | accuracy    0.932\n",
            "| epoch  15 |   150/  211 batches | accuracy    0.933\n",
            "| epoch  15 |   200/  211 batches | accuracy    0.932\n",
            "-----------------------------------------------------------\n",
            "| End of epoch  15 | Time: 16.14s | Train Accuracy    0.937 | Train Loss    0.236 | Valid Accuracy    0.960 | Valid Loss    0.132 \n",
            "-----------------------------------------------------------\n",
            "| epoch  16 |    50/  211 batches | accuracy    0.934\n",
            "| epoch  16 |   100/  211 batches | accuracy    0.933\n",
            "| epoch  16 |   150/  211 batches | accuracy    0.936\n",
            "| epoch  16 |   200/  211 batches | accuracy    0.933\n",
            "-----------------------------------------------------------\n",
            "| End of epoch  16 | Time: 16.48s | Train Accuracy    0.930 | Train Loss    0.233 | Valid Accuracy    0.962 | Valid Loss    0.130 \n",
            "-----------------------------------------------------------\n",
            "| epoch  17 |    50/  211 batches | accuracy    0.938\n",
            "| epoch  17 |   100/  211 batches | accuracy    0.933\n",
            "| epoch  17 |   150/  211 batches | accuracy    0.936\n",
            "| epoch  17 |   200/  211 batches | accuracy    0.933\n",
            "-----------------------------------------------------------\n",
            "| End of epoch  17 | Time: 16.84s | Train Accuracy    0.935 | Train Loss    0.230 | Valid Accuracy    0.964 | Valid Loss    0.128 \n",
            "-----------------------------------------------------------\n",
            "| epoch  18 |    50/  211 batches | accuracy    0.935\n",
            "| epoch  18 |   100/  211 batches | accuracy    0.939\n",
            "| epoch  18 |   150/  211 batches | accuracy    0.933\n",
            "| epoch  18 |   200/  211 batches | accuracy    0.935\n",
            "-----------------------------------------------------------\n",
            "| End of epoch  18 | Time: 16.08s | Train Accuracy    0.936 | Train Loss    0.227 | Valid Accuracy    0.962 | Valid Loss    0.129 \n",
            "-----------------------------------------------------------\n",
            "| epoch  19 |    50/  211 batches | accuracy    0.936\n",
            "| epoch  19 |   100/  211 batches | accuracy    0.933\n",
            "| epoch  19 |   150/  211 batches | accuracy    0.938\n",
            "| epoch  19 |   200/  211 batches | accuracy    0.936\n",
            "-----------------------------------------------------------\n",
            "| End of epoch  19 | Time: 16.13s | Train Accuracy    0.932 | Train Loss    0.225 | Valid Accuracy    0.963 | Valid Loss    0.134 \n",
            "-----------------------------------------------------------\n",
            "| epoch  20 |    50/  211 batches | accuracy    0.937\n",
            "| epoch  20 |   100/  211 batches | accuracy    0.931\n",
            "| epoch  20 |   150/  211 batches | accuracy    0.940\n",
            "| epoch  20 |   200/  211 batches | accuracy    0.940\n",
            "-----------------------------------------------------------\n",
            "| End of epoch  20 | Time: 16.19s | Train Accuracy    0.932 | Train Loss    0.220 | Valid Accuracy    0.961 | Valid Loss    0.138 \n",
            "-----------------------------------------------------------\n",
            "0.5\n",
            "| epoch   1 |    50/  211 batches | accuracy    0.379\n",
            "| epoch   1 |   100/  211 batches | accuracy    0.665\n",
            "| epoch   1 |   150/  211 batches | accuracy    0.740\n",
            "| epoch   1 |   200/  211 batches | accuracy    0.786\n",
            "-----------------------------------------------------------\n",
            "| End of epoch   1 | Time: 17.97s | Train Accuracy    0.791 | Train Loss    1.068 | Valid Accuracy    0.912 | Valid Loss    0.312 \n",
            "-----------------------------------------------------------\n",
            "| epoch   2 |    50/  211 batches | accuracy    0.799\n",
            "| epoch   2 |   100/  211 batches | accuracy    0.820\n",
            "| epoch   2 |   150/  211 batches | accuracy    0.832\n",
            "| epoch   2 |   200/  211 batches | accuracy    0.837\n",
            "-----------------------------------------------------------\n",
            "| End of epoch   2 | Time: 16.60s | Train Accuracy    0.835 | Train Loss    0.608 | Valid Accuracy    0.924 | Valid Loss    0.260 \n",
            "-----------------------------------------------------------\n",
            "| epoch   3 |    50/  211 batches | accuracy    0.846\n",
            "| epoch   3 |   100/  211 batches | accuracy    0.850\n",
            "| epoch   3 |   150/  211 batches | accuracy    0.853\n",
            "| epoch   3 |   200/  211 batches | accuracy    0.855\n",
            "-----------------------------------------------------------\n",
            "| End of epoch   3 | Time: 16.11s | Train Accuracy    0.857 | Train Loss    0.518 | Valid Accuracy    0.935 | Valid Loss    0.231 \n",
            "-----------------------------------------------------------\n",
            "| epoch   4 |    50/  211 batches | accuracy    0.863\n",
            "| epoch   4 |   100/  211 batches | accuracy    0.865\n",
            "| epoch   4 |   150/  211 batches | accuracy    0.864\n",
            "| epoch   4 |   200/  211 batches | accuracy    0.864\n",
            "-----------------------------------------------------------\n",
            "| End of epoch   4 | Time: 16.00s | Train Accuracy    0.872 | Train Loss    0.480 | Valid Accuracy    0.940 | Valid Loss    0.217 \n",
            "-----------------------------------------------------------\n",
            "| epoch   5 |    50/  211 batches | accuracy    0.864\n",
            "| epoch   5 |   100/  211 batches | accuracy    0.870\n",
            "| epoch   5 |   150/  211 batches | accuracy    0.876\n",
            "| epoch   5 |   200/  211 batches | accuracy    0.874\n",
            "-----------------------------------------------------------\n",
            "| End of epoch   5 | Time: 15.93s | Train Accuracy    0.877 | Train Loss    0.458 | Valid Accuracy    0.943 | Valid Loss    0.204 \n",
            "-----------------------------------------------------------\n",
            "| epoch   6 |    50/  211 batches | accuracy    0.877\n",
            "| epoch   6 |   100/  211 batches | accuracy    0.881\n",
            "| epoch   6 |   150/  211 batches | accuracy    0.875\n",
            "| epoch   6 |   200/  211 batches | accuracy    0.883\n",
            "-----------------------------------------------------------\n",
            "| End of epoch   6 | Time: 17.43s | Train Accuracy    0.875 | Train Loss    0.436 | Valid Accuracy    0.945 | Valid Loss    0.194 \n",
            "-----------------------------------------------------------\n",
            "| epoch   7 |    50/  211 batches | accuracy    0.881\n",
            "| epoch   7 |   100/  211 batches | accuracy    0.883\n",
            "| epoch   7 |   150/  211 batches | accuracy    0.877\n",
            "| epoch   7 |   200/  211 batches | accuracy    0.881\n",
            "-----------------------------------------------------------\n",
            "| End of epoch   7 | Time: 16.37s | Train Accuracy    0.882 | Train Loss    0.420 | Valid Accuracy    0.948 | Valid Loss    0.186 \n",
            "-----------------------------------------------------------\n",
            "| epoch   8 |    50/  211 batches | accuracy    0.885\n",
            "| epoch   8 |   100/  211 batches | accuracy    0.887\n",
            "| epoch   8 |   150/  211 batches | accuracy    0.887\n",
            "| epoch   8 |   200/  211 batches | accuracy    0.882\n",
            "-----------------------------------------------------------\n",
            "| End of epoch   8 | Time: 16.81s | Train Accuracy    0.882 | Train Loss    0.407 | Valid Accuracy    0.947 | Valid Loss    0.181 \n",
            "-----------------------------------------------------------\n",
            "| epoch   9 |    50/  211 batches | accuracy    0.888\n",
            "| epoch   9 |   100/  211 batches | accuracy    0.887\n",
            "| epoch   9 |   150/  211 batches | accuracy    0.891\n",
            "| epoch   9 |   200/  211 batches | accuracy    0.889\n",
            "-----------------------------------------------------------\n",
            "| End of epoch   9 | Time: 16.11s | Train Accuracy    0.888 | Train Loss    0.397 | Valid Accuracy    0.953 | Valid Loss    0.177 \n",
            "-----------------------------------------------------------\n",
            "| epoch  10 |    50/  211 batches | accuracy    0.892\n",
            "| epoch  10 |   100/  211 batches | accuracy    0.890\n",
            "| epoch  10 |   150/  211 batches | accuracy    0.885\n",
            "| epoch  10 |   200/  211 batches | accuracy    0.890\n",
            "-----------------------------------------------------------\n",
            "| End of epoch  10 | Time: 16.03s | Train Accuracy    0.893 | Train Loss    0.393 | Valid Accuracy    0.952 | Valid Loss    0.180 \n",
            "-----------------------------------------------------------\n",
            "| epoch  11 |    50/  211 batches | accuracy    0.898\n",
            "| epoch  11 |   100/  211 batches | accuracy    0.889\n",
            "| epoch  11 |   150/  211 batches | accuracy    0.892\n",
            "| epoch  11 |   200/  211 batches | accuracy    0.886\n",
            "-----------------------------------------------------------\n",
            "| End of epoch  11 | Time: 16.10s | Train Accuracy    0.888 | Train Loss    0.385 | Valid Accuracy    0.952 | Valid Loss    0.178 \n",
            "-----------------------------------------------------------\n",
            "| epoch  12 |    50/  211 batches | accuracy    0.894\n",
            "| epoch  12 |   100/  211 batches | accuracy    0.892\n",
            "| epoch  12 |   150/  211 batches | accuracy    0.899\n",
            "| epoch  12 |   200/  211 batches | accuracy    0.893\n",
            "-----------------------------------------------------------\n",
            "| End of epoch  12 | Time: 16.12s | Train Accuracy    0.894 | Train Loss    0.370 | Valid Accuracy    0.952 | Valid Loss    0.175 \n",
            "-----------------------------------------------------------\n",
            "| epoch  13 |    50/  211 batches | accuracy    0.897\n",
            "| epoch  13 |   100/  211 batches | accuracy    0.899\n",
            "| epoch  13 |   150/  211 batches | accuracy    0.901\n",
            "| epoch  13 |   200/  211 batches | accuracy    0.896\n",
            "-----------------------------------------------------------\n",
            "| End of epoch  13 | Time: 16.45s | Train Accuracy    0.901 | Train Loss    0.365 | Valid Accuracy    0.951 | Valid Loss    0.170 \n",
            "-----------------------------------------------------------\n",
            "| epoch  14 |    50/  211 batches | accuracy    0.893\n",
            "| epoch  14 |   100/  211 batches | accuracy    0.900\n",
            "| epoch  14 |   150/  211 batches | accuracy    0.894\n",
            "| epoch  14 |   200/  211 batches | accuracy    0.899\n",
            "-----------------------------------------------------------\n",
            "| End of epoch  14 | Time: 18.31s | Train Accuracy    0.901 | Train Loss    0.368 | Valid Accuracy    0.953 | Valid Loss    0.167 \n",
            "-----------------------------------------------------------\n",
            "| epoch  15 |    50/  211 batches | accuracy    0.900\n",
            "| epoch  15 |   100/  211 batches | accuracy    0.899\n",
            "| epoch  15 |   150/  211 batches | accuracy    0.897\n",
            "| epoch  15 |   200/  211 batches | accuracy    0.898\n",
            "-----------------------------------------------------------\n",
            "| End of epoch  15 | Time: 16.10s | Train Accuracy    0.903 | Train Loss    0.356 | Valid Accuracy    0.954 | Valid Loss    0.163 \n",
            "-----------------------------------------------------------\n",
            "| epoch  16 |    50/  211 batches | accuracy    0.898\n",
            "| epoch  16 |   100/  211 batches | accuracy    0.897\n",
            "| epoch  16 |   150/  211 batches | accuracy    0.897\n",
            "| epoch  16 |   200/  211 batches | accuracy    0.900\n",
            "-----------------------------------------------------------\n",
            "| End of epoch  16 | Time: 16.24s | Train Accuracy    0.900 | Train Loss    0.355 | Valid Accuracy    0.956 | Valid Loss    0.162 \n",
            "-----------------------------------------------------------\n",
            "| epoch  17 |    50/  211 batches | accuracy    0.903\n",
            "| epoch  17 |   100/  211 batches | accuracy    0.903\n",
            "| epoch  17 |   150/  211 batches | accuracy    0.902\n",
            "| epoch  17 |   200/  211 batches | accuracy    0.896\n",
            "-----------------------------------------------------------\n",
            "| End of epoch  17 | Time: 16.17s | Train Accuracy    0.888 | Train Loss    0.347 | Valid Accuracy    0.953 | Valid Loss    0.166 \n",
            "-----------------------------------------------------------\n",
            "| epoch  18 |    50/  211 batches | accuracy    0.906\n",
            "| epoch  18 |   100/  211 batches | accuracy    0.903\n",
            "| epoch  18 |   150/  211 batches | accuracy    0.901\n",
            "| epoch  18 |   200/  211 batches | accuracy    0.897\n",
            "-----------------------------------------------------------\n",
            "| End of epoch  18 | Time: 16.88s | Train Accuracy    0.903 | Train Loss    0.341 | Valid Accuracy    0.954 | Valid Loss    0.160 \n",
            "-----------------------------------------------------------\n",
            "| epoch  19 |    50/  211 batches | accuracy    0.906\n",
            "| epoch  19 |   100/  211 batches | accuracy    0.900\n",
            "| epoch  19 |   150/  211 batches | accuracy    0.900\n",
            "| epoch  19 |   200/  211 batches | accuracy    0.906\n",
            "-----------------------------------------------------------\n",
            "| End of epoch  19 | Time: 17.66s | Train Accuracy    0.899 | Train Loss    0.343 | Valid Accuracy    0.955 | Valid Loss    0.162 \n",
            "-----------------------------------------------------------\n",
            "| epoch  20 |    50/  211 batches | accuracy    0.905\n",
            "| epoch  20 |   100/  211 batches | accuracy    0.900\n",
            "| epoch  20 |   150/  211 batches | accuracy    0.902\n",
            "| epoch  20 |   200/  211 batches | accuracy    0.900\n",
            "-----------------------------------------------------------\n",
            "| End of epoch  20 | Time: 16.60s | Train Accuracy    0.900 | Train Loss    0.342 | Valid Accuracy    0.955 | Valid Loss    0.155 \n",
            "-----------------------------------------------------------\n",
            "0.6\n",
            "| epoch   1 |    50/  211 batches | accuracy    0.330\n",
            "| epoch   1 |   100/  211 batches | accuracy    0.555\n",
            "| epoch   1 |   150/  211 batches | accuracy    0.650\n",
            "| epoch   1 |   200/  211 batches | accuracy    0.693\n",
            "-----------------------------------------------------------\n",
            "| End of epoch   1 | Time: 16.17s | Train Accuracy    0.724 | Train Loss    1.256 | Valid Accuracy    0.896 | Valid Loss    0.422 \n",
            "-----------------------------------------------------------\n",
            "| epoch   2 |    50/  211 batches | accuracy    0.721\n",
            "| epoch   2 |   100/  211 batches | accuracy    0.743\n",
            "| epoch   2 |   150/  211 batches | accuracy    0.752\n",
            "| epoch   2 |   200/  211 batches | accuracy    0.762\n",
            "-----------------------------------------------------------\n",
            "| End of epoch   2 | Time: 15.98s | Train Accuracy    0.769 | Train Loss    0.796 | Valid Accuracy    0.911 | Valid Loss    0.341 \n",
            "-----------------------------------------------------------\n",
            "| epoch   3 |    50/  211 batches | accuracy    0.774\n",
            "| epoch   3 |   100/  211 batches | accuracy    0.779\n",
            "| epoch   3 |   150/  211 batches | accuracy    0.786\n",
            "| epoch   3 |   200/  211 batches | accuracy    0.790\n",
            "-----------------------------------------------------------\n",
            "| End of epoch   3 | Time: 15.88s | Train Accuracy    0.787 | Train Loss    0.703 | Valid Accuracy    0.922 | Valid Loss    0.292 \n",
            "-----------------------------------------------------------\n",
            "| epoch   4 |    50/  211 batches | accuracy    0.798\n",
            "| epoch   4 |   100/  211 batches | accuracy    0.798\n",
            "| epoch   4 |   150/  211 batches | accuracy    0.802\n",
            "| epoch   4 |   200/  211 batches | accuracy    0.803\n",
            "-----------------------------------------------------------\n",
            "| End of epoch   4 | Time: 16.69s | Train Accuracy    0.810 | Train Loss    0.653 | Valid Accuracy    0.927 | Valid Loss    0.275 \n",
            "-----------------------------------------------------------\n",
            "| epoch   5 |    50/  211 batches | accuracy    0.806\n",
            "| epoch   5 |   100/  211 batches | accuracy    0.811\n",
            "| epoch   5 |   150/  211 batches | accuracy    0.807\n",
            "| epoch   5 |   200/  211 batches | accuracy    0.810\n",
            "-----------------------------------------------------------\n",
            "| End of epoch   5 | Time: 16.65s | Train Accuracy    0.803 | Train Loss    0.635 | Valid Accuracy    0.934 | Valid Loss    0.267 \n",
            "-----------------------------------------------------------\n",
            "| epoch   6 |    50/  211 batches | accuracy    0.815\n",
            "| epoch   6 |   100/  211 batches | accuracy    0.817\n",
            "| epoch   6 |   150/  211 batches | accuracy    0.821\n",
            "| epoch   6 |   200/  211 batches | accuracy    0.818\n",
            "-----------------------------------------------------------\n",
            "| End of epoch   6 | Time: 16.74s | Train Accuracy    0.819 | Train Loss    0.608 | Valid Accuracy    0.931 | Valid Loss    0.256 \n",
            "-----------------------------------------------------------\n",
            "| epoch   7 |    50/  211 batches | accuracy    0.824\n",
            "| epoch   7 |   100/  211 batches | accuracy    0.819\n",
            "| epoch   7 |   150/  211 batches | accuracy    0.819\n",
            "| epoch   7 |   200/  211 batches | accuracy    0.818\n",
            "-----------------------------------------------------------\n",
            "| End of epoch   7 | Time: 16.34s | Train Accuracy    0.820 | Train Loss    0.594 | Valid Accuracy    0.934 | Valid Loss    0.250 \n",
            "-----------------------------------------------------------\n",
            "| epoch   8 |    50/  211 batches | accuracy    0.828\n",
            "| epoch   8 |   100/  211 batches | accuracy    0.825\n",
            "| epoch   8 |   150/  211 batches | accuracy    0.824\n",
            "| epoch   8 |   200/  211 batches | accuracy    0.828\n",
            "-----------------------------------------------------------\n",
            "| End of epoch   8 | Time: 15.93s | Train Accuracy    0.825 | Train Loss    0.573 | Valid Accuracy    0.938 | Valid Loss    0.235 \n",
            "-----------------------------------------------------------\n",
            "| epoch   9 |    50/  211 batches | accuracy    0.826\n",
            "| epoch   9 |   100/  211 batches | accuracy    0.825\n",
            "| epoch   9 |   150/  211 batches | accuracy    0.833\n",
            "| epoch   9 |   200/  211 batches | accuracy    0.830\n",
            "-----------------------------------------------------------\n",
            "| End of epoch   9 | Time: 16.00s | Train Accuracy    0.818 | Train Loss    0.569 | Valid Accuracy    0.939 | Valid Loss    0.236 \n",
            "-----------------------------------------------------------\n",
            "| epoch  10 |    50/  211 batches | accuracy    0.834\n",
            "| epoch  10 |   100/  211 batches | accuracy    0.824\n",
            "| epoch  10 |   150/  211 batches | accuracy    0.829\n",
            "| epoch  10 |   200/  211 batches | accuracy    0.830\n",
            "-----------------------------------------------------------\n",
            "| End of epoch  10 | Time: 16.79s | Train Accuracy    0.827 | Train Loss    0.565 | Valid Accuracy    0.940 | Valid Loss    0.227 \n",
            "-----------------------------------------------------------\n",
            "| epoch  11 |    50/  211 batches | accuracy    0.831\n",
            "| epoch  11 |   100/  211 batches | accuracy    0.830\n",
            "| epoch  11 |   150/  211 batches | accuracy    0.829\n",
            "| epoch  11 |   200/  211 batches | accuracy    0.833\n",
            "-----------------------------------------------------------\n",
            "| End of epoch  11 | Time: 17.77s | Train Accuracy    0.834 | Train Loss    0.549 | Valid Accuracy    0.939 | Valid Loss    0.228 \n",
            "-----------------------------------------------------------\n",
            "| epoch  12 |    50/  211 batches | accuracy    0.834\n",
            "| epoch  12 |   100/  211 batches | accuracy    0.831\n",
            "| epoch  12 |   150/  211 batches | accuracy    0.830\n",
            "| epoch  12 |   200/  211 batches | accuracy    0.832\n",
            "-----------------------------------------------------------\n",
            "| End of epoch  12 | Time: 16.05s | Train Accuracy    0.842 | Train Loss    0.548 | Valid Accuracy    0.938 | Valid Loss    0.229 \n",
            "-----------------------------------------------------------\n",
            "| epoch  13 |    50/  211 batches | accuracy    0.836\n",
            "| epoch  13 |   100/  211 batches | accuracy    0.835\n",
            "| epoch  13 |   150/  211 batches | accuracy    0.834\n",
            "| epoch  13 |   200/  211 batches | accuracy    0.834\n",
            "-----------------------------------------------------------\n",
            "| End of epoch  13 | Time: 16.05s | Train Accuracy    0.838 | Train Loss    0.537 | Valid Accuracy    0.941 | Valid Loss    0.222 \n",
            "-----------------------------------------------------------\n",
            "| epoch  14 |    50/  211 batches | accuracy    0.837\n",
            "| epoch  14 |   100/  211 batches | accuracy    0.837\n",
            "| epoch  14 |   150/  211 batches | accuracy    0.840\n",
            "| epoch  14 |   200/  211 batches | accuracy    0.839\n",
            "-----------------------------------------------------------\n",
            "| End of epoch  14 | Time: 16.25s | Train Accuracy    0.847 | Train Loss    0.528 | Valid Accuracy    0.942 | Valid Loss    0.218 \n",
            "-----------------------------------------------------------\n",
            "| epoch  15 |    50/  211 batches | accuracy    0.841\n",
            "| epoch  15 |   100/  211 batches | accuracy    0.844\n",
            "| epoch  15 |   150/  211 batches | accuracy    0.843\n",
            "| epoch  15 |   200/  211 batches | accuracy    0.845\n",
            "-----------------------------------------------------------\n",
            "| End of epoch  15 | Time: 16.44s | Train Accuracy    0.835 | Train Loss    0.524 | Valid Accuracy    0.943 | Valid Loss    0.219 \n",
            "-----------------------------------------------------------\n",
            "| epoch  16 |    50/  211 batches | accuracy    0.852\n",
            "| epoch  16 |   100/  211 batches | accuracy    0.843\n",
            "| epoch  16 |   150/  211 batches | accuracy    0.840\n",
            "| epoch  16 |   200/  211 batches | accuracy    0.846\n",
            "-----------------------------------------------------------\n",
            "| End of epoch  16 | Time: 16.94s | Train Accuracy    0.837 | Train Loss    0.518 | Valid Accuracy    0.944 | Valid Loss    0.214 \n",
            "-----------------------------------------------------------\n",
            "| epoch  17 |    50/  211 batches | accuracy    0.846\n",
            "| epoch  17 |   100/  211 batches | accuracy    0.841\n",
            "| epoch  17 |   150/  211 batches | accuracy    0.837\n",
            "| epoch  17 |   200/  211 batches | accuracy    0.849\n",
            "-----------------------------------------------------------\n",
            "| End of epoch  17 | Time: 16.28s | Train Accuracy    0.848 | Train Loss    0.519 | Valid Accuracy    0.943 | Valid Loss    0.218 \n",
            "-----------------------------------------------------------\n",
            "| epoch  18 |    50/  211 batches | accuracy    0.846\n",
            "| epoch  18 |   100/  211 batches | accuracy    0.847\n",
            "| epoch  18 |   150/  211 batches | accuracy    0.844\n",
            "| epoch  18 |   200/  211 batches | accuracy    0.841\n",
            "-----------------------------------------------------------\n",
            "| End of epoch  18 | Time: 16.34s | Train Accuracy    0.847 | Train Loss    0.518 | Valid Accuracy    0.943 | Valid Loss    0.212 \n",
            "-----------------------------------------------------------\n",
            "| epoch  19 |    50/  211 batches | accuracy    0.845\n",
            "| epoch  19 |   100/  211 batches | accuracy    0.846\n",
            "| epoch  19 |   150/  211 batches | accuracy    0.848\n",
            "| epoch  19 |   200/  211 batches | accuracy    0.845\n",
            "-----------------------------------------------------------\n",
            "| End of epoch  19 | Time: 17.65s | Train Accuracy    0.844 | Train Loss    0.512 | Valid Accuracy    0.945 | Valid Loss    0.217 \n",
            "-----------------------------------------------------------\n",
            "| epoch  20 |    50/  211 batches | accuracy    0.847\n",
            "| epoch  20 |   100/  211 batches | accuracy    0.844\n",
            "| epoch  20 |   150/  211 batches | accuracy    0.848\n",
            "| epoch  20 |   200/  211 batches | accuracy    0.853\n",
            "-----------------------------------------------------------\n",
            "| End of epoch  20 | Time: 16.10s | Train Accuracy    0.851 | Train Loss    0.505 | Valid Accuracy    0.945 | Valid Loss    0.210 \n",
            "-----------------------------------------------------------\n",
            "0.7\n",
            "| epoch   1 |    50/  211 batches | accuracy    0.254\n",
            "| epoch   1 |   100/  211 batches | accuracy    0.424\n",
            "| epoch   1 |   150/  211 batches | accuracy    0.512\n",
            "| epoch   1 |   200/  211 batches | accuracy    0.558\n",
            "-----------------------------------------------------------\n",
            "| End of epoch   1 | Time: 16.50s | Train Accuracy    0.561 | Train Loss    1.529 | Valid Accuracy    0.849 | Valid Loss    0.606 \n",
            "-----------------------------------------------------------\n",
            "| epoch   2 |    50/  211 batches | accuracy    0.589\n",
            "| epoch   2 |   100/  211 batches | accuracy    0.602\n",
            "| epoch   2 |   150/  211 batches | accuracy    0.622\n",
            "| epoch   2 |   200/  211 batches | accuracy    0.636\n",
            "-----------------------------------------------------------\n",
            "| End of epoch   2 | Time: 16.18s | Train Accuracy    0.640 | Train Loss    1.093 | Valid Accuracy    0.894 | Valid Loss    0.469 \n",
            "-----------------------------------------------------------\n",
            "| epoch   3 |    50/  211 batches | accuracy    0.648\n",
            "| epoch   3 |   100/  211 batches | accuracy    0.653\n",
            "| epoch   3 |   150/  211 batches | accuracy    0.661\n",
            "| epoch   3 |   200/  211 batches | accuracy    0.661\n",
            "-----------------------------------------------------------\n",
            "| End of epoch   3 | Time: 17.28s | Train Accuracy    0.682 | Train Loss    0.992 | Valid Accuracy    0.910 | Valid Loss    0.411 \n",
            "-----------------------------------------------------------\n",
            "| epoch   4 |    50/  211 batches | accuracy    0.671\n",
            "| epoch   4 |   100/  211 batches | accuracy    0.672\n",
            "| epoch   4 |   150/  211 batches | accuracy    0.689\n",
            "| epoch   4 |   200/  211 batches | accuracy    0.691\n",
            "-----------------------------------------------------------\n",
            "| End of epoch   4 | Time: 16.69s | Train Accuracy    0.704 | Train Loss    0.936 | Valid Accuracy    0.910 | Valid Loss    0.379 \n",
            "-----------------------------------------------------------\n",
            "| epoch   5 |    50/  211 batches | accuracy    0.688\n",
            "| epoch   5 |   100/  211 batches | accuracy    0.690\n",
            "| epoch   5 |   150/  211 batches | accuracy    0.701\n",
            "| epoch   5 |   200/  211 batches | accuracy    0.696\n",
            "-----------------------------------------------------------\n",
            "| End of epoch   5 | Time: 16.47s | Train Accuracy    0.698 | Train Loss    0.905 | Valid Accuracy    0.920 | Valid Loss    0.351 \n",
            "-----------------------------------------------------------\n",
            "| epoch   6 |    50/  211 batches | accuracy    0.701\n",
            "| epoch   6 |   100/  211 batches | accuracy    0.701\n",
            "| epoch   6 |   150/  211 batches | accuracy    0.710\n",
            "| epoch   6 |   200/  211 batches | accuracy    0.708\n",
            "-----------------------------------------------------------\n",
            "| End of epoch   6 | Time: 16.82s | Train Accuracy    0.700 | Train Loss    0.878 | Valid Accuracy    0.922 | Valid Loss    0.337 \n",
            "-----------------------------------------------------------\n",
            "| epoch   7 |    50/  211 batches | accuracy    0.719\n",
            "| epoch   7 |   100/  211 batches | accuracy    0.716\n",
            "| epoch   7 |   150/  211 batches | accuracy    0.717\n",
            "| epoch   7 |   200/  211 batches | accuracy    0.703\n",
            "-----------------------------------------------------------\n",
            "| End of epoch   7 | Time: 16.07s | Train Accuracy    0.715 | Train Loss    0.864 | Valid Accuracy    0.920 | Valid Loss    0.324 \n",
            "-----------------------------------------------------------\n",
            "| epoch   8 |    50/  211 batches | accuracy    0.710\n",
            "| epoch   8 |   100/  211 batches | accuracy    0.724\n",
            "| epoch   8 |   150/  211 batches | accuracy    0.714\n",
            "| epoch   8 |   200/  211 batches | accuracy    0.719\n",
            "-----------------------------------------------------------\n",
            "| End of epoch   8 | Time: 16.02s | Train Accuracy    0.713 | Train Loss    0.851 | Valid Accuracy    0.924 | Valid Loss    0.333 \n",
            "-----------------------------------------------------------\n",
            "| epoch   9 |    50/  211 batches | accuracy    0.722\n",
            "| epoch   9 |   100/  211 batches | accuracy    0.722\n",
            "| epoch   9 |   150/  211 batches | accuracy    0.716\n",
            "| epoch   9 |   200/  211 batches | accuracy    0.718\n",
            "-----------------------------------------------------------\n",
            "| End of epoch   9 | Time: 16.01s | Train Accuracy    0.711 | Train Loss    0.845 | Valid Accuracy    0.920 | Valid Loss    0.320 \n",
            "-----------------------------------------------------------\n",
            "| epoch  10 |    50/  211 batches | accuracy    0.718\n",
            "| epoch  10 |   100/  211 batches | accuracy    0.722\n",
            "| epoch  10 |   150/  211 batches | accuracy    0.721\n",
            "| epoch  10 |   200/  211 batches | accuracy    0.723\n",
            "-----------------------------------------------------------\n",
            "| End of epoch  10 | Time: 16.08s | Train Accuracy    0.718 | Train Loss    0.842 | Valid Accuracy    0.926 | Valid Loss    0.318 \n",
            "-----------------------------------------------------------\n",
            "| epoch  11 |    50/  211 batches | accuracy    0.731\n",
            "| epoch  11 |   100/  211 batches | accuracy    0.718\n",
            "| epoch  11 |   150/  211 batches | accuracy    0.726\n",
            "| epoch  11 |   200/  211 batches | accuracy    0.730\n",
            "-----------------------------------------------------------\n",
            "| End of epoch  11 | Time: 16.11s | Train Accuracy    0.723 | Train Loss    0.834 | Valid Accuracy    0.927 | Valid Loss    0.322 \n",
            "-----------------------------------------------------------\n",
            "| epoch  12 |    50/  211 batches | accuracy    0.728\n",
            "| epoch  12 |   100/  211 batches | accuracy    0.731\n",
            "| epoch  12 |   150/  211 batches | accuracy    0.725\n",
            "| epoch  12 |   200/  211 batches | accuracy    0.723\n",
            "-----------------------------------------------------------\n",
            "| End of epoch  12 | Time: 18.08s | Train Accuracy    0.726 | Train Loss    0.825 | Valid Accuracy    0.928 | Valid Loss    0.307 \n",
            "-----------------------------------------------------------\n",
            "| epoch  13 |    50/  211 batches | accuracy    0.730\n",
            "| epoch  13 |   100/  211 batches | accuracy    0.727\n",
            "| epoch  13 |   150/  211 batches | accuracy    0.734\n",
            "| epoch  13 |   200/  211 batches | accuracy    0.734\n",
            "-----------------------------------------------------------\n",
            "| End of epoch  13 | Time: 16.43s | Train Accuracy    0.741 | Train Loss    0.815 | Valid Accuracy    0.926 | Valid Loss    0.310 \n",
            "-----------------------------------------------------------\n",
            "| epoch  14 |    50/  211 batches | accuracy    0.736\n",
            "| epoch  14 |   100/  211 batches | accuracy    0.731\n",
            "| epoch  14 |   150/  211 batches | accuracy    0.734\n",
            "| epoch  14 |   200/  211 batches | accuracy    0.736\n",
            "-----------------------------------------------------------\n",
            "| End of epoch  14 | Time: 16.05s | Train Accuracy    0.757 | Train Loss    0.809 | Valid Accuracy    0.928 | Valid Loss    0.306 \n",
            "-----------------------------------------------------------\n",
            "| epoch  15 |    50/  211 batches | accuracy    0.735\n",
            "| epoch  15 |   100/  211 batches | accuracy    0.732\n",
            "| epoch  15 |   150/  211 batches | accuracy    0.741\n",
            "| epoch  15 |   200/  211 batches | accuracy    0.736\n",
            "-----------------------------------------------------------\n",
            "| End of epoch  15 | Time: 15.96s | Train Accuracy    0.716 | Train Loss    0.807 | Valid Accuracy    0.928 | Valid Loss    0.308 \n",
            "-----------------------------------------------------------\n",
            "| epoch  16 |    50/  211 batches | accuracy    0.733\n",
            "| epoch  16 |   100/  211 batches | accuracy    0.742\n",
            "| epoch  16 |   150/  211 batches | accuracy    0.734\n",
            "| epoch  16 |   200/  211 batches | accuracy    0.734\n",
            "-----------------------------------------------------------\n",
            "| End of epoch  16 | Time: 17.28s | Train Accuracy    0.739 | Train Loss    0.806 | Valid Accuracy    0.928 | Valid Loss    0.300 \n",
            "-----------------------------------------------------------\n",
            "| epoch  17 |    50/  211 batches | accuracy    0.738\n",
            "| epoch  17 |   100/  211 batches | accuracy    0.740\n",
            "| epoch  17 |   150/  211 batches | accuracy    0.739\n",
            "| epoch  17 |   200/  211 batches | accuracy    0.734\n",
            "-----------------------------------------------------------\n",
            "| End of epoch  17 | Time: 16.11s | Train Accuracy    0.732 | Train Loss    0.797 | Valid Accuracy    0.931 | Valid Loss    0.307 \n",
            "-----------------------------------------------------------\n",
            "| epoch  18 |    50/  211 batches | accuracy    0.744\n",
            "| epoch  18 |   100/  211 batches | accuracy    0.732\n",
            "| epoch  18 |   150/  211 batches | accuracy    0.736\n",
            "| epoch  18 |   200/  211 batches | accuracy    0.737\n",
            "-----------------------------------------------------------\n",
            "| End of epoch  18 | Time: 16.84s | Train Accuracy    0.752 | Train Loss    0.800 | Valid Accuracy    0.929 | Valid Loss    0.308 \n",
            "-----------------------------------------------------------\n",
            "| epoch  19 |    50/  211 batches | accuracy    0.737\n",
            "| epoch  19 |   100/  211 batches | accuracy    0.743\n",
            "| epoch  19 |   150/  211 batches | accuracy    0.736\n",
            "| epoch  19 |   200/  211 batches | accuracy    0.742\n",
            "-----------------------------------------------------------\n",
            "| End of epoch  19 | Time: 16.55s | Train Accuracy    0.746 | Train Loss    0.795 | Valid Accuracy    0.930 | Valid Loss    0.299 \n",
            "-----------------------------------------------------------\n",
            "| epoch  20 |    50/  211 batches | accuracy    0.749\n",
            "| epoch  20 |   100/  211 batches | accuracy    0.738\n",
            "| epoch  20 |   150/  211 batches | accuracy    0.748\n",
            "| epoch  20 |   200/  211 batches | accuracy    0.738\n",
            "-----------------------------------------------------------\n",
            "| End of epoch  20 | Time: 16.05s | Train Accuracy    0.749 | Train Loss    0.783 | Valid Accuracy    0.931 | Valid Loss    0.297 \n",
            "-----------------------------------------------------------\n",
            "0.8\n",
            "| epoch   1 |    50/  211 batches | accuracy    0.174\n",
            "| epoch   1 |   100/  211 batches | accuracy    0.266\n",
            "| epoch   1 |   150/  211 batches | accuracy    0.321\n",
            "| epoch   1 |   200/  211 batches | accuracy    0.361\n",
            "-----------------------------------------------------------\n",
            "| End of epoch   1 | Time: 16.22s | Train Accuracy    0.371 | Train Loss    1.922 | Valid Accuracy    0.667 | Valid Loss    1.046 \n",
            "-----------------------------------------------------------\n",
            "| epoch   2 |    50/  211 batches | accuracy    0.389\n",
            "| epoch   2 |   100/  211 batches | accuracy    0.417\n",
            "| epoch   2 |   150/  211 batches | accuracy    0.422\n",
            "| epoch   2 |   200/  211 batches | accuracy    0.441\n",
            "-----------------------------------------------------------\n",
            "| End of epoch   2 | Time: 16.21s | Train Accuracy    0.442 | Train Loss    1.577 | Valid Accuracy    0.795 | Valid Loss    0.843 \n",
            "-----------------------------------------------------------\n",
            "| epoch   3 |    50/  211 batches | accuracy    0.441\n",
            "| epoch   3 |   100/  211 batches | accuracy    0.452\n",
            "| epoch   3 |   150/  211 batches | accuracy    0.455\n",
            "| epoch   3 |   200/  211 batches | accuracy    0.457\n",
            "-----------------------------------------------------------\n",
            "| End of epoch   3 | Time: 16.88s | Train Accuracy    0.483 | Train Loss    1.488 | Valid Accuracy    0.818 | Valid Loss    0.781 \n",
            "-----------------------------------------------------------\n",
            "| epoch   4 |    50/  211 batches | accuracy    0.462\n",
            "| epoch   4 |   100/  211 batches | accuracy    0.474\n",
            "| epoch   4 |   150/  211 batches | accuracy    0.467\n",
            "| epoch   4 |   200/  211 batches | accuracy    0.471\n",
            "-----------------------------------------------------------\n",
            "| End of epoch   4 | Time: 17.91s | Train Accuracy    0.465 | Train Loss    1.448 | Valid Accuracy    0.823 | Valid Loss    0.742 \n",
            "-----------------------------------------------------------\n",
            "| epoch   5 |    50/  211 batches | accuracy    0.483\n",
            "| epoch   5 |   100/  211 batches | accuracy    0.484\n",
            "| epoch   5 |   150/  211 batches | accuracy    0.480\n",
            "| epoch   5 |   200/  211 batches | accuracy    0.488\n",
            "-----------------------------------------------------------\n",
            "| End of epoch   5 | Time: 16.11s | Train Accuracy    0.495 | Train Loss    1.410 | Valid Accuracy    0.850 | Valid Loss    0.724 \n",
            "-----------------------------------------------------------\n",
            "| epoch   6 |    50/  211 batches | accuracy    0.498\n",
            "| epoch   6 |   100/  211 batches | accuracy    0.496\n",
            "| epoch   6 |   150/  211 batches | accuracy    0.499\n",
            "| epoch   6 |   200/  211 batches | accuracy    0.500\n",
            "-----------------------------------------------------------\n",
            "| End of epoch   6 | Time: 16.00s | Train Accuracy    0.486 | Train Loss    1.388 | Valid Accuracy    0.846 | Valid Loss    0.710 \n",
            "-----------------------------------------------------------\n",
            "| epoch   7 |    50/  211 batches | accuracy    0.505\n",
            "| epoch   7 |   100/  211 batches | accuracy    0.508\n",
            "| epoch   7 |   150/  211 batches | accuracy    0.505\n",
            "| epoch   7 |   200/  211 batches | accuracy    0.515\n",
            "-----------------------------------------------------------\n",
            "| End of epoch   7 | Time: 15.99s | Train Accuracy    0.509 | Train Loss    1.385 | Valid Accuracy    0.846 | Valid Loss    0.728 \n",
            "-----------------------------------------------------------\n",
            "| epoch   8 |    50/  211 batches | accuracy    0.516\n",
            "| epoch   8 |   100/  211 batches | accuracy    0.520\n",
            "| epoch   8 |   150/  211 batches | accuracy    0.523\n",
            "| epoch   8 |   200/  211 batches | accuracy    0.525\n",
            "-----------------------------------------------------------\n",
            "| End of epoch   8 | Time: 16.13s | Train Accuracy    0.521 | Train Loss    1.356 | Valid Accuracy    0.861 | Valid Loss    0.697 \n",
            "-----------------------------------------------------------\n",
            "| epoch   9 |    50/  211 batches | accuracy    0.527\n",
            "| epoch   9 |   100/  211 batches | accuracy    0.530\n",
            "| epoch   9 |   150/  211 batches | accuracy    0.528\n",
            "| epoch   9 |   200/  211 batches | accuracy    0.526\n",
            "-----------------------------------------------------------\n",
            "| End of epoch   9 | Time: 17.21s | Train Accuracy    0.532 | Train Loss    1.345 | Valid Accuracy    0.864 | Valid Loss    0.680 \n",
            "-----------------------------------------------------------\n",
            "| epoch  10 |    50/  211 batches | accuracy    0.531\n",
            "| epoch  10 |   100/  211 batches | accuracy    0.534\n",
            "| epoch  10 |   150/  211 batches | accuracy    0.531\n",
            "| epoch  10 |   200/  211 batches | accuracy    0.537\n",
            "-----------------------------------------------------------\n",
            "| End of epoch  10 | Time: 16.97s | Train Accuracy    0.537 | Train Loss    1.341 | Valid Accuracy    0.865 | Valid Loss    0.683 \n",
            "-----------------------------------------------------------\n",
            "| epoch  11 |    50/  211 batches | accuracy    0.546\n",
            "| epoch  11 |   100/  211 batches | accuracy    0.536\n",
            "| epoch  11 |   150/  211 batches | accuracy    0.543\n",
            "| epoch  11 |   200/  211 batches | accuracy    0.533\n",
            "-----------------------------------------------------------\n",
            "| End of epoch  11 | Time: 16.48s | Train Accuracy    0.547 | Train Loss    1.337 | Valid Accuracy    0.875 | Valid Loss    0.680 \n",
            "-----------------------------------------------------------\n",
            "| epoch  12 |    50/  211 batches | accuracy    0.544\n",
            "| epoch  12 |   100/  211 batches | accuracy    0.547\n",
            "| epoch  12 |   150/  211 batches | accuracy    0.550\n",
            "| epoch  12 |   200/  211 batches | accuracy    0.545\n",
            "-----------------------------------------------------------\n",
            "| End of epoch  12 | Time: 16.12s | Train Accuracy    0.544 | Train Loss    1.311 | Valid Accuracy    0.870 | Valid Loss    0.654 \n",
            "-----------------------------------------------------------\n",
            "| epoch  13 |    50/  211 batches | accuracy    0.546\n",
            "| epoch  13 |   100/  211 batches | accuracy    0.553\n",
            "| epoch  13 |   150/  211 batches | accuracy    0.550\n",
            "| epoch  13 |   200/  211 batches | accuracy    0.553\n",
            "-----------------------------------------------------------\n",
            "| End of epoch  13 | Time: 16.16s | Train Accuracy    0.549 | Train Loss    1.307 | Valid Accuracy    0.884 | Valid Loss    0.659 \n",
            "-----------------------------------------------------------\n",
            "| epoch  14 |    50/  211 batches | accuracy    0.551\n",
            "| epoch  14 |   100/  211 batches | accuracy    0.552\n",
            "| epoch  14 |   150/  211 batches | accuracy    0.555\n",
            "| epoch  14 |   200/  211 batches | accuracy    0.562\n",
            "-----------------------------------------------------------\n",
            "| End of epoch  14 | Time: 16.11s | Train Accuracy    0.544 | Train Loss    1.296 | Valid Accuracy    0.873 | Valid Loss    0.661 \n",
            "-----------------------------------------------------------\n",
            "| epoch  15 |    50/  211 batches | accuracy    0.550\n",
            "| epoch  15 |   100/  211 batches | accuracy    0.562\n",
            "| epoch  15 |   150/  211 batches | accuracy    0.551\n",
            "| epoch  15 |   200/  211 batches | accuracy    0.556\n",
            "-----------------------------------------------------------\n",
            "| End of epoch  15 | Time: 16.17s | Train Accuracy    0.554 | Train Loss    1.291 | Valid Accuracy    0.879 | Valid Loss    0.649 \n",
            "-----------------------------------------------------------\n",
            "| epoch  16 |    50/  211 batches | accuracy    0.560\n",
            "| epoch  16 |   100/  211 batches | accuracy    0.557\n",
            "| epoch  16 |   150/  211 batches | accuracy    0.563\n",
            "| epoch  16 |   200/  211 batches | accuracy    0.564\n",
            "-----------------------------------------------------------\n",
            "| End of epoch  16 | Time: 17.04s | Train Accuracy    0.570 | Train Loss    1.283 | Valid Accuracy    0.886 | Valid Loss    0.623 \n",
            "-----------------------------------------------------------\n",
            "| epoch  17 |    50/  211 batches | accuracy    0.567\n",
            "| epoch  17 |   100/  211 batches | accuracy    0.559\n",
            "| epoch  17 |   150/  211 batches | accuracy    0.561\n",
            "| epoch  17 |   200/  211 batches | accuracy    0.561\n",
            "-----------------------------------------------------------\n",
            "| End of epoch  17 | Time: 17.66s | Train Accuracy    0.546 | Train Loss    1.281 | Valid Accuracy    0.879 | Valid Loss    0.640 \n",
            "-----------------------------------------------------------\n",
            "| epoch  18 |    50/  211 batches | accuracy    0.571\n",
            "| epoch  18 |   100/  211 batches | accuracy    0.564\n",
            "| epoch  18 |   150/  211 batches | accuracy    0.565\n",
            "| epoch  18 |   200/  211 batches | accuracy    0.568\n",
            "-----------------------------------------------------------\n",
            "| End of epoch  18 | Time: 16.08s | Train Accuracy    0.569 | Train Loss    1.272 | Valid Accuracy    0.881 | Valid Loss    0.628 \n",
            "-----------------------------------------------------------\n",
            "| epoch  19 |    50/  211 batches | accuracy    0.570\n",
            "| epoch  19 |   100/  211 batches | accuracy    0.567\n",
            "| epoch  19 |   150/  211 batches | accuracy    0.565\n",
            "| epoch  19 |   200/  211 batches | accuracy    0.570\n",
            "-----------------------------------------------------------\n",
            "| End of epoch  19 | Time: 16.09s | Train Accuracy    0.565 | Train Loss    1.268 | Valid Accuracy    0.885 | Valid Loss    0.629 \n",
            "-----------------------------------------------------------\n",
            "| epoch  20 |    50/  211 batches | accuracy    0.564\n",
            "| epoch  20 |   100/  211 batches | accuracy    0.576\n",
            "| epoch  20 |   150/  211 batches | accuracy    0.566\n",
            "| epoch  20 |   200/  211 batches | accuracy    0.570\n",
            "-----------------------------------------------------------\n",
            "| End of epoch  20 | Time: 16.00s | Train Accuracy    0.565 | Train Loss    1.271 | Valid Accuracy    0.890 | Valid Loss    0.615 \n",
            "-----------------------------------------------------------\n",
            "0.9\n",
            "| epoch   1 |    50/  211 batches | accuracy    0.107\n",
            "| epoch   1 |   100/  211 batches | accuracy    0.126\n",
            "| epoch   1 |   150/  211 batches | accuracy    0.141\n",
            "| epoch   1 |   200/  211 batches | accuracy    0.159\n",
            "-----------------------------------------------------------\n",
            "| End of epoch   1 | Time: 17.90s | Train Accuracy    0.166 | Train Loss    2.244 | Valid Accuracy    0.433 | Valid Loss    2.047 \n",
            "-----------------------------------------------------------\n",
            "| epoch   2 |    50/  211 batches | accuracy    0.169\n",
            "| epoch   2 |   100/  211 batches | accuracy    0.177\n",
            "| epoch   2 |   150/  211 batches | accuracy    0.173\n",
            "| epoch   2 |   200/  211 batches | accuracy    0.182\n",
            "-----------------------------------------------------------\n",
            "| End of epoch   2 | Time: 16.09s | Train Accuracy    0.189 | Train Loss    2.155 | Valid Accuracy    0.469 | Valid Loss    1.913 \n",
            "-----------------------------------------------------------\n",
            "| epoch   3 |    50/  211 batches | accuracy    0.183\n",
            "| epoch   3 |   100/  211 batches | accuracy    0.180\n",
            "| epoch   3 |   150/  211 batches | accuracy    0.188\n",
            "| epoch   3 |   200/  211 batches | accuracy    0.187\n",
            "-----------------------------------------------------------\n",
            "| End of epoch   3 | Time: 16.13s | Train Accuracy    0.186 | Train Loss    2.125 | Valid Accuracy    0.497 | Valid Loss    1.842 \n",
            "-----------------------------------------------------------\n",
            "| epoch   4 |    50/  211 batches | accuracy    0.193\n",
            "| epoch   4 |   100/  211 batches | accuracy    0.194\n",
            "| epoch   4 |   150/  211 batches | accuracy    0.190\n",
            "| epoch   4 |   200/  211 batches | accuracy    0.190\n",
            "-----------------------------------------------------------\n",
            "| End of epoch   4 | Time: 16.17s | Train Accuracy    0.203 | Train Loss    2.105 | Valid Accuracy    0.505 | Valid Loss    1.792 \n",
            "-----------------------------------------------------------\n",
            "| epoch   5 |    50/  211 batches | accuracy    0.195\n",
            "| epoch   5 |   100/  211 batches | accuracy    0.196\n",
            "| epoch   5 |   150/  211 batches | accuracy    0.195\n",
            "| epoch   5 |   200/  211 batches | accuracy    0.200\n",
            "-----------------------------------------------------------\n",
            "| End of epoch   5 | Time: 16.22s | Train Accuracy    0.198 | Train Loss    2.092 | Valid Accuracy    0.504 | Valid Loss    1.765 \n",
            "-----------------------------------------------------------\n",
            "| epoch   6 |    50/  211 batches | accuracy    0.193\n",
            "| epoch   6 |   100/  211 batches | accuracy    0.203\n",
            "| epoch   6 |   150/  211 batches | accuracy    0.197\n",
            "| epoch   6 |   200/  211 batches | accuracy    0.204\n",
            "-----------------------------------------------------------\n",
            "| End of epoch   6 | Time: 17.01s | Train Accuracy    0.211 | Train Loss    2.080 | Valid Accuracy    0.503 | Valid Loss    1.728 \n",
            "-----------------------------------------------------------\n",
            "| epoch   7 |    50/  211 batches | accuracy    0.201\n",
            "| epoch   7 |   100/  211 batches | accuracy    0.207\n",
            "| epoch   7 |   150/  211 batches | accuracy    0.200\n",
            "| epoch   7 |   200/  211 batches | accuracy    0.204\n",
            "-----------------------------------------------------------\n",
            "| End of epoch   7 | Time: 16.29s | Train Accuracy    0.210 | Train Loss    2.069 | Valid Accuracy    0.515 | Valid Loss    1.677 \n",
            "-----------------------------------------------------------\n",
            "| epoch   8 |    50/  211 batches | accuracy    0.205\n",
            "| epoch   8 |   100/  211 batches | accuracy    0.208\n",
            "| epoch   8 |   150/  211 batches | accuracy    0.201\n",
            "| epoch   8 |   200/  211 batches | accuracy    0.205\n",
            "-----------------------------------------------------------\n",
            "| End of epoch   8 | Time: 16.05s | Train Accuracy    0.211 | Train Loss    2.062 | Valid Accuracy    0.511 | Valid Loss    1.650 \n",
            "-----------------------------------------------------------\n",
            "| epoch   9 |    50/  211 batches | accuracy    0.209\n",
            "| epoch   9 |   100/  211 batches | accuracy    0.209\n",
            "| epoch   9 |   150/  211 batches | accuracy    0.202\n",
            "| epoch   9 |   200/  211 batches | accuracy    0.209\n",
            "-----------------------------------------------------------\n",
            "| End of epoch   9 | Time: 17.29s | Train Accuracy    0.204 | Train Loss    2.056 | Valid Accuracy    0.480 | Valid Loss    1.669 \n",
            "-----------------------------------------------------------\n",
            "| epoch  10 |    50/  211 batches | accuracy    0.213\n",
            "| epoch  10 |   100/  211 batches | accuracy    0.210\n",
            "| epoch  10 |   150/  211 batches | accuracy    0.209\n",
            "| epoch  10 |   200/  211 batches | accuracy    0.211\n",
            "-----------------------------------------------------------\n",
            "| End of epoch  10 | Time: 16.13s | Train Accuracy    0.217 | Train Loss    2.045 | Valid Accuracy    0.506 | Valid Loss    1.646 \n",
            "-----------------------------------------------------------\n",
            "| epoch  11 |    50/  211 batches | accuracy    0.210\n",
            "| epoch  11 |   100/  211 batches | accuracy    0.212\n",
            "| epoch  11 |   150/  211 batches | accuracy    0.213\n",
            "| epoch  11 |   200/  211 batches | accuracy    0.216\n",
            "-----------------------------------------------------------\n",
            "| End of epoch  11 | Time: 16.76s | Train Accuracy    0.203 | Train Loss    2.037 | Valid Accuracy    0.493 | Valid Loss    1.635 \n",
            "-----------------------------------------------------------\n",
            "| epoch  12 |    50/  211 batches | accuracy    0.211\n",
            "| epoch  12 |   100/  211 batches | accuracy    0.212\n",
            "| epoch  12 |   150/  211 batches | accuracy    0.217\n",
            "| epoch  12 |   200/  211 batches | accuracy    0.210\n",
            "-----------------------------------------------------------\n",
            "| End of epoch  12 | Time: 17.06s | Train Accuracy    0.226 | Train Loss    2.032 | Valid Accuracy    0.486 | Valid Loss    1.647 \n",
            "-----------------------------------------------------------\n",
            "| epoch  13 |    50/  211 batches | accuracy    0.204\n",
            "| epoch  13 |   100/  211 batches | accuracy    0.212\n",
            "| epoch  13 |   150/  211 batches | accuracy    0.221\n",
            "| epoch  13 |   200/  211 batches | accuracy    0.210\n",
            "-----------------------------------------------------------\n",
            "| End of epoch  13 | Time: 17.09s | Train Accuracy    0.214 | Train Loss    2.032 | Valid Accuracy    0.486 | Valid Loss    1.598 \n",
            "-----------------------------------------------------------\n",
            "| epoch  14 |    50/  211 batches | accuracy    0.212\n",
            "| epoch  14 |   100/  211 batches | accuracy    0.211\n",
            "| epoch  14 |   150/  211 batches | accuracy    0.220\n",
            "| epoch  14 |   200/  211 batches | accuracy    0.211\n",
            "-----------------------------------------------------------\n",
            "| End of epoch  14 | Time: 16.42s | Train Accuracy    0.224 | Train Loss    2.024 | Valid Accuracy    0.494 | Valid Loss    1.596 \n",
            "-----------------------------------------------------------\n",
            "| epoch  15 |    50/  211 batches | accuracy    0.217\n",
            "| epoch  15 |   100/  211 batches | accuracy    0.223\n",
            "| epoch  15 |   150/  211 batches | accuracy    0.217\n",
            "| epoch  15 |   200/  211 batches | accuracy    0.225\n",
            "-----------------------------------------------------------\n",
            "| End of epoch  15 | Time: 16.11s | Train Accuracy    0.230 | Train Loss    2.019 | Valid Accuracy    0.507 | Valid Loss    1.622 \n",
            "-----------------------------------------------------------\n",
            "| epoch  16 |    50/  211 batches | accuracy    0.224\n",
            "| epoch  16 |   100/  211 batches | accuracy    0.221\n",
            "| epoch  16 |   150/  211 batches | accuracy    0.224\n",
            "| epoch  16 |   200/  211 batches | accuracy    0.225\n",
            "-----------------------------------------------------------\n",
            "| End of epoch  16 | Time: 16.51s | Train Accuracy    0.208 | Train Loss    2.011 | Valid Accuracy    0.507 | Valid Loss    1.562 \n",
            "-----------------------------------------------------------\n",
            "| epoch  17 |    50/  211 batches | accuracy    0.218\n",
            "| epoch  17 |   100/  211 batches | accuracy    0.224\n",
            "| epoch  17 |   150/  211 batches | accuracy    0.219\n",
            "| epoch  17 |   200/  211 batches | accuracy    0.221\n",
            "-----------------------------------------------------------\n",
            "| End of epoch  17 | Time: 17.00s | Train Accuracy    0.214 | Train Loss    2.011 | Valid Accuracy    0.495 | Valid Loss    1.558 \n",
            "-----------------------------------------------------------\n",
            "| epoch  18 |    50/  211 batches | accuracy    0.219\n",
            "| epoch  18 |   100/  211 batches | accuracy    0.220\n",
            "| epoch  18 |   150/  211 batches | accuracy    0.227\n",
            "| epoch  18 |   200/  211 batches | accuracy    0.220\n",
            "-----------------------------------------------------------\n",
            "| End of epoch  18 | Time: 16.15s | Train Accuracy    0.210 | Train Loss    2.014 | Valid Accuracy    0.497 | Valid Loss    1.544 \n",
            "-----------------------------------------------------------\n",
            "| epoch  19 |    50/  211 batches | accuracy    0.217\n",
            "| epoch  19 |   100/  211 batches | accuracy    0.225\n",
            "| epoch  19 |   150/  211 batches | accuracy    0.225\n",
            "| epoch  19 |   200/  211 batches | accuracy    0.223\n",
            "-----------------------------------------------------------\n",
            "| End of epoch  19 | Time: 16.14s | Train Accuracy    0.219 | Train Loss    2.005 | Valid Accuracy    0.496 | Valid Loss    1.525 \n",
            "-----------------------------------------------------------\n",
            "| epoch  20 |    50/  211 batches | accuracy    0.223\n",
            "| epoch  20 |   100/  211 batches | accuracy    0.224\n",
            "| epoch  20 |   150/  211 batches | accuracy    0.221\n",
            "| epoch  20 |   200/  211 batches | accuracy    0.230\n",
            "-----------------------------------------------------------\n",
            "| End of epoch  20 | Time: 16.24s | Train Accuracy    0.231 | Train Loss    1.998 | Valid Accuracy    0.500 | Valid Loss    1.525 \n",
            "-----------------------------------------------------------\n",
            "1.0\n",
            "| epoch   1 |    50/  211 batches | accuracy    0.100\n",
            "| epoch   1 |   100/  211 batches | accuracy    0.096\n",
            "| epoch   1 |   150/  211 batches | accuracy    0.100\n",
            "| epoch   1 |   200/  211 batches | accuracy    0.098\n",
            "-----------------------------------------------------------\n",
            "| End of epoch   1 | Time: 16.38s | Train Accuracy    0.101 | Train Loss    2.306 | Valid Accuracy    0.114 | Valid Loss    2.304 \n",
            "-----------------------------------------------------------\n",
            "| epoch   2 |    50/  211 batches | accuracy    0.103\n",
            "| epoch   2 |   100/  211 batches | accuracy    0.099\n",
            "| epoch   2 |   150/  211 batches | accuracy    0.114\n",
            "| epoch   2 |   200/  211 batches | accuracy    0.110\n",
            "-----------------------------------------------------------\n",
            "| End of epoch   2 | Time: 18.18s | Train Accuracy    0.110 | Train Loss    2.302 | Valid Accuracy    0.062 | Valid Loss    2.304 \n",
            "-----------------------------------------------------------\n",
            "| epoch   3 |    50/  211 batches | accuracy    0.114\n",
            "| epoch   3 |   100/  211 batches | accuracy    0.111\n",
            "| epoch   3 |   150/  211 batches | accuracy    0.112\n",
            "| epoch   3 |   200/  211 batches | accuracy    0.112\n",
            "-----------------------------------------------------------\n",
            "| End of epoch   3 | Time: 16.00s | Train Accuracy    0.114 | Train Loss    2.301 | Valid Accuracy    0.068 | Valid Loss    2.304 \n",
            "-----------------------------------------------------------\n",
            "| epoch   4 |    50/  211 batches | accuracy    0.110\n",
            "| epoch   4 |   100/  211 batches | accuracy    0.112\n",
            "| epoch   4 |   150/  211 batches | accuracy    0.113\n",
            "| epoch   4 |   200/  211 batches | accuracy    0.114\n",
            "-----------------------------------------------------------\n",
            "| End of epoch   4 | Time: 16.07s | Train Accuracy    0.114 | Train Loss    2.301 | Valid Accuracy    0.073 | Valid Loss    2.304 \n",
            "-----------------------------------------------------------\n",
            "| epoch   5 |    50/  211 batches | accuracy    0.111\n",
            "| epoch   5 |   100/  211 batches | accuracy    0.111\n",
            "| epoch   5 |   150/  211 batches | accuracy    0.116\n",
            "| epoch   5 |   200/  211 batches | accuracy    0.111\n",
            "-----------------------------------------------------------\n",
            "| End of epoch   5 | Time: 16.09s | Train Accuracy    0.114 | Train Loss    2.301 | Valid Accuracy    0.078 | Valid Loss    2.304 \n",
            "-----------------------------------------------------------\n",
            "| epoch   6 |    50/  211 batches | accuracy    0.113\n",
            "| epoch   6 |   100/  211 batches | accuracy    0.115\n",
            "| epoch   6 |   150/  211 batches | accuracy    0.112\n",
            "| epoch   6 |   200/  211 batches | accuracy    0.108\n",
            "-----------------------------------------------------------\n",
            "| End of epoch   6 | Time: 17.86s | Train Accuracy    0.118 | Train Loss    2.301 | Valid Accuracy    0.070 | Valid Loss    2.304 \n",
            "-----------------------------------------------------------\n",
            "| epoch   7 |    50/  211 batches | accuracy    0.113\n",
            "| epoch   7 |   100/  211 batches | accuracy    0.119\n",
            "| epoch   7 |   150/  211 batches | accuracy    0.106\n",
            "| epoch   7 |   200/  211 batches | accuracy    0.111\n",
            "-----------------------------------------------------------\n",
            "| End of epoch   7 | Time: 16.30s | Train Accuracy    0.111 | Train Loss    2.301 | Valid Accuracy    0.068 | Valid Loss    2.304 \n",
            "-----------------------------------------------------------\n",
            "| epoch   8 |    50/  211 batches | accuracy    0.111\n",
            "| epoch   8 |   100/  211 batches | accuracy    0.108\n",
            "| epoch   8 |   150/  211 batches | accuracy    0.115\n",
            "| epoch   8 |   200/  211 batches | accuracy    0.116\n",
            "-----------------------------------------------------------\n",
            "| End of epoch   8 | Time: 16.99s | Train Accuracy    0.108 | Train Loss    2.301 | Valid Accuracy    0.074 | Valid Loss    2.304 \n",
            "-----------------------------------------------------------\n",
            "| epoch   9 |    50/  211 batches | accuracy    0.116\n",
            "| epoch   9 |   100/  211 batches | accuracy    0.109\n",
            "| epoch   9 |   150/  211 batches | accuracy    0.112\n",
            "| epoch   9 |   200/  211 batches | accuracy    0.111\n",
            "-----------------------------------------------------------\n",
            "| End of epoch   9 | Time: 16.28s | Train Accuracy    0.116 | Train Loss    2.301 | Valid Accuracy    0.077 | Valid Loss    2.304 \n",
            "-----------------------------------------------------------\n",
            "| epoch  10 |    50/  211 batches | accuracy    0.114\n",
            "| epoch  10 |   100/  211 batches | accuracy    0.112\n",
            "| epoch  10 |   150/  211 batches | accuracy    0.113\n",
            "| epoch  10 |   200/  211 batches | accuracy    0.111\n",
            "-----------------------------------------------------------\n",
            "| End of epoch  10 | Time: 16.54s | Train Accuracy    0.110 | Train Loss    2.301 | Valid Accuracy    0.075 | Valid Loss    2.304 \n",
            "-----------------------------------------------------------\n",
            "| epoch  11 |    50/  211 batches | accuracy    0.111\n",
            "| epoch  11 |   100/  211 batches | accuracy    0.115\n",
            "| epoch  11 |   150/  211 batches | accuracy    0.111\n",
            "| epoch  11 |   200/  211 batches | accuracy    0.112\n",
            "-----------------------------------------------------------\n",
            "| End of epoch  11 | Time: 16.50s | Train Accuracy    0.116 | Train Loss    2.301 | Valid Accuracy    0.074 | Valid Loss    2.304 \n",
            "-----------------------------------------------------------\n",
            "| epoch  12 |    50/  211 batches | accuracy    0.107\n",
            "| epoch  12 |   100/  211 batches | accuracy    0.117\n",
            "| epoch  12 |   150/  211 batches | accuracy    0.114\n",
            "| epoch  12 |   200/  211 batches | accuracy    0.113\n",
            "-----------------------------------------------------------\n",
            "| End of epoch  12 | Time: 16.41s | Train Accuracy    0.106 | Train Loss    2.301 | Valid Accuracy    0.080 | Valid Loss    2.304 \n",
            "-----------------------------------------------------------\n",
            "| epoch  13 |    50/  211 batches | accuracy    0.111\n",
            "| epoch  13 |   100/  211 batches | accuracy    0.115\n",
            "| epoch  13 |   150/  211 batches | accuracy    0.109\n",
            "| epoch  13 |   200/  211 batches | accuracy    0.114\n",
            "-----------------------------------------------------------\n",
            "| End of epoch  13 | Time: 16.98s | Train Accuracy    0.114 | Train Loss    2.301 | Valid Accuracy    0.077 | Valid Loss    2.304 \n",
            "-----------------------------------------------------------\n",
            "| epoch  14 |    50/  211 batches | accuracy    0.113\n",
            "| epoch  14 |   100/  211 batches | accuracy    0.115\n",
            "| epoch  14 |   150/  211 batches | accuracy    0.111\n",
            "| epoch  14 |   200/  211 batches | accuracy    0.111\n",
            "-----------------------------------------------------------\n",
            "| End of epoch  14 | Time: 18.05s | Train Accuracy    0.112 | Train Loss    2.301 | Valid Accuracy    0.072 | Valid Loss    2.304 \n",
            "-----------------------------------------------------------\n",
            "| epoch  15 |    50/  211 batches | accuracy    0.115\n",
            "| epoch  15 |   100/  211 batches | accuracy    0.112\n",
            "| epoch  15 |   150/  211 batches | accuracy    0.112\n",
            "| epoch  15 |   200/  211 batches | accuracy    0.110\n",
            "-----------------------------------------------------------\n",
            "| End of epoch  15 | Time: 16.31s | Train Accuracy    0.108 | Train Loss    2.301 | Valid Accuracy    0.074 | Valid Loss    2.304 \n",
            "-----------------------------------------------------------\n",
            "| epoch  16 |    50/  211 batches | accuracy    0.112\n",
            "| epoch  16 |   100/  211 batches | accuracy    0.115\n",
            "| epoch  16 |   150/  211 batches | accuracy    0.112\n",
            "| epoch  16 |   200/  211 batches | accuracy    0.110\n",
            "-----------------------------------------------------------\n",
            "| End of epoch  16 | Time: 16.16s | Train Accuracy    0.117 | Train Loss    2.301 | Valid Accuracy    0.073 | Valid Loss    2.304 \n",
            "-----------------------------------------------------------\n",
            "| epoch  17 |    50/  211 batches | accuracy    0.114\n",
            "| epoch  17 |   100/  211 batches | accuracy    0.116\n",
            "| epoch  17 |   150/  211 batches | accuracy    0.109\n",
            "| epoch  17 |   200/  211 batches | accuracy    0.110\n",
            "-----------------------------------------------------------\n",
            "| End of epoch  17 | Time: 16.29s | Train Accuracy    0.113 | Train Loss    2.301 | Valid Accuracy    0.070 | Valid Loss    2.304 \n",
            "-----------------------------------------------------------\n",
            "| epoch  18 |    50/  211 batches | accuracy    0.111\n",
            "| epoch  18 |   100/  211 batches | accuracy    0.114\n",
            "| epoch  18 |   150/  211 batches | accuracy    0.114\n",
            "| epoch  18 |   200/  211 batches | accuracy    0.111\n",
            "-----------------------------------------------------------\n",
            "| End of epoch  18 | Time: 18.19s | Train Accuracy    0.110 | Train Loss    2.301 | Valid Accuracy    0.077 | Valid Loss    2.304 \n",
            "-----------------------------------------------------------\n",
            "| epoch  19 |    50/  211 batches | accuracy    0.116\n",
            "| epoch  19 |   100/  211 batches | accuracy    0.111\n",
            "| epoch  19 |   150/  211 batches | accuracy    0.113\n",
            "| epoch  19 |   200/  211 batches | accuracy    0.109\n",
            "-----------------------------------------------------------\n",
            "| End of epoch  19 | Time: 17.05s | Train Accuracy    0.111 | Train Loss    2.301 | Valid Accuracy    0.074 | Valid Loss    2.304 \n",
            "-----------------------------------------------------------\n",
            "| epoch  20 |    50/  211 batches | accuracy    0.114\n",
            "| epoch  20 |   100/  211 batches | accuracy    0.113\n",
            "| epoch  20 |   150/  211 batches | accuracy    0.111\n",
            "| epoch  20 |   200/  211 batches | accuracy    0.112\n",
            "-----------------------------------------------------------\n",
            "| End of epoch  20 | Time: 16.19s | Train Accuracy    0.104 | Train Loss    2.301 | Valid Accuracy    0.076 | Valid Loss    2.304 \n",
            "-----------------------------------------------------------\n"
          ]
        }
      ]
    },
    {
      "cell_type": "code",
      "source": [
        "epochs = list(range(num_epochs))\n",
        "fig, axs = plt.subplots(nrows = 1, ncols =2 , figsize = (12,6))\n",
        "\n",
        "for idx, metric in enumerate(metrics):\n",
        "    axs[0].plot(epochs, metric['valid_loss'], label=p_dropouts[idx])\n",
        "    axs[1].plot(epochs, metric['valid_accuracy'], label=p_dropouts[idx])\n",
        "axs[0].set_xlabel(\"P\")\n",
        "axs[1].set_xlabel(\"P\")\n",
        "axs[0].set_ylabel(\"Evaluation Loss\")\n",
        "axs[1].set_ylabel(\"Evaluation Accuracy\")\n",
        "plt.legend()"
      ],
      "metadata": {
        "colab": {
          "base_uri": "https://localhost:8080/",
          "height": 559
        },
        "id": "q67DV9AG-Bbj",
        "outputId": "93a1e378-dd17-4c81-f45d-e9f543e04399"
      },
      "execution_count": null,
      "outputs": [
        {
          "output_type": "execute_result",
          "data": {
            "text/plain": [
              "<matplotlib.legend.Legend at 0x7e08bbe085e0>"
            ]
          },
          "metadata": {},
          "execution_count": 34
        },
        {
          "output_type": "display_data",
          "data": {
            "text/plain": [
              "<Figure size 1200x600 with 2 Axes>"
            ],
            "image/png": "[encoded data removed]"
          },
          "metadata": {}
        }
      ]
    },
    {
      "cell_type": "code",
      "source": [
        "plt.plot(p_dropouts, [sum(metric['time'])/len(metric['time']) for metric in metrics])\n",
        "plt.show()"
      ],
      "metadata": {
        "id": "V3Q79_xi-_ER",
        "colab": {
          "base_uri": "https://localhost:8080/",
          "height": 430
        },
        "outputId": "eeb5870b-f5f0-4fbd-bafe-fe2b1c03de72"
      },
      "execution_count": null,
      "outputs": [
        {
          "output_type": "display_data",
          "data": {
            "text/plain": [
              "<Figure size 640x480 with 1 Axes>"
            ],
            "image/png": "[encoded data removed]"
          },
          "metadata": {}
        }
      ]
    },
    {
      "cell_type": "markdown",
      "source": [
        "##**3. Skip Connection**"
      ],
      "metadata": {
        "id": "Ys26eQ1hLlpP"
      }
    },
    {
      "cell_type": "code",
      "source": [
        "import numpy as np\n",
        "np.random.seed(seed=941)\n",
        "SEED = 1\n",
        "torch.manual_seed(SEED)\n",
        "torch.cuda.manual_seed(SEED)\n",
        "torch.backends.cudnn.deterministic = True\n",
        "\n",
        "x = np.random.randint(low=0, high=255, size=(3, 3)).astype(np.float64)\n",
        "x = torch.tensor(x, dtype=torch.float32).unsqueeze(0).unsqueeze(0)"
      ],
      "metadata": {
        "id": "5gpJReU7Lpa_"
      },
      "execution_count": null,
      "outputs": []
    },
    {
      "cell_type": "code",
      "source": [
        "import torch\n",
        "import torch.nn as nn\n",
        "import torch.nn.functional as F\n",
        "\n",
        "class SimpleResBlock(nn.Module):\n",
        "    def __init__(self, in_channels):\n",
        "        super(SimpleResBlock, self).__init__()\n",
        "        self.conv1 = nn.Conv2d(in_channels, in_channels, kernel_size=3, padding=1)\n",
        "        self.bn1 = nn.BatchNorm2d(in_channels)\n",
        "        self.conv2 = nn.Conv2d(in_channels, in_channels, kernel_size=3, padding=1)\n",
        "        self.bn2 = nn.BatchNorm2d(in_channels)\n",
        "\n",
        "    def forward(self, x):\n",
        "        identity = x\n",
        "        print('1', identity)\n",
        "        out = self.conv1(x)\n",
        "        print('2', out)\n",
        "        out = self.bn1(out)\n",
        "        print('3', out)\n",
        "        out = F.relu(out)\n",
        "        print('4', out)\n",
        "        out = self.conv2(out)\n",
        "        print('5', out)\n",
        "        out = self.bn2(out)\n",
        "        print('6', out)\n",
        "        out += identity\n",
        "        print('7', out)\n",
        "        out = F.relu(out)\n",
        "\n",
        "        return out"
      ],
      "metadata": {
        "id": "mIwoVWMdLvvm"
      },
      "execution_count": null,
      "outputs": []
    },
    {
      "cell_type": "code",
      "source": [
        "in_channels = 1\n",
        "skip_connection_model = SimpleResBlock(in_channels)\n",
        "\n",
        "skip_connection_model(x)"
      ],
      "metadata": {
        "colab": {
          "base_uri": "https://localhost:8080/"
        },
        "id": "nH_tn_XbLyUq",
        "outputId": "5601007c-1066-447b-8404-5aed4bd53bc7"
      },
      "execution_count": null,
      "outputs": [
        {
          "output_type": "stream",
          "name": "stdout",
          "text": [
            "1 tensor([[[[ 72., 106., 128.],\n",
            "          [242.,  26., 108.],\n",
            "          [208., 213.,  54.]]]])\n",
            "2 tensor([[[[ 40.7982,  -3.6336,  -7.0926],\n",
            "          [-43.0856,  64.1113, -35.9400],\n",
            "          [-60.0185,   7.2153,   4.9145]]]], grad_fn=<ConvolutionBackward0>)\n",
            "3 tensor([[[[ 1.1901e+00,  8.5362e-05, -9.2560e-02],\n",
            "          [-1.0566e+00,  1.8146e+00, -8.6521e-01],\n",
            "          [-1.5101e+00,  2.9066e-01,  2.2904e-01]]]],\n",
            "       grad_fn=<NativeBatchNormBackward0>)\n",
            "4 tensor([[[[1.1901e+00, 8.5362e-05, 0.0000e+00],\n",
            "          [0.0000e+00, 1.8146e+00, 0.0000e+00],\n",
            "          [0.0000e+00, 2.9066e-01, 2.2904e-01]]]], grad_fn=<ReluBackward0>)\n",
            "5 tensor([[[[ 0.6035, -0.0533,  0.1914],\n",
            "          [ 0.1536,  0.2360, -0.1182],\n",
            "          [ 0.3159,  0.1196,  0.2282]]]], grad_fn=<ConvolutionBackward0>)\n",
            "6 tensor([[[[ 2.1131, -1.2134,  0.0258],\n",
            "          [-0.1658,  0.2518, -1.5423],\n",
            "          [ 0.6564, -0.3376,  0.2120]]]], grad_fn=<NativeBatchNormBackward0>)\n",
            "7 tensor([[[[ 74.1131, 104.7866, 128.0258],\n",
            "          [241.8342,  26.2518, 106.4577],\n",
            "          [208.6564, 212.6624,  54.2120]]]], grad_fn=<AddBackward0>)\n"
          ]
        },
        {
          "output_type": "execute_result",
          "data": {
            "text/plain": [
              "tensor([[[[ 74.1131, 104.7866, 128.0258],\n",
              "          [241.8342,  26.2518, 106.4577],\n",
              "          [208.6564, 212.6624,  54.2120]]]], grad_fn=<ReluBackward0>)"
            ]
          },
          "metadata": {},
          "execution_count": 38
        }
      ]
    },
    {
      "cell_type": "markdown",
      "source": [
        "###**MNIST Classification**"
      ],
      "metadata": {
        "id": "CPaSe7L9L0UP"
      }
    },
    {
      "cell_type": "code",
      "source": [
        "import torch\n",
        "import torch.nn as nn\n",
        "import torch.nn.functional as F\n",
        "\n",
        "class SimpleBlock(nn.Module):\n",
        "    def __init__(self, in_channels, out_channels):\n",
        "        super(SimpleBlock, self).__init__()\n",
        "        self.conv1 = nn.Conv2d(in_channels, out_channels, kernel_size=3, padding=1)\n",
        "        self.bn1 = nn.BatchNorm2d(out_channels)\n",
        "        self.conv2 = nn.Conv2d(out_channels, out_channels, kernel_size=3, padding=1)\n",
        "        self.bn2 = nn.BatchNorm2d(out_channels)\n",
        "\n",
        "    def forward(self, x):\n",
        "        identity = x\n",
        "        out = self.conv1(x)\n",
        "        out = self.bn1(out)\n",
        "        out = F.relu(out)\n",
        "\n",
        "        out = self.conv2(out)\n",
        "        out = self.bn2(out)\n",
        "\n",
        "        out += identity\n",
        "\n",
        "        out = F.relu(out)\n",
        "\n",
        "        return out\n",
        "\n",
        "class SimpleNet(nn.Module):\n",
        "    def __init__(self, in_channels, num_classes, num_blocks, block_channels):\n",
        "        super(SimpleNet, self).__init__()\n",
        "        layers = []\n",
        "        for i in range(num_blocks):\n",
        "            layers.append(SimpleBlock(in_channels if i == 0 else block_channels, block_channels))\n",
        "        self.blocks = nn.Sequential(*layers)\n",
        "        self.fc = nn.Linear(block_channels, num_classes)  # Fully connected layer\n",
        "\n",
        "    def forward(self, x):\n",
        "        out = self.blocks(x)\n",
        "\n",
        "        # Flattening and fully connected layer\n",
        "        out = F.adaptive_avg_pool2d(out, (1, 1))  # Adaptive pooling to size (1, 1)\n",
        "        out = torch.flatten(out, 1)  # Flatten the tensor\n",
        "        out = self.fc(out)  # Fully connected layer\n",
        "\n",
        "        return out"
      ],
      "metadata": {
        "id": "P1tH-HOvL5P2"
      },
      "execution_count": null,
      "outputs": []
    },
    {
      "cell_type": "code",
      "source": [
        "in_channels = 1\n",
        "skip_connection_model = SimpleNet(in_channels, num_classes=len(train_data.dataset.classes), num_blocks=4, block_channels=32)"
      ],
      "metadata": {
        "id": "dkvrikyUMWLk"
      },
      "execution_count": null,
      "outputs": []
    },
    {
      "cell_type": "code",
      "source": [
        "device = torch.device(\"cuda\" if torch.cuda.is_available() else \"cpu\")\n",
        "skip_connection_model = skip_connection_model.to(device)"
      ],
      "metadata": {
        "id": "VEghpC2VMdOz"
      },
      "execution_count": null,
      "outputs": []
    },
    {
      "cell_type": "code",
      "source": [
        "summary(skip_connection_model, (1, 28, 28))"
      ],
      "metadata": {
        "colab": {
          "base_uri": "https://localhost:8080/"
        },
        "id": "wZXp9aZkMg-t",
        "outputId": "aa2f715e-6c29-4725-e2a2-851cfb94e65f"
      },
      "execution_count": null,
      "outputs": [
        {
          "output_type": "stream",
          "name": "stdout",
          "text": [
            "----------------------------------------------------------------\n",
            "        Layer (type)               Output Shape         Param #\n",
            "================================================================\n",
            "            Conv2d-1           [-1, 32, 28, 28]             320\n",
            "       BatchNorm2d-2           [-1, 32, 28, 28]              64\n",
            "            Conv2d-3           [-1, 32, 28, 28]           9,248\n",
            "       BatchNorm2d-4           [-1, 32, 28, 28]              64\n",
            "       SimpleBlock-5           [-1, 32, 28, 28]               0\n",
            "            Conv2d-6           [-1, 32, 28, 28]           9,248\n",
            "       BatchNorm2d-7           [-1, 32, 28, 28]              64\n",
            "            Conv2d-8           [-1, 32, 28, 28]           9,248\n",
            "       BatchNorm2d-9           [-1, 32, 28, 28]              64\n",
            "      SimpleBlock-10           [-1, 32, 28, 28]               0\n",
            "           Conv2d-11           [-1, 32, 28, 28]           9,248\n",
            "      BatchNorm2d-12           [-1, 32, 28, 28]              64\n",
            "           Conv2d-13           [-1, 32, 28, 28]           9,248\n",
            "      BatchNorm2d-14           [-1, 32, 28, 28]              64\n",
            "      SimpleBlock-15           [-1, 32, 28, 28]               0\n",
            "           Conv2d-16           [-1, 32, 28, 28]           9,248\n",
            "      BatchNorm2d-17           [-1, 32, 28, 28]              64\n",
            "           Conv2d-18           [-1, 32, 28, 28]           9,248\n",
            "      BatchNorm2d-19           [-1, 32, 28, 28]              64\n",
            "      SimpleBlock-20           [-1, 32, 28, 28]               0\n",
            "           Linear-21                   [-1, 10]             330\n",
            "================================================================\n",
            "Total params: 65,898\n",
            "Trainable params: 65,898\n",
            "Non-trainable params: 0\n",
            "----------------------------------------------------------------\n",
            "Input size (MB): 0.00\n",
            "Forward/backward pass size (MB): 3.83\n",
            "Params size (MB): 0.25\n",
            "Estimated Total Size (MB): 4.08\n",
            "----------------------------------------------------------------\n"
          ]
        }
      ]
    },
    {
      "cell_type": "code",
      "source": [
        "num_classes = len(train_data.dataset.classes)\n",
        "\n",
        "device = torch.device('cuda' if torch.cuda.is_available() else 'cpu')\n",
        "\n",
        "skip_connection_model.to(device)\n",
        "\n",
        "criterion = torch.nn.CrossEntropyLoss()\n",
        "optimizer = optim.Adam(skip_connection_model.parameters())\n",
        "\n",
        "num_epochs = 20\n",
        "save_model = './model'\n",
        "os.makedirs(save_model, exist_ok = True)\n",
        "model_name = 'skip_connection_model'\n",
        "\n",
        "skip_connection_model, base_metrics = train(\n",
        "    skip_connection_model, model_name, optimizer, criterion, train_dataloader, valid_dataloader, num_epochs, device\n",
        ")"
      ],
      "metadata": {
        "colab": {
          "base_uri": "https://localhost:8080/"
        },
        "id": "qZTGTpQaMjpO",
        "outputId": "cf91aca2-7730-4d3a-f27e-54c9d32ed97c"
      },
      "execution_count": null,
      "outputs": [
        {
          "output_type": "stream",
          "name": "stdout",
          "text": [
            "| epoch   1 |    50/  211 batches | accuracy    0.491\n",
            "| epoch   1 |   100/  211 batches | accuracy    0.808\n",
            "| epoch   1 |   150/  211 batches | accuracy    0.917\n",
            "| epoch   1 |   200/  211 batches | accuracy    0.951\n",
            "-----------------------------------------------------------\n",
            "| End of epoch   1 | Time: 26.17s | Train Accuracy    0.955 | Train Loss    0.970 | Valid Accuracy    0.929 | Valid Loss    0.455 \n",
            "-----------------------------------------------------------\n",
            "| epoch   2 |    50/  211 batches | accuracy    0.962\n",
            "| epoch   2 |   100/  211 batches | accuracy    0.966\n",
            "| epoch   2 |   150/  211 batches | accuracy    0.973\n",
            "| epoch   2 |   200/  211 batches | accuracy    0.974\n",
            "-----------------------------------------------------------\n",
            "| End of epoch   2 | Time: 24.05s | Train Accuracy    0.973 | Train Loss    0.225 | Valid Accuracy    0.885 | Valid Loss    0.387 \n",
            "-----------------------------------------------------------\n",
            "| epoch   3 |    50/  211 batches | accuracy    0.977\n",
            "| epoch   3 |   100/  211 batches | accuracy    0.978\n",
            "| epoch   3 |   150/  211 batches | accuracy    0.977\n",
            "| epoch   3 |   200/  211 batches | accuracy    0.981\n",
            "-----------------------------------------------------------\n",
            "| End of epoch   3 | Time: 24.77s | Train Accuracy    0.984 | Train Loss    0.107 | Valid Accuracy    0.968 | Valid Loss    0.124 \n",
            "-----------------------------------------------------------\n",
            "| epoch   4 |    50/  211 batches | accuracy    0.982\n",
            "| epoch   4 |   100/  211 batches | accuracy    0.984\n",
            "| epoch   4 |   150/  211 batches | accuracy    0.985\n",
            "| epoch   4 |   200/  211 batches | accuracy    0.984\n",
            "-----------------------------------------------------------\n",
            "| End of epoch   4 | Time: 23.20s | Train Accuracy    0.985 | Train Loss    0.072 | Valid Accuracy    0.950 | Valid Loss    0.162 \n",
            "-----------------------------------------------------------\n",
            "| epoch   5 |    50/  211 batches | accuracy    0.986\n",
            "| epoch   5 |   100/  211 batches | accuracy    0.984\n",
            "| epoch   5 |   150/  211 batches | accuracy    0.986\n",
            "| epoch   5 |   200/  211 batches | accuracy    0.985\n",
            "-----------------------------------------------------------\n",
            "| End of epoch   5 | Time: 23.99s | Train Accuracy    0.991 | Train Loss    0.056 | Valid Accuracy    0.867 | Valid Loss    0.395 \n",
            "-----------------------------------------------------------\n",
            "| epoch   6 |    50/  211 batches | accuracy    0.987\n",
            "| epoch   6 |   100/  211 batches | accuracy    0.988\n",
            "| epoch   6 |   150/  211 batches | accuracy    0.988\n",
            "| epoch   6 |   200/  211 batches | accuracy    0.986\n",
            "-----------------------------------------------------------\n",
            "| End of epoch   6 | Time: 24.87s | Train Accuracy    0.985 | Train Loss    0.048 | Valid Accuracy    0.947 | Valid Loss    0.152 \n",
            "-----------------------------------------------------------\n",
            "| epoch   7 |    50/  211 batches | accuracy    0.987\n",
            "| epoch   7 |   100/  211 batches | accuracy    0.987\n",
            "| epoch   7 |   150/  211 batches | accuracy    0.989\n",
            "| epoch   7 |   200/  211 batches | accuracy    0.989\n",
            "-----------------------------------------------------------\n",
            "| End of epoch   7 | Time: 22.98s | Train Accuracy    0.987 | Train Loss    0.042 | Valid Accuracy    0.959 | Valid Loss    0.144 \n",
            "-----------------------------------------------------------\n",
            "| epoch   8 |    50/  211 batches | accuracy    0.991\n",
            "| epoch   8 |   100/  211 batches | accuracy    0.990\n",
            "| epoch   8 |   150/  211 batches | accuracy    0.989\n",
            "| epoch   8 |   200/  211 batches | accuracy    0.989\n",
            "-----------------------------------------------------------\n",
            "| End of epoch   8 | Time: 23.06s | Train Accuracy    0.992 | Train Loss    0.036 | Valid Accuracy    0.981 | Valid Loss    0.060 \n",
            "-----------------------------------------------------------\n",
            "| epoch   9 |    50/  211 batches | accuracy    0.991\n",
            "| epoch   9 |   100/  211 batches | accuracy    0.992\n",
            "| epoch   9 |   150/  211 batches | accuracy    0.991\n",
            "| epoch   9 |   200/  211 batches | accuracy    0.991\n",
            "-----------------------------------------------------------\n",
            "| End of epoch   9 | Time: 23.87s | Train Accuracy    0.990 | Train Loss    0.032 | Valid Accuracy    0.977 | Valid Loss    0.083 \n",
            "-----------------------------------------------------------\n",
            "| epoch  10 |    50/  211 batches | accuracy    0.992\n",
            "| epoch  10 |   100/  211 batches | accuracy    0.991\n",
            "| epoch  10 |   150/  211 batches | accuracy    0.991\n",
            "| epoch  10 |   200/  211 batches | accuracy    0.991\n",
            "-----------------------------------------------------------\n",
            "| End of epoch  10 | Time: 23.24s | Train Accuracy    0.993 | Train Loss    0.030 | Valid Accuracy    0.983 | Valid Loss    0.056 \n",
            "-----------------------------------------------------------\n",
            "| epoch  11 |    50/  211 batches | accuracy    0.993\n",
            "| epoch  11 |   100/  211 batches | accuracy    0.992\n",
            "| epoch  11 |   150/  211 batches | accuracy    0.992\n",
            "| epoch  11 |   200/  211 batches | accuracy    0.991\n",
            "-----------------------------------------------------------\n",
            "| End of epoch  11 | Time: 23.76s | Train Accuracy    0.994 | Train Loss    0.027 | Valid Accuracy    0.981 | Valid Loss    0.055 \n",
            "-----------------------------------------------------------\n",
            "| epoch  12 |    50/  211 batches | accuracy    0.993\n",
            "| epoch  12 |   100/  211 batches | accuracy    0.994\n",
            "| epoch  12 |   150/  211 batches | accuracy    0.991\n",
            "| epoch  12 |   200/  211 batches | accuracy    0.993\n",
            "-----------------------------------------------------------\n",
            "| End of epoch  12 | Time: 23.35s | Train Accuracy    0.990 | Train Loss    0.026 | Valid Accuracy    0.983 | Valid Loss    0.056 \n",
            "-----------------------------------------------------------\n",
            "| epoch  13 |    50/  211 batches | accuracy    0.994\n",
            "| epoch  13 |   100/  211 batches | accuracy    0.993\n",
            "| epoch  13 |   150/  211 batches | accuracy    0.993\n",
            "| epoch  13 |   200/  211 batches | accuracy    0.992\n",
            "-----------------------------------------------------------\n",
            "| End of epoch  13 | Time: 22.92s | Train Accuracy    0.993 | Train Loss    0.023 | Valid Accuracy    0.988 | Valid Loss    0.038 \n",
            "-----------------------------------------------------------\n",
            "| epoch  14 |    50/  211 batches | accuracy    0.994\n",
            "| epoch  14 |   100/  211 batches | accuracy    0.994\n",
            "| epoch  14 |   150/  211 batches | accuracy    0.993\n",
            "| epoch  14 |   200/  211 batches | accuracy    0.993\n",
            "-----------------------------------------------------------\n",
            "| End of epoch  14 | Time: 23.52s | Train Accuracy    0.993 | Train Loss    0.022 | Valid Accuracy    0.988 | Valid Loss    0.039 \n",
            "-----------------------------------------------------------\n",
            "| epoch  15 |    50/  211 batches | accuracy    0.994\n",
            "| epoch  15 |   100/  211 batches | accuracy    0.995\n",
            "| epoch  15 |   150/  211 batches | accuracy    0.994\n",
            "| epoch  15 |   200/  211 batches | accuracy    0.994\n",
            "-----------------------------------------------------------\n",
            "| End of epoch  15 | Time: 24.75s | Train Accuracy    0.993 | Train Loss    0.019 | Valid Accuracy    0.986 | Valid Loss    0.042 \n",
            "-----------------------------------------------------------\n",
            "| epoch  16 |    50/  211 batches | accuracy    0.994\n",
            "| epoch  16 |   100/  211 batches | accuracy    0.994\n",
            "| epoch  16 |   150/  211 batches | accuracy    0.994\n",
            "| epoch  16 |   200/  211 batches | accuracy    0.994\n",
            "-----------------------------------------------------------\n",
            "| End of epoch  16 | Time: 24.22s | Train Accuracy    0.993 | Train Loss    0.019 | Valid Accuracy    0.982 | Valid Loss    0.064 \n",
            "-----------------------------------------------------------\n",
            "| epoch  17 |    50/  211 batches | accuracy    0.995\n",
            "| epoch  17 |   100/  211 batches | accuracy    0.995\n",
            "| epoch  17 |   150/  211 batches | accuracy    0.995\n",
            "| epoch  17 |   200/  211 batches | accuracy    0.994\n",
            "-----------------------------------------------------------\n",
            "| End of epoch  17 | Time: 23.12s | Train Accuracy    0.996 | Train Loss    0.017 | Valid Accuracy    0.986 | Valid Loss    0.040 \n",
            "-----------------------------------------------------------\n",
            "| epoch  18 |    50/  211 batches | accuracy    0.995\n",
            "| epoch  18 |   100/  211 batches | accuracy    0.995\n",
            "| epoch  18 |   150/  211 batches | accuracy    0.995\n",
            "| epoch  18 |   200/  211 batches | accuracy    0.995\n",
            "-----------------------------------------------------------\n",
            "| End of epoch  18 | Time: 23.25s | Train Accuracy    0.995 | Train Loss    0.016 | Valid Accuracy    0.983 | Valid Loss    0.055 \n",
            "-----------------------------------------------------------\n",
            "| epoch  19 |    50/  211 batches | accuracy    0.996\n",
            "| epoch  19 |   100/  211 batches | accuracy    0.996\n",
            "| epoch  19 |   150/  211 batches | accuracy    0.995\n",
            "| epoch  19 |   200/  211 batches | accuracy    0.995\n",
            "-----------------------------------------------------------\n",
            "| End of epoch  19 | Time: 23.99s | Train Accuracy    0.991 | Train Loss    0.016 | Valid Accuracy    0.985 | Valid Loss    0.049 \n",
            "-----------------------------------------------------------\n",
            "| epoch  20 |    50/  211 batches | accuracy    0.996\n",
            "| epoch  20 |   100/  211 batches | accuracy    0.995\n",
            "| epoch  20 |   150/  211 batches | accuracy    0.996\n",
            "| epoch  20 |   200/  211 batches | accuracy    0.996\n",
            "-----------------------------------------------------------\n",
            "| End of epoch  20 | Time: 23.28s | Train Accuracy    0.997 | Train Loss    0.014 | Valid Accuracy    0.991 | Valid Loss    0.030 \n",
            "-----------------------------------------------------------\n"
          ]
        }
      ]
    },
    {
      "cell_type": "code",
      "source": [
        "test_acc, test_loss = evaluate_epoch(skip_connection_model, criterion, test_dataloader)\n",
        "test_acc, test_loss"
      ],
      "metadata": {
        "colab": {
          "base_uri": "https://localhost:8080/"
        },
        "id": "n4SYldAEPSA1",
        "outputId": "b18156b1-deb5-4f10-f11b-61ca32fb9387"
      },
      "execution_count": null,
      "outputs": [
        {
          "output_type": "execute_result",
          "data": {
            "text/plain": [
              "(0.99, 0.02992109247716144)"
            ]
          },
          "metadata": {},
          "execution_count": 18
        }
      ]
    },
    {
      "cell_type": "code",
      "source": [
        "plot_result(\n",
        "    num_epochs,\n",
        "    base_metrics[\"train_accuracy\"],\n",
        "    base_metrics[\"valid_accuracy\"],\n",
        "    base_metrics[\"train_loss\"],\n",
        "    base_metrics[\"valid_loss\"]\n",
        ")"
      ],
      "metadata": {
        "colab": {
          "base_uri": "https://localhost:8080/",
          "height": 542
        },
        "id": "FanfsUgSPVfM",
        "outputId": "4943fa37-95cd-4ab3-a421-784e439105e1"
      },
      "execution_count": null,
      "outputs": [
        {
          "output_type": "display_data",
          "data": {
            "text/plain": [
              "<Figure size 1200x600 with 2 Axes>"
            ],
            "image/png": "[encoded data removed]"
          },
          "metadata": {}
        }
      ]
    }
  ]
}