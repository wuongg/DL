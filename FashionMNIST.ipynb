{
  "cells": [
    {
      "cell_type": "code",
      "execution_count": null,
      "metadata": {
        "id": "qLboS2KPsuKI"
      },
      "outputs": [],
      "source": [
        "import torch\n",
        "from torch import nn\n",
        "from torch.utils.data import DataLoader\n",
        "from torchvision import datasets\n",
        "from torchvision.transforms import ToTensor, Lambda, Compose,Normalize"
      ]
    },
    {
      "cell_type": "code",
      "execution_count": null,
      "metadata": {
        "colab": {
          "base_uri": "https://localhost:8080/"
        },
        "id": "l19r9RGZxNVS",
        "outputId": "a204bc29-d309-4ddd-b822-77ce8cfd2ed4"
      },
      "outputs": [
        {
          "output_type": "stream",
          "name": "stdout",
          "text": [
            "Using cuda device\n"
          ]
        }
      ],
      "source": [
        "device = \"cuda\" if torch.cuda.is_available() else \"cpu\"\n",
        "print(f\"Using {device} device\")"
      ]
    },
    {
      "cell_type": "code",
      "execution_count": null,
      "metadata": {
        "id": "7UC5zeG7tA0P"
      },
      "outputs": [],
      "source": [
        "transform = Compose([ToTensor(),Normalize((0.5,),(0.5,))])"
      ]
    },
    {
      "cell_type": "code",
      "execution_count": null,
      "metadata": {
        "id": "zj26MAIetV04"
      },
      "outputs": [],
      "source": [
        "trainset = datasets.FashionMNIST(\n",
        "    root=\"data\",\n",
        "    train=True,\n",
        "    download=True,\n",
        "    transform=transform\n",
        ")"
      ]
    },
    {
      "cell_type": "code",
      "execution_count": null,
      "metadata": {
        "colab": {
          "base_uri": "https://localhost:8080/",
          "height": 447
        },
        "id": "FeUvzRqZuCDF",
        "outputId": "ebfdfd13-e34e-4d6a-9327-45bfff8c0467"
      },
      "outputs": [
        {
          "output_type": "execute_result",
          "data": {
            "text/plain": [
              "<matplotlib.image.AxesImage at 0x7e7195061f60>"
            ]
          },
          "metadata": {},
          "execution_count": 5
        },
        {
          "output_type": "display_data",
          "data": {
            "text/plain": [
              "<Figure size 640x480 with 1 Axes>"
            ],
            "image/png": "[encoded data removed]"
          },
          "metadata": {}
        }
      ],
      "source": [
        "import matplotlib.pyplot as plt\n",
        "img,_ = trainset[0]\n",
        "plt.imshow(img.squeeze(),cmap=\"gray\")"
      ]
    },
    {
      "cell_type": "code",
      "execution_count": null,
      "metadata": {
        "id": "H0RiwKGvtdV9"
      },
      "outputs": [],
      "source": [
        "trainset = DataLoader(trainset, batch_size=64, shuffle=True)"
      ]
    },
    {
      "cell_type": "code",
      "execution_count": null,
      "metadata": {
        "id": "2FLDAJVBtg3n"
      },
      "outputs": [],
      "source": [
        "testset = datasets.FashionMNIST(\n",
        "    root=\"data\",\n",
        "    train=False,\n",
        "    download=True,\n",
        "    transform=transform\n",
        ")"
      ]
    },
    {
      "cell_type": "code",
      "execution_count": null,
      "metadata": {
        "id": "aee4VMXNtn6H"
      },
      "outputs": [],
      "source": [
        "testset = DataLoader(testset, batch_size=64, shuffle=True)"
      ]
    },
    {
      "cell_type": "code",
      "execution_count": null,
      "metadata": {
        "id": "FnaSb_7ttpgE"
      },
      "outputs": [],
      "source": [
        "model = nn.Sequential(\n",
        "    nn.Flatten(),\n",
        "    nn.Linear(28*28, 256),\n",
        "    nn.ReLU(),\n",
        "    nn.Linear(256, 256),\n",
        "    nn.ReLU(),\n",
        "    nn.Linear(256, 256),\n",
        "    nn.ReLU(),\n",
        "    nn.Linear(256, 10)\n",
        ")\n",
        "model = model.to(device)\n",
        "loss = nn.CrossEntropyLoss()\n",
        "optimizer = torch.optim.Adam(model.parameters(), lr=0.01)"
      ]
    },
    {
      "cell_type": "code",
      "source": [
        "def initialize_weights(m):\n",
        "    if isinstance(m, nn.Linear):\n",
        "        nn.init.kaiming_normal_(m.weight, nonlinearity='relu')\n",
        "        if m.bias is not None:\n",
        "            nn.init.zeros_(m.bias)  # Khởi tạo bias thành 0\n",
        "\n",
        "# Áp dụng khởi tạo trọng số cho các lớp trong model\n",
        "model.apply(initialize_weights)"
      ],
      "metadata": {
        "colab": {
          "base_uri": "https://localhost:8080/"
        },
        "id": "Ewlne5DUqILS",
        "outputId": "9fc87f76-f7bd-43dd-f67c-3a6bf2afd3c7"
      },
      "execution_count": null,
      "outputs": [
        {
          "output_type": "execute_result",
          "data": {
            "text/plain": [
              "Sequential(\n",
              "  (0): Flatten(start_dim=1, end_dim=-1)\n",
              "  (1): Linear(in_features=784, out_features=256, bias=True)\n",
              "  (2): ReLU()\n",
              "  (3): Linear(in_features=256, out_features=256, bias=True)\n",
              "  (4): ReLU()\n",
              "  (5): Linear(in_features=256, out_features=256, bias=True)\n",
              "  (6): ReLU()\n",
              "  (7): Linear(in_features=256, out_features=10, bias=True)\n",
              ")"
            ]
          },
          "metadata": {},
          "execution_count": 10
        }
      ]
    },
    {
      "cell_type": "code",
      "execution_count": null,
      "metadata": {
        "id": "Azd6qA6vwAo7"
      },
      "outputs": [],
      "source": [
        "def evaluate(model, testset,loss):\n",
        "  model.eval()\n",
        "  correct = 0\n",
        "  total = 0\n",
        "  test_loss = 0.0\n",
        "  with torch.no_grad():\n",
        "    for input,label in testset:\n",
        "      input = input.to(device)\n",
        "      label = label.to(device)\n",
        "      output = model(input)\n",
        "      loss_value = loss(output,label)\n",
        "      _,predicted = torch.max(output.data,1)\n",
        "      correct += (predicted == label).sum().item()\n",
        "      total += label.size(0)\n",
        "      test_loss += loss_value.item()\n",
        "  test_loss = test_loss / len(testset)\n",
        "  test_acc = 100 * correct / total\n",
        "  return test_loss, test_acc"
      ]
    },
    {
      "cell_type": "code",
      "execution_count": null,
      "metadata": {
        "colab": {
          "base_uri": "https://localhost:8080/"
        },
        "id": "4axaulYouc0v",
        "outputId": "8d7d395c-356f-4b33-fc10-15bf05cbdbe5"
      },
      "outputs": [
        {
          "output_type": "stream",
          "name": "stdout",
          "text": [
            "Epoch[1/50], Loss: 0.6337, Accuracy: 79.1167%, Test Loss: 0.5219, Test Accuracy: 81.7800%\n",
            "Epoch[2/50], Loss: 0.4688, Accuracy: 83.4450%, Test Loss: 0.4991, Test Accuracy: 83.0300%\n",
            "Epoch[3/50], Loss: 0.4578, Accuracy: 83.9483%, Test Loss: 0.4993, Test Accuracy: 82.0100%\n",
            "Epoch[4/50], Loss: 0.4458, Accuracy: 84.4883%, Test Loss: 0.5024, Test Accuracy: 83.0200%\n",
            "Epoch[5/50], Loss: 0.4248, Accuracy: 85.1650%, Test Loss: 0.4674, Test Accuracy: 84.4700%\n",
            "Epoch[6/50], Loss: 0.4283, Accuracy: 85.3100%, Test Loss: 0.4763, Test Accuracy: 83.5600%\n",
            "Epoch[7/50], Loss: 0.4487, Accuracy: 84.8717%, Test Loss: 0.4679, Test Accuracy: 84.1600%\n",
            "Epoch[8/50], Loss: 0.4044, Accuracy: 85.7900%, Test Loss: 0.4613, Test Accuracy: 83.9800%\n",
            "Epoch[9/50], Loss: 0.3933, Accuracy: 86.3333%, Test Loss: 0.4712, Test Accuracy: 83.1100%\n",
            "Epoch[10/50], Loss: 0.3988, Accuracy: 86.0050%, Test Loss: 0.4388, Test Accuracy: 85.2600%\n",
            "Epoch[11/50], Loss: 0.4071, Accuracy: 86.0033%, Test Loss: 0.4633, Test Accuracy: 84.5600%\n",
            "Epoch[12/50], Loss: 0.4014, Accuracy: 86.2283%, Test Loss: 0.4783, Test Accuracy: 84.0000%\n",
            "Epoch[13/50], Loss: 0.3942, Accuracy: 86.4367%, Test Loss: 0.4619, Test Accuracy: 84.5600%\n",
            "Epoch[14/50], Loss: 0.4009, Accuracy: 86.3500%, Test Loss: 0.5536, Test Accuracy: 84.0100%\n",
            "Epoch[15/50], Loss: 0.4093, Accuracy: 86.4700%, Test Loss: 0.4767, Test Accuracy: 83.4700%\n",
            "Epoch[16/50], Loss: 0.3806, Accuracy: 86.8533%, Test Loss: 0.4597, Test Accuracy: 84.5900%\n",
            "Epoch[17/50], Loss: 0.3785, Accuracy: 86.9317%, Test Loss: 0.4580, Test Accuracy: 85.1600%\n",
            "Epoch[18/50], Loss: 0.3991, Accuracy: 86.6333%, Test Loss: 0.4372, Test Accuracy: 85.3200%\n",
            "Epoch[19/50], Loss: 0.3681, Accuracy: 87.2967%, Test Loss: 0.5105, Test Accuracy: 84.7800%\n",
            "Epoch[20/50], Loss: 0.3861, Accuracy: 86.8133%, Test Loss: 0.4585, Test Accuracy: 85.4100%\n",
            "Epoch[21/50], Loss: 0.3987, Accuracy: 86.5983%, Test Loss: 0.5075, Test Accuracy: 84.2600%\n",
            "Epoch[22/50], Loss: 0.4095, Accuracy: 86.5033%, Test Loss: 0.4640, Test Accuracy: 85.3500%\n",
            "Epoch[23/50], Loss: 0.3693, Accuracy: 87.3933%, Test Loss: 0.4603, Test Accuracy: 85.2900%\n",
            "Epoch[24/50], Loss: 0.3640, Accuracy: 87.5067%, Test Loss: 0.4886, Test Accuracy: 84.4000%\n",
            "Epoch[25/50], Loss: 0.3974, Accuracy: 86.6683%, Test Loss: 0.5139, Test Accuracy: 85.1900%\n",
            "Epoch[26/50], Loss: 0.3716, Accuracy: 87.3700%, Test Loss: 0.5016, Test Accuracy: 83.9800%\n",
            "Epoch[27/50], Loss: 0.3724, Accuracy: 87.2750%, Test Loss: 0.4667, Test Accuracy: 84.9800%\n",
            "Epoch[28/50], Loss: 0.3602, Accuracy: 87.6283%, Test Loss: 0.4587, Test Accuracy: 85.3800%\n",
            "Epoch[29/50], Loss: 0.3699, Accuracy: 87.3100%, Test Loss: 0.4635, Test Accuracy: 85.4200%\n",
            "Epoch[30/50], Loss: 0.3836, Accuracy: 87.1233%, Test Loss: 0.5037, Test Accuracy: 83.0800%\n",
            "Epoch[31/50], Loss: 0.3756, Accuracy: 87.2500%, Test Loss: 0.4927, Test Accuracy: 84.1900%\n",
            "Epoch[32/50], Loss: 0.3999, Accuracy: 87.1050%, Test Loss: 0.4387, Test Accuracy: 85.8700%\n",
            "Epoch[33/50], Loss: 0.3625, Accuracy: 87.6217%, Test Loss: 0.4685, Test Accuracy: 84.7700%\n",
            "Epoch[34/50], Loss: 0.3717, Accuracy: 87.3417%, Test Loss: 0.5226, Test Accuracy: 85.1700%\n",
            "Epoch[35/50], Loss: 0.3744, Accuracy: 87.3667%, Test Loss: 0.4479, Test Accuracy: 85.2500%\n",
            "Epoch[36/50], Loss: 0.3694, Accuracy: 87.5517%, Test Loss: 0.4643, Test Accuracy: 84.8100%\n",
            "Epoch[37/50], Loss: 0.3618, Accuracy: 87.8917%, Test Loss: 0.4587, Test Accuracy: 85.4800%\n",
            "Epoch[38/50], Loss: 0.3537, Accuracy: 87.7317%, Test Loss: 0.4761, Test Accuracy: 84.9300%\n",
            "Epoch[39/50], Loss: 0.3803, Accuracy: 87.1300%, Test Loss: 0.4686, Test Accuracy: 85.6800%\n",
            "Epoch[40/50], Loss: 0.3721, Accuracy: 87.4217%, Test Loss: 0.4707, Test Accuracy: 84.8200%\n",
            "Epoch[41/50], Loss: 0.3569, Accuracy: 87.9650%, Test Loss: 0.4681, Test Accuracy: 84.7300%\n",
            "Epoch[42/50], Loss: 0.3720, Accuracy: 87.4800%, Test Loss: 0.5022, Test Accuracy: 84.2500%\n",
            "Epoch[43/50], Loss: 0.3813, Accuracy: 87.3000%, Test Loss: 0.5249, Test Accuracy: 84.7800%\n",
            "Epoch[44/50], Loss: 0.3481, Accuracy: 88.0883%, Test Loss: 0.4401, Test Accuracy: 85.7100%\n",
            "Epoch[45/50], Loss: 0.3545, Accuracy: 87.9050%, Test Loss: 0.5187, Test Accuracy: 84.3200%\n",
            "Epoch[46/50], Loss: 0.3553, Accuracy: 87.8600%, Test Loss: 0.4608, Test Accuracy: 85.4800%\n",
            "Epoch[47/50], Loss: 0.3934, Accuracy: 87.1067%, Test Loss: 0.4759, Test Accuracy: 85.1700%\n",
            "Epoch[48/50], Loss: 0.3434, Accuracy: 88.2500%, Test Loss: 0.4692, Test Accuracy: 85.3900%\n",
            "Epoch[49/50], Loss: 0.3572, Accuracy: 87.6483%, Test Loss: 0.5768, Test Accuracy: 83.3400%\n",
            "Epoch[50/50], Loss: 0.3771, Accuracy: 87.2833%, Test Loss: 0.4917, Test Accuracy: 85.7100%\n"
          ]
        }
      ],
      "source": [
        "max_epoch = 50\n",
        "for epoch in range(max_epoch):\n",
        "  correct = 0\n",
        "  total = 0\n",
        "  running_loss = 0.0\n",
        "  for i, (input,label) in enumerate(trainset,0):\n",
        "    input = input.to(device)\n",
        "    label = label.to(device)\n",
        "    optimizer.zero_grad()\n",
        "    output = model(input)\n",
        "    loss_value = loss(output,label)\n",
        "    loss_value.backward()\n",
        "    optimizer.step()\n",
        "\n",
        "    _,predicted = torch.max(output.data,1)\n",
        "    # print(\"torch.max(output.data,1)\", torch.max(output.data,1))\n",
        "    total += label.size(0)\n",
        "    correct += (predicted == label).sum().item()\n",
        "    # print(\"label.size(0)\",label.size(0))\n",
        "\n",
        "    running_loss += loss_value.item()\n",
        "\n",
        "\n",
        "  epoch_acc = 100 * correct / total\n",
        "  running_loss = running_loss / (i+1)\n",
        "  test_loss, test_acc = evaluate(model, testset,loss)\n",
        "  print(f\"Epoch[{epoch+1}/{max_epoch}], Loss: {running_loss:.4f}, Accuracy: {epoch_acc:.4f}%, Test Loss: {test_loss:.4f}, Test Accuracy: {test_acc:.4f}%\")\n"
      ]
    }
  ],
  "metadata": {
    "accelerator": "GPU",
    "colab": {
      "gpuType": "T4",
      "provenance": []
    },
    "kernelspec": {
      "display_name": "Python 3",
      "name": "python3"
    },
    "language_info": {
      "name": "python"
    }
  },
  "nbformat": 4,
  "nbformat_minor": 0
}