{
  "nbformat": 4,
  "nbformat_minor": 0,
  "metadata": {
    "colab": {
      "provenance": []
    },
    "kernelspec": {
      "name": "python3",
      "display_name": "Python 3"
    },
    "language_info": {
      "name": "python"
    }
  },
  "cells": [
    {
      "cell_type": "code",
      "execution_count": null,
      "metadata": {
        "colab": {
          "base_uri": "https://localhost:8080/"
        },
        "id": "qmKCzftuoM_D",
        "outputId": "b10d2fca-7a0c-4cf9-ef06-4a0a59d433cb"
      },
      "outputs": [
        {
          "output_type": "stream",
          "name": "stdout",
          "text": [
            "Cloning into 'small_dog_cat_dataset'...\n",
            "remote: Enumerating objects: 2608, done.\u001b[K\n",
            "remote: Total 2608 (delta 0), reused 0 (delta 0), pack-reused 2608 (from 1)\u001b[K\n",
            "Receiving objects: 100% (2608/2608), 55.84 MiB | 19.31 MiB/s, done.\n",
            "Resolving deltas: 100% (1/1), done.\n"
          ]
        }
      ],
      "source": [
        "!git clone https://github.com/anminhhung/small_dog_cat_dataset"
      ]
    },
    {
      "cell_type": "code",
      "source": [
        "import glob\n",
        "import os\n",
        "import cv2\n",
        "import numpy as np\n",
        "from skimage.feature import hog\n",
        "\n",
        "from sklearn.linear_model import LogisticRegression\n",
        "from sklearn.metrics import accuracy_score, confusion_matrix"
      ],
      "metadata": {
        "id": "wMmY4v58oaVh"
      },
      "execution_count": null,
      "outputs": []
    },
    {
      "cell_type": "code",
      "source": [
        "import itertools\n",
        "import matplotlib.pyplot as plt\n",
        "def plot_confusion_matrix(cm, classes,\n",
        "                          normalize=False,\n",
        "                          title='Confusion matrix',\n",
        "                          cmap=plt.cm.Blues):\n",
        "   plt.imshow(cm, interpolation='nearest', cmap=cmap)\n",
        "   plt.title(title)\n",
        "   plt.colorbar()\n",
        "   tick_marks = np.arange(len(classes))\n",
        "   plt.xticks(tick_marks, classes, rotation=45)\n",
        "   plt.yticks(tick_marks, classes)\n",
        "\n",
        "   fmt = 'd'\n",
        "   thresh = cm.max() / 2\n",
        "   for i, j in itertools.product(range(cm.shape[0]), range(cm.shape[1])):\n",
        "      plt.text(j, i, format(cm[i, j], fmt),\n",
        "               horizontalalignment=\"center\",\n",
        "               color=\"white\" if cm[i, j] > thresh else \"black\")\n",
        "   plt.tight_layout()\n",
        "   plt.ylabel('True label')\n",
        "   plt.xlabel('Predicted label')\n"
      ],
      "metadata": {
        "id": "Kqb2dlLhowJV"
      },
      "execution_count": null,
      "outputs": []
    },
    {
      "cell_type": "markdown",
      "source": [
        "Đọc file"
      ],
      "metadata": {
        "id": "PMY_HXUNp-Ft"
      }
    },
    {
      "cell_type": "code",
      "source": [
        "def read_file(path,target_size=(64,64)):\n",
        "  datas = []\n",
        "  labels = []\n",
        "\n",
        "  for category in os.listdir(path):\n",
        "    category_dir = os.path.join(path,category)\n",
        "    for image_name in os.listdir(category_dir):\n",
        "      image_path = os.path.join(category_dir,image_name)\n",
        "      image = cv2.imread(image_path)\n",
        "      image = cv2.resize(image,target_size)\n",
        "      datas.append(image)\n",
        "      labels.append(category)\n",
        "  return np.array(datas),np.array(labels)"
      ],
      "metadata": {
        "id": "zvptlTbcpKYN"
      },
      "execution_count": null,
      "outputs": []
    },
    {
      "cell_type": "code",
      "source": [
        "train_dir = 'small_dog_cat_dataset/train'\n",
        "test_dir = 'small_dog_cat_dataset/test'\n",
        "target_size = (64,64)\n",
        "\n",
        "train_datas,train_labels = read_file(train_dir,target_size)\n",
        "test_datas,test_labels = read_file(test_dir,target_size)"
      ],
      "metadata": {
        "id": "eyzJ_TQzpv8X"
      },
      "execution_count": null,
      "outputs": []
    },
    {
      "cell_type": "markdown",
      "source": [
        "Feature Extraction"
      ],
      "metadata": {
        "id": "tuIBS0oyqBDg"
      }
    },
    {
      "cell_type": "code",
      "source": [
        "def hog_feature(data):\n",
        "  hog_gray_features = []\n",
        "\n",
        "  for image in data:\n",
        "    gray_image = cv2.cvtColor(image, cv2.COLOR_RGB2GRAY)\n",
        "    hog_features,_ = hog(gray_image, visualize=True,\n",
        "                         block_norm= 'L2-Hys',\n",
        "                         pixels_per_cell=(16, 16),\n",
        "                         cells_per_block=(2, 2),\n",
        "                         )\n",
        "    hog_gray_features.append(hog_features)\n",
        "  return np.array(hog_gray_features)"
      ],
      "metadata": {
        "id": "XjbvCDHAqDyq"
      },
      "execution_count": null,
      "outputs": []
    },
    {
      "cell_type": "code",
      "source": [
        "train_data = hog_feature(train_datas)\n",
        "test_data = hog_feature(test_datas)"
      ],
      "metadata": {
        "id": "eI_hC95Fqq1f"
      },
      "execution_count": null,
      "outputs": []
    },
    {
      "cell_type": "code",
      "source": [
        "from sklearn.model_selection import train_test_split\n",
        "X_train,X_val,y_train,y_val = train_test_split(train_data,train_labels,test_size=0.4)"
      ],
      "metadata": {
        "id": "4goMrhXnquSo"
      },
      "execution_count": null,
      "outputs": []
    },
    {
      "cell_type": "code",
      "source": [
        "clf = LogisticRegression()\n",
        "clf.fit(X_train,y_train)\n",
        "y_val_pred = clf.predict(X_val)\n",
        "print('acc for val data: ', accuracy_score(y_val_pred,y_val))\n",
        "y_pred = clf.predict(test_data)\n",
        "print('acc for test data: ', accuracy_score(y_pred,test_labels))"
      ],
      "metadata": {
        "colab": {
          "base_uri": "https://localhost:8080/"
        },
        "id": "6TQOlyiwrIhh",
        "outputId": "71b15210-fd23-4012-a712-9769337e1b4f"
      },
      "execution_count": null,
      "outputs": [
        {
          "output_type": "stream",
          "name": "stdout",
          "text": [
            "acc for val data:  0.72375\n",
            "acc for test data:  0.7183333333333334\n"
          ]
        }
      ]
    },
    {
      "cell_type": "code",
      "source": [
        "X_train,X_val,y_train,y_val = train_test_split(train_data,train_labels,test_size=0.3)\n",
        "clf = LogisticRegression()\n",
        "clf.fit(X_train,y_train)\n",
        "y_val_pred = clf.predict(X_val)\n",
        "print('acc for val data: ', accuracy_score(y_val_pred,y_val))\n",
        "y_pred = clf.predict(test_data)\n",
        "print('acc for test data: ', accuracy_score(y_pred,test_labels))"
      ],
      "metadata": {
        "colab": {
          "base_uri": "https://localhost:8080/"
        },
        "id": "piHsLRa_rku2",
        "outputId": "95c95d38-1b29-4cdc-e074-d6241e2a31ff"
      },
      "execution_count": null,
      "outputs": [
        {
          "output_type": "stream",
          "name": "stdout",
          "text": [
            "acc for val data:  0.725\n",
            "acc for test data:  0.7183333333333334\n"
          ]
        }
      ]
    },
    {
      "cell_type": "code",
      "source": [
        "X_train,X_val,y_train,y_val = train_test_split(train_data,train_labels,test_size=0.2)\n",
        "clf = LogisticRegression()\n",
        "clf.fit(X_train,y_train)\n",
        "y_val_pred = clf.predict(X_val)\n",
        "print('acc for val data: ', accuracy_score(y_val_pred,y_val))\n",
        "y_pred = clf.predict(test_data)\n",
        "print('acc for test data: ', accuracy_score(y_pred,test_labels))"
      ],
      "metadata": {
        "colab": {
          "base_uri": "https://localhost:8080/"
        },
        "id": "2bQGJJmEr3Ec",
        "outputId": "8d8fbbed-6ae4-46c7-b576-26ce17fa1a6b"
      },
      "execution_count": null,
      "outputs": [
        {
          "output_type": "stream",
          "name": "stdout",
          "text": [
            "acc for val data:  0.69\n",
            "acc for test data:  0.705\n"
          ]
        }
      ]
    },
    {
      "cell_type": "markdown",
      "source": [
        "K-Fold validation"
      ],
      "metadata": {
        "id": "PWt8UTENsJMt"
      }
    },
    {
      "cell_type": "code",
      "source": [
        "from sklearn.model_selection import KFold\n",
        "kf = KFold(n_splits=5)"
      ],
      "metadata": {
        "id": "aGINgb_lr93E"
      },
      "execution_count": null,
      "outputs": []
    },
    {
      "cell_type": "code",
      "source": [
        "best_model = None\n",
        "best_test_acc = 0\n",
        "for i, (train_index, val_index) in enumerate(kf.split(train_data)):\n",
        "  X_train = []\n",
        "  X_val = []\n",
        "  y_train = []\n",
        "  y_val = []\n",
        "\n",
        "  for index in train_index:\n",
        "    X_train.append(train_data[index])\n",
        "    y_train.append(train_labels[index])\n",
        "\n",
        "  for index in val_index:\n",
        "    X_val.append(train_data[index])\n",
        "    y_val.append(train_labels[index])\n",
        "\n",
        "  clf = LogisticRegression()\n",
        "  clf.fit(X_train,y_train)\n",
        "\n",
        "  y_val_pred = clf.predict(X_val)\n",
        "  val_acc = accuracy_score(y_val_pred,y_val)\n",
        "  print('[Fold: {}] - acc for val data: {}'.format(i,val_acc))\n",
        "\n",
        "  y_pred = clf.predict(test_data)\n",
        "  test_acc = accuracy_score(y_pred,test_labels)\n",
        "  print('[Fold: {}] - acc for test data: {}'.format(i,test_acc))\n",
        "  print()\n",
        "\n",
        "  if test_acc > best_test_acc:\n",
        "    best_test_acc = test_acc\n",
        "    best_model = clf\n"
      ],
      "metadata": {
        "colab": {
          "base_uri": "https://localhost:8080/"
        },
        "id": "_i_00TZmsMzb",
        "outputId": "93c6f0b9-a3d1-4be2-ddc1-78cba88c4c62"
      },
      "execution_count": null,
      "outputs": [
        {
          "output_type": "stream",
          "name": "stdout",
          "text": [
            "[Fold: 0] - acc for val data: 0.5425\n",
            "[Fold: 0] - acc for test data: 0.6933333333333334\n",
            "\n",
            "[Fold: 1] - acc for val data: 0.545\n",
            "[Fold: 1] - acc for test data: 0.6933333333333334\n",
            "\n",
            "[Fold: 2] - acc for val data: 0.725\n",
            "[Fold: 2] - acc for test data: 0.7083333333333334\n",
            "\n",
            "[Fold: 3] - acc for val data: 0.5625\n",
            "[Fold: 3] - acc for test data: 0.7183333333333334\n",
            "\n",
            "[Fold: 4] - acc for val data: 0.52\n",
            "[Fold: 4] - acc for test data: 0.6983333333333334\n",
            "\n"
          ]
        }
      ]
    }
  ]
}