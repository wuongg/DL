{
  "nbformat": 4,
  "nbformat_minor": 0,
  "metadata": {
    "colab": {
      "provenance": []
    },
    "kernelspec": {
      "name": "python3",
      "display_name": "Python 3"
    },
    "language_info": {
      "name": "python"
    }
  },
  "cells": [
    {
      "cell_type": "code",
      "execution_count": null,
      "metadata": {
        "id": "E5kJK6Chw_YT"
      },
      "outputs": [],
      "source": [
        "from sklearn.datasets import load_iris\n",
        "from sklearn.model_selection import train_test_split"
      ]
    },
    {
      "cell_type": "code",
      "source": [
        "data = load_iris()\n",
        "X_train, X_test, Y_train, Y_test = train_test_split(data.data, data.target, test_size=0.4, random_state=42)"
      ],
      "metadata": {
        "id": "Yz4gL-xPxPYk"
      },
      "execution_count": null,
      "outputs": []
    },
    {
      "cell_type": "code",
      "source": [
        "X_val,X_test,Y_val,Y_test = train_test_split(X_test,Y_test,test_size=0.5,random_state=42)"
      ],
      "metadata": {
        "id": "OMgta3NOxZpP"
      },
      "execution_count": null,
      "outputs": []
    },
    {
      "cell_type": "code",
      "source": [
        "from sklearn.preprocessing import StandardScaler\n",
        "scaler = StandardScaler()\n",
        "X_train = scaler.fit_transform(X_train)\n",
        "X_val = scaler.transform(X_val)\n",
        "X_test = scaler.transform(X_test)"
      ],
      "metadata": {
        "id": "SASdal-lxrYz"
      },
      "execution_count": null,
      "outputs": []
    },
    {
      "cell_type": "code",
      "source": [
        "import torch"
      ],
      "metadata": {
        "id": "uxgN-lo2xhdV"
      },
      "execution_count": null,
      "outputs": []
    },
    {
      "cell_type": "code",
      "source": [
        "device = torch.device(\"cuda\" if torch.cuda.is_available() else \"cpu\")"
      ],
      "metadata": {
        "id": "JcBFH6X_yXAb"
      },
      "execution_count": null,
      "outputs": []
    },
    {
      "cell_type": "code",
      "source": [
        "from re import X\n",
        "X_train = torch.tensor(X_train,dtype=torch.float32)\n",
        "X_val = torch.tensor(X_val,dtype=torch.float32)\n",
        "X_test = torch.tensor(X_test,dtype=torch.float32)\n",
        "Y_train = torch.tensor(Y_train)\n",
        "Y_val = torch.tensor(Y_val)\n",
        "Y_test = torch.tensor(Y_test)\n",
        "X_train = X_train.to(device)\n",
        "X_val = X_val.to(device)\n",
        "X_test = X_test.to(device)\n",
        "Y_train = Y_train.to(device)\n",
        "Y_val = Y_val.to(device)\n",
        "Y_test = Y_test.to(device)"
      ],
      "metadata": {
        "id": "Fq-mimx6x0Fy"
      },
      "execution_count": null,
      "outputs": []
    },
    {
      "cell_type": "code",
      "source": [
        "model = torch.nn.Sequential(\n",
        "    torch.nn.Linear(4,8),\n",
        "    torch.nn.ReLU(),\n",
        "    torch.nn.Linear(8,3)\n",
        ")\n",
        "model = model.to(device)\n",
        "loss = torch.nn.CrossEntropyLoss()\n",
        "optimizer = torch.optim.SGD(model.parameters(),lr=0.001,momentum=0.9,nesterov=True)"
      ],
      "metadata": {
        "id": "1_Q3JnWVxlsn"
      },
      "execution_count": null,
      "outputs": []
    },
    {
      "cell_type": "code",
      "source": [
        "def evaluate(model, X_val,Y_val):\n",
        "  model.eval()\n",
        "  with torch.no_grad():\n",
        "    Y_pred = model(X_val)\n",
        "  Y_pred = torch.argmax(Y_pred,dim=1)\n",
        "  return sum(Y_pred == Y_val)/len(Y_val)"
      ],
      "metadata": {
        "id": "_In_5HynyQFn"
      },
      "execution_count": null,
      "outputs": []
    },
    {
      "cell_type": "code",
      "source": [
        "max_epoch = 20\n",
        "losses = []\n",
        "for epoch in range(max_epoch):\n",
        "  epoch_loss = []\n",
        "  for x_train,y_train in zip(X_train,Y_train):\n",
        "    x_train = x_train.to(device)\n",
        "    y_train = y_train.to(device)\n",
        "    optimizer.zero_grad()\n",
        "    y_pred = model(x_train)\n",
        "    loss_value = loss(y_pred,y_train)\n",
        "    epoch_loss.append(loss_value.item())\n",
        "    loss_value.backward()\n",
        "    optimizer.step()\n",
        "  avg_loss = sum(epoch_loss)/len(epoch_loss)\n",
        "  losses.append(avg_loss)\n",
        "  acc = evaluate(model,X_val,Y_val)\n",
        "  print(f\"Epoch[{epoch+1}/{max_epoch}], avg_loss : {avg_loss}, Accuracy_val: {acc}\")\n"
      ],
      "metadata": {
        "colab": {
          "base_uri": "https://localhost:8080/"
        },
        "id": "tGMreLeBySMU",
        "outputId": "f75a5328-c721-4c61-c41c-5cf4e42f6447"
      },
      "execution_count": null,
      "outputs": [
        {
          "output_type": "stream",
          "name": "stdout",
          "text": [
            "Epoch[1/20], avg_loss : 0.9530070904228423, Accuracy_val: 0.7333333492279053\n",
            "Epoch[2/20], avg_loss : 0.7966556992795732, Accuracy_val: 0.8999999761581421\n",
            "Epoch[3/20], avg_loss : 0.6513505245248477, Accuracy_val: 0.8999999761581421\n",
            "Epoch[4/20], avg_loss : 0.5490545935928821, Accuracy_val: 0.8999999761581421\n",
            "Epoch[5/20], avg_loss : 0.480857868740956, Accuracy_val: 0.8999999761581421\n",
            "Epoch[6/20], avg_loss : 0.43278979224463304, Accuracy_val: 0.8999999761581421\n",
            "Epoch[7/20], avg_loss : 0.3959939008992579, Accuracy_val: 0.8999999761581421\n",
            "Epoch[8/20], avg_loss : 0.3656586279678676, Accuracy_val: 0.8999999761581421\n",
            "Epoch[9/20], avg_loss : 0.34042264671685796, Accuracy_val: 0.8999999761581421\n",
            "Epoch[10/20], avg_loss : 0.3190467454958707, Accuracy_val: 0.8999999761581421\n",
            "Epoch[11/20], avg_loss : 0.30010900797529355, Accuracy_val: 0.8999999761581421\n",
            "Epoch[12/20], avg_loss : 0.28290898816711785, Accuracy_val: 0.9333333373069763\n",
            "Epoch[13/20], avg_loss : 0.26731558586988186, Accuracy_val: 0.9333333373069763\n",
            "Epoch[14/20], avg_loss : 0.25290176723307617, Accuracy_val: 0.9333333373069763\n",
            "Epoch[15/20], avg_loss : 0.23951639357902524, Accuracy_val: 0.9333333373069763\n",
            "Epoch[16/20], avg_loss : 0.22687467894542757, Accuracy_val: 0.9666666388511658\n",
            "Epoch[17/20], avg_loss : 0.21526777294930072, Accuracy_val: 1.0\n",
            "Epoch[18/20], avg_loss : 0.204502234985638, Accuracy_val: 1.0\n",
            "Epoch[19/20], avg_loss : 0.19440243042384583, Accuracy_val: 1.0\n",
            "Epoch[20/20], avg_loss : 0.18514225790794525, Accuracy_val: 1.0\n"
          ]
        }
      ]
    },
    {
      "cell_type": "code",
      "source": [
        "model.eval()\n",
        "with torch.no_grad():\n",
        "  Y_pred = model(X_test)\n",
        "Y_pred = torch.argmax(Y_pred,dim=1)\n",
        "print(sum(Y_pred == Y_test)/len(Y_test))"
      ],
      "metadata": {
        "colab": {
          "base_uri": "https://localhost:8080/"
        },
        "id": "2HPU2vgc3XGP",
        "outputId": "382806d0-c584-41c7-fca2-1d9a80f431bb"
      },
      "execution_count": null,
      "outputs": [
        {
          "output_type": "stream",
          "name": "stdout",
          "text": [
            "tensor(0.9667)\n"
          ]
        }
      ]
    }
  ]
}