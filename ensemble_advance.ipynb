{
  "nbformat": 4,
  "nbformat_minor": 0,
  "metadata": {
    "colab": {
      "provenance": [],
      "gpuType": "T4"
    },
    "kernelspec": {
      "name": "python3",
      "display_name": "Python 3"
    },
    "language_info": {
      "name": "python"
    },
    "accelerator": "GPU"
  },
  "cells": [
    {
      "cell_type": "code",
      "execution_count": null,
      "metadata": {
        "colab": {
          "base_uri": "https://localhost:8080/"
        },
        "id": "9NL17ow4xr5E",
        "outputId": "b1d33c4b-6db9-492e-dc9a-2906e0ff1a07"
      },
      "outputs": [
        {
          "output_type": "stream",
          "name": "stdout",
          "text": [
            "fatal: destination path 'small_dog_cat_dataset' already exists and is not an empty directory.\n"
          ]
        }
      ],
      "source": [
        "!git clone https://github.com/anminhhung/small_dog_cat_dataset"
      ]
    },
    {
      "cell_type": "code",
      "source": [
        "!pip install timm"
      ],
      "metadata": {
        "colab": {
          "base_uri": "https://localhost:8080/"
        },
        "id": "rna0drRHx4eQ",
        "outputId": "85d06e56-7a8b-44e4-fbd4-26687fdbf064"
      },
      "execution_count": null,
      "outputs": [
        {
          "output_type": "stream",
          "name": "stdout",
          "text": [
            "Requirement already satisfied: timm in /usr/local/lib/python3.10/dist-packages (1.0.10)\n",
            "Requirement already satisfied: torch in /usr/local/lib/python3.10/dist-packages (from timm) (2.4.1+cu121)\n",
            "Requirement already satisfied: torchvision in /usr/local/lib/python3.10/dist-packages (from timm) (0.19.1+cu121)\n",
            "Requirement already satisfied: pyyaml in /usr/local/lib/python3.10/dist-packages (from timm) (6.0.2)\n",
            "Requirement already satisfied: huggingface_hub in /usr/local/lib/python3.10/dist-packages (from timm) (0.24.7)\n",
            "Requirement already satisfied: safetensors in /usr/local/lib/python3.10/dist-packages (from timm) (0.4.5)\n",
            "Requirement already satisfied: filelock in /usr/local/lib/python3.10/dist-packages (from huggingface_hub->timm) (3.16.1)\n",
            "Requirement already satisfied: fsspec>=2023.5.0 in /usr/local/lib/python3.10/dist-packages (from huggingface_hub->timm) (2024.6.1)\n",
            "Requirement already satisfied: packaging>=20.9 in /usr/local/lib/python3.10/dist-packages (from huggingface_hub->timm) (24.1)\n",
            "Requirement already satisfied: requests in /usr/local/lib/python3.10/dist-packages (from huggingface_hub->timm) (2.32.3)\n",
            "Requirement already satisfied: tqdm>=4.42.1 in /usr/local/lib/python3.10/dist-packages (from huggingface_hub->timm) (4.66.5)\n",
            "Requirement already satisfied: typing-extensions>=3.7.4.3 in /usr/local/lib/python3.10/dist-packages (from huggingface_hub->timm) (4.12.2)\n",
            "Requirement already satisfied: sympy in /usr/local/lib/python3.10/dist-packages (from torch->timm) (1.13.3)\n",
            "Requirement already satisfied: networkx in /usr/local/lib/python3.10/dist-packages (from torch->timm) (3.4)\n",
            "Requirement already satisfied: jinja2 in /usr/local/lib/python3.10/dist-packages (from torch->timm) (3.1.4)\n",
            "Requirement already satisfied: numpy in /usr/local/lib/python3.10/dist-packages (from torchvision->timm) (1.26.4)\n",
            "Requirement already satisfied: pillow!=8.3.*,>=5.3.0 in /usr/local/lib/python3.10/dist-packages (from torchvision->timm) (10.4.0)\n",
            "Requirement already satisfied: MarkupSafe>=2.0 in /usr/local/lib/python3.10/dist-packages (from jinja2->torch->timm) (3.0.1)\n",
            "Requirement already satisfied: charset-normalizer<4,>=2 in /usr/local/lib/python3.10/dist-packages (from requests->huggingface_hub->timm) (3.4.0)\n",
            "Requirement already satisfied: idna<4,>=2.5 in /usr/local/lib/python3.10/dist-packages (from requests->huggingface_hub->timm) (3.10)\n",
            "Requirement already satisfied: urllib3<3,>=1.21.1 in /usr/local/lib/python3.10/dist-packages (from requests->huggingface_hub->timm) (2.2.3)\n",
            "Requirement already satisfied: certifi>=2017.4.17 in /usr/local/lib/python3.10/dist-packages (from requests->huggingface_hub->timm) (2024.8.30)\n",
            "Requirement already satisfied: mpmath<1.4,>=1.1.0 in /usr/local/lib/python3.10/dist-packages (from sympy->torch->timm) (1.3.0)\n"
          ]
        }
      ]
    },
    {
      "cell_type": "code",
      "source": [
        "import math\n",
        "import torch\n",
        "from torch.nn import init\n",
        "import torch.nn as nn\n",
        "import torch.nn.functional as F\n",
        "import timm\n",
        "import matplotlib.pyplot as plt\n",
        "import numpy as np"
      ],
      "metadata": {
        "id": "Kg-pRhQTx8Fu"
      },
      "execution_count": null,
      "outputs": []
    },
    {
      "cell_type": "code",
      "source": [
        "'''\n",
        "  Function for computing the accuracy of the predictions over the entire data loader\n",
        "'''\n",
        "def get_accuracy(model, data_loader, device):\n",
        "  correct = 0\n",
        "  total = 0\n",
        "  model.eval()\n",
        "  with torch.no_grad():\n",
        "    for images, labels in data_loader:\n",
        "      images, labels = images.to(device), labels.to(device)\n",
        "      outputs = model(images)\n",
        "      _, predicted = torch.max(outputs.data, 1)\n",
        "      total += labels.size(0)\n",
        "      correct += (predicted == labels).sum().item()\n",
        "  return 100 * correct / total"
      ],
      "metadata": {
        "id": "kDTluoELyNQw"
      },
      "execution_count": null,
      "outputs": []
    },
    {
      "cell_type": "code",
      "source": [
        "'''\n",
        "  Function for plotting trainning and validation losses\n",
        "'''\n",
        "def plot_losses(train_acc,valid_acc,train_loss,valid_loss):\n",
        "  plt.style.use('seaborn')\n",
        "\n",
        "  train_acc = np.array(train_acc)\n",
        "  valid_acc = np.array(valid_acc)\n",
        "\n",
        "  fig, (ax1,ax2) = plt.subplots(1,2)\n",
        "  ax1.plot(train_acc,color='blue',label='train_acc')\n",
        "  ax1.plot(valid_acc,color='red',label='valid_acc')\n",
        "  ax1.set(title='Acc over epochs',\n",
        "          xlabel='epochs',\n",
        "          ylabel='acc')\n",
        "  ax1.legend()\n",
        "\n",
        "  ax2.plot(train_loss,color='blue',label='train_loss')\n",
        "  ax2.plot(valid_loss,color='red',label='valid_loss')\n",
        "  ax2.set(title='Loss over epochs',\n",
        "          xlabel='epochs',\n",
        "          ylabel='loss')\n",
        "  ax2.legend()\n",
        "  fig.show()\n",
        "  plt.style.use('default')"
      ],
      "metadata": {
        "id": "IUWE9sP0y3Mz"
      },
      "execution_count": null,
      "outputs": []
    },
    {
      "cell_type": "code",
      "source": [
        "'''\n",
        "  fuction for the training step of the training loop\n",
        "'''\n",
        "def train(train_loader, model, criterion, optimizer, device):\n",
        "  model.train()\n",
        "  running_loss = 0.0\n",
        "\n",
        "  for images, labels in train_loader:\n",
        "    images, labels = images.to(device), labels.to(device)\n",
        "\n",
        "    optimizer.zero_grad()\n",
        "    outputs = model(images)\n",
        "\n",
        "    loss = criterion(outputs, labels)\n",
        "    running_loss += loss.item()\n",
        "\n",
        "    loss.backward()\n",
        "    optimizer.step()\n",
        "\n",
        "  epoch_loss = running_loss / len(train_loader.dataset)\n",
        "  return model, optimizer, epoch_loss"
      ],
      "metadata": {
        "id": "oFPE0Ukcz-b9"
      },
      "execution_count": null,
      "outputs": []
    },
    {
      "cell_type": "code",
      "source": [
        "'''\n",
        "  fuction for the validation step of the training loop\n",
        "'''\n",
        "def validate(valid_loader, model, criterion, device):\n",
        "  model.eval()\n",
        "  running_loss = 0.\n",
        "\n",
        "  with torch.no_grad():\n",
        "    for images, labels in valid_loader:\n",
        "      images, labels = images.to(device), labels.to(device)\n",
        "      outputs = model(images)\n",
        "      loss = criterion(outputs, labels)\n",
        "      running_loss += loss.item()\n",
        "\n",
        "  epoch_loss = running_loss / len(valid_loader.dataset)\n",
        "  return model, epoch_loss"
      ],
      "metadata": {
        "id": "rhfb7Qvl0Z_Q"
      },
      "execution_count": null,
      "outputs": []
    },
    {
      "cell_type": "code",
      "source": [
        "'''\n",
        "  function defining the training loop\n",
        "'''\n",
        "def training_loop(model, criterion, optimizer, train_loader, valid_loader, epochs, device, print_every=1):\n",
        "  best_loss = 1e10\n",
        "  train_losses = []\n",
        "  valid_losses = []\n",
        "  list_train_acc = []\n",
        "  list_valid_acc = []\n",
        "\n",
        "  for epoch in range(0, epochs):\n",
        "    model, optimizer, train_loss = train(train_loader, model, criterion, optimizer, device)\n",
        "\n",
        "    model, valid_loss = validate(valid_loader, model, criterion, device)\n",
        "\n",
        "    if epoch % print_every == (print_every - 1):\n",
        "      train_acc = get_accuracy(model, train_loader, device=device)\n",
        "      valid_acc = get_accuracy(model, valid_loader, device=device)\n",
        "\n",
        "      print('Epoch: {}/{}.. '.format(epoch+1, epochs),\n",
        "            'Training Loss: {:.3f}.. '.format(train_loss),\n",
        "            'Training Acc: {:.3f}.. '.format(train_acc),\n",
        "            'Valid Loss: {:.3f}.. '.format(valid_loss),\n",
        "            'Valid Acc: {:.3f}'.format(valid_acc))\n",
        "      list_train_acc.append(train_acc)\n",
        "      list_valid_acc.append(valid_acc)\n",
        "      train_losses.append(train_loss)\n",
        "      valid_losses.append(valid_loss)\n",
        "  plot_losses(list_train_acc,list_valid_acc,train_losses,valid_losses)\n",
        "  return model, optimizer, (train_losses, valid_losses)"
      ],
      "metadata": {
        "id": "o5zWZk6a08s1"
      },
      "execution_count": null,
      "outputs": []
    },
    {
      "cell_type": "code",
      "source": [
        "import os\n",
        "import cv2\n",
        "from torch.utils.data import DataLoader, Dataset\n",
        "import albumentations\n",
        "\n",
        "class DogCatDataset(Dataset):\n",
        "  def __init__(self, root_dir, transform=None):\n",
        "    self.list_images_path = []\n",
        "    self.list_labels = []\n",
        "    self.one_hot_labels = {'dogs':1,'cats':0}\n",
        "    for sub_dir in os.listdir(root_dir):\n",
        "      path_sub_dir = os.path.join(root_dir,sub_dir)\n",
        "      for image_name in os.listdir(path_sub_dir):\n",
        "        image_path = os.path.join(path_sub_dir,image_name)\n",
        "        label = sub_dir\n",
        "        self.list_images_path.append(image_path)\n",
        "        self.list_labels.append(label)\n",
        "    self.transform = transform\n",
        "\n",
        "  def __len__(self):\n",
        "    return len(self.list_images_path)\n",
        "\n",
        "  def __getitem__(self, idx):\n",
        "    image = cv2.imread(self.list_images_path[idx])\n",
        "    image = cv2.cvtColor(image, cv2.COLOR_BGR2RGB)\n",
        "    image = cv2.resize(image, (224,224))\n",
        "    label = np.array(self.one_hot_labels[self.list_labels[idx]])\n",
        "\n",
        "    if self.transform:\n",
        "      res = self.transform(image=image)\n",
        "      image = res['image'].astype(np.float32)\n",
        "    else:\n",
        "      image = image.astype(np.float32)\n",
        "\n",
        "    image = image.transpose(2,0,1)\n",
        "    sample = (image,label)\n",
        "    return sample\n"
      ],
      "metadata": {
        "colab": {
          "base_uri": "https://localhost:8080/"
        },
        "id": "dKlNzLZY18N2",
        "outputId": "fe12c415-f22d-48b5-e843-3f17ea790a15"
      },
      "execution_count": null,
      "outputs": [
        {
          "output_type": "stream",
          "name": "stderr",
          "text": [
            "/usr/local/lib/python3.10/dist-packages/albumentations/__init__.py:13: UserWarning: A new version of Albumentations is available: 1.4.18 (you have 1.4.15). Upgrade using: pip install -U albumentations. To disable automatic update checks, set the environment variable NO_ALBUMENTATIONS_UPDATE to 1.\n",
            "  check_for_updates()\n"
          ]
        }
      ]
    },
    {
      "cell_type": "code",
      "source": [
        "def get_tranforms(image_size=(224,224)):\n",
        "  tranform_train = albumentations.Compose([\n",
        "      albumentations.HorizontalFlip(p=0.5),\n",
        "      albumentations.ImageCompression(quality_lower=99, quality_upper=100),\n",
        "      albumentations.ShiftScaleRotate(shift_limit=0.2,scale_limit=0.2,rotate_limit=10,border_mode=0,p=0.7),\n",
        "      # albumentations.Resize(image_size,image_size),\n",
        "      # albumentations.Cutout(max_h_size=int(image_size[0]*0.4),max_w_size=int(image_size[1]*0.4),num_holes=1,p=0.5),\n",
        "      albumentations.Normalize()\n",
        "  ])\n",
        "  tranform_val = albumentations.Compose([\n",
        "      albumentations.HorizontalFlip(p=0.5),\n",
        "      albumentations.ImageCompression(quality_lower=99, quality_upper=100),\n",
        "      albumentations.ShiftScaleRotate(shift_limit=0.2,scale_limit=0.2,rotate_limit=10,border_mode=0,p=0.7),\n",
        "      # albumentations.Resize(image_size,image_size),\n",
        "      # albumentations.Cutout(max_h_size=int(image_size[0]*0.4),max_w_size=int(image_size[1]*0.4),num_holes=1,p=0.5),\n",
        "      albumentations.Normalize()\n",
        "  ])\n",
        "  return tranform_train, tranform_val\n"
      ],
      "metadata": {
        "id": "qPtvhhw_3e6D"
      },
      "execution_count": null,
      "outputs": []
    },
    {
      "cell_type": "code",
      "source": [
        "tranforms_train,transforms_val = get_tranforms()"
      ],
      "metadata": {
        "id": "GseIZG834pJ_"
      },
      "execution_count": null,
      "outputs": []
    },
    {
      "cell_type": "code",
      "source": [
        "tranforms_train_data = DogCatDataset(root_dir='./small_dog_cat_dataset/train',transform=tranforms_train)\n",
        "tranforms_test_data = DogCatDataset(root_dir='./small_dog_cat_dataset/test',transform=transforms_val)"
      ],
      "metadata": {
        "id": "R1C_f35-4wtU"
      },
      "execution_count": null,
      "outputs": []
    },
    {
      "cell_type": "code",
      "source": [
        "train_data_loader = DataLoader(tranforms_train_data,batch_size=32,shuffle=True)\n",
        "test_data_loader = DataLoader(tranforms_test_data,batch_size=32,shuffle=True)"
      ],
      "metadata": {
        "id": "8CIxD3A948ys"
      },
      "execution_count": null,
      "outputs": []
    },
    {
      "cell_type": "markdown",
      "source": [
        "Ensembel model"
      ],
      "metadata": {
        "id": "r4D2y8i05EUc"
      }
    },
    {
      "cell_type": "code",
      "source": [
        "class EnsembelModel(nn.Module):\n",
        "  def __init__ (self,num_classes=2, pretrained= False):\n",
        "    super(EnsembelModel,self).__init__()\n",
        "    self.model_b0 = timm.create_model('efficientnet_b0',pretrained=pretrained,drop_path_rate=0.2)\n",
        "    self.model_b2 = timm.create_model('efficientnet_b2',pretrained=pretrained,drop_path_rate=0.2)\n",
        "\n",
        "    self.dense1 = nn.Linear(1280,512)\n",
        "    self.dense2 = nn.Linear(1408,512)\n",
        "\n",
        "    self.classifier = nn.Linear(512,num_classes)\n",
        "\n",
        "  def mixup_one_target(self,x1,x2,alpha=0.1,is_bias=False):\n",
        "    ''' Returns mixed inputs, mixed targets, and lamda '''\n",
        "    if alpha > 0:\n",
        "      lam = np.random.beta(alpha, alpha)\n",
        "    else:\n",
        "      lam = 1\n",
        "    if is_bias:\n",
        "      lam = max(lam,1-lam)\n",
        "\n",
        "    mixed_x = lam * x1 + (1 - lam) * x2\n",
        "    return mixed_x\n",
        "  def forward(self,x):\n",
        "    x1 = self.model_b0.forward_features(x)\n",
        "    x2 = self.model_b2.forward_features(x)\n",
        "\n",
        "    x1 = F.avg_pool2d(x1,7)\n",
        "    x2 = F.avg_pool2d(x2,7)\n",
        "\n",
        "    x1 = x1.view(x1.size(0),-1)\n",
        "    x2 = x2.view(x2.size(0),-1)\n",
        "\n",
        "    x1 = self.dense1(x1)\n",
        "    x2 = self.dense2(x2)\n",
        "\n",
        "    x = self.mixup_one_target(x2,x1,alpha=0.5,is_bias=True)\n",
        "    x = self.classifier(x)\n",
        "    return x\n",
        "\n"
      ],
      "metadata": {
        "id": "89d90QAW5DAC"
      },
      "execution_count": null,
      "outputs": []
    },
    {
      "cell_type": "code",
      "source": [
        "device = torch.device(\"cuda\" if torch.cuda.is_available() else \"cpu\")\n",
        "device"
      ],
      "metadata": {
        "colab": {
          "base_uri": "https://localhost:8080/"
        },
        "id": "qolaPATI7FsT",
        "outputId": "02386d2a-8e7f-438f-cd20-eff71b67565b"
      },
      "execution_count": null,
      "outputs": [
        {
          "output_type": "execute_result",
          "data": {
            "text/plain": [
              "device(type='cuda')"
            ]
          },
          "metadata": {},
          "execution_count": 15
        }
      ]
    },
    {
      "cell_type": "code",
      "source": [
        "model = EnsembelModel(num_classes=2,pretrained=True)\n",
        "model = model.to(device)"
      ],
      "metadata": {
        "colab": {
          "base_uri": "https://localhost:8080/"
        },
        "id": "fLsY1LSJ7IyM",
        "outputId": "8f59316f-eb2f-492a-b813-6081d6219023"
      },
      "execution_count": null,
      "outputs": [
        {
          "output_type": "stream",
          "name": "stderr",
          "text": [
            "/usr/local/lib/python3.10/dist-packages/huggingface_hub/utils/_token.py:89: UserWarning: \n",
            "The secret `HF_TOKEN` does not exist in your Colab secrets.\n",
            "To authenticate with the Hugging Face Hub, create a token in your settings tab (https://huggingface.co/settings/tokens), set it as secret in your Google Colab and restart your session.\n",
            "You will be able to reuse this secret in all of your notebooks.\n",
            "Please note that authentication is recommended but still optional to access public models or datasets.\n",
            "  warnings.warn(\n"
          ]
        }
      ]
    },
    {
      "cell_type": "code",
      "source": [
        "optimizer = torch.optim.Adam(model.parameters(),lr=1e-4)"
      ],
      "metadata": {
        "id": "oQytzc8k7N0U"
      },
      "execution_count": null,
      "outputs": []
    },
    {
      "cell_type": "code",
      "source": [
        "loss_fuction = nn.CrossEntropyLoss()\n",
        "model,optimizer,_ = training_loop(model,loss_fuction,optimizer,train_data_loader,test_data_loader,epochs=5,device=device)"
      ],
      "metadata": {
        "colab": {
          "base_uri": "https://localhost:8080/",
          "height": 668
        },
        "id": "qAYSPGgT7WDA",
        "outputId": "87d93b12-ecd1-43ff-c201-4a21730ee4df"
      },
      "execution_count": null,
      "outputs": [
        {
          "output_type": "stream",
          "name": "stdout",
          "text": [
            "Epoch: 1/5..  Training Loss: 0.006..  Training Acc: 99.100..  Valid Loss: 0.001..  Valid Acc: 98.500\n",
            "Epoch: 2/5..  Training Loss: 0.001..  Training Acc: 99.750..  Valid Loss: 0.001..  Valid Acc: 97.833\n",
            "Epoch: 3/5..  Training Loss: 0.001..  Training Acc: 99.850..  Valid Loss: 0.001..  Valid Acc: 98.667\n",
            "Epoch: 4/5..  Training Loss: 0.001..  Training Acc: 99.850..  Valid Loss: 0.001..  Valid Acc: 98.167\n",
            "Epoch: 5/5..  Training Loss: 0.001..  Training Acc: 100.000..  Valid Loss: 0.001..  Valid Acc: 98.667\n"
          ]
        },
        {
          "output_type": "stream",
          "name": "stderr",
          "text": [
            "<ipython-input-5-23f67acd9294>:5: MatplotlibDeprecationWarning: The seaborn styles shipped by Matplotlib are deprecated since 3.6, as they no longer correspond to the styles shipped by seaborn. However, they will remain available as 'seaborn-v0_8-<style>'. Alternatively, directly use the seaborn API instead.\n",
            "  plt.style.use('seaborn')\n"
          ]
        },
        {
          "output_type": "display_data",
          "data": {
            "text/plain": [
              "<Figure size 800x550 with 2 Axes>"
            ],
            "image/png": "[encoded data removed]"
          },
          "metadata": {}
        }
      ]
    }
  ]
}